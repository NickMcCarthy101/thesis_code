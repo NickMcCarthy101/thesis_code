{
 "cells": [
  {
   "cell_type": "markdown",
   "metadata": {},
   "source": [
    "**This notebook will try to implement the tensboard plots, along with the hyperparameter optimisation**"
   ]
  },
  {
   "cell_type": "code",
   "execution_count": 1,
   "metadata": {},
   "outputs": [
    {
     "data": {
      "text/html": [
       "        <script type=\"text/javascript\">\n",
       "        window.PlotlyConfig = {MathJaxConfig: 'local'};\n",
       "        if (window.MathJax) {MathJax.Hub.Config({SVG: {font: \"STIX-Web\"}});}\n",
       "        if (typeof require !== 'undefined') {\n",
       "        require.undef(\"plotly\");\n",
       "        requirejs.config({\n",
       "            paths: {\n",
       "                'plotly': ['https://cdn.plot.ly/plotly-latest.min']\n",
       "            }\n",
       "        });\n",
       "        require(['plotly'], function(Plotly) {\n",
       "            window._Plotly = Plotly;\n",
       "        });\n",
       "        }\n",
       "        </script>\n",
       "        "
      ]
     },
     "metadata": {},
     "output_type": "display_data"
    },
    {
     "name": "stdout",
     "output_type": "stream",
     "text": [
      "2019-08-13 08:43:25.008890\n",
      "trading_gym 0.8.1\n",
      "ray 0.7.2\n"
     ]
    }
   ],
   "source": [
    "import trading_gym\n",
    "from trading_gym.registry.gaia.v9.env import GAIAPredictorsContinuousV9\n",
    "from trading_gym.registry.gaia.v8.env import GAIAPredictorsContinuousV8\n",
    "from datetime import datetime\n",
    "from trading_gym.contracts import Cash\n",
    "from collections import namedtuple\n",
    "import json\n",
    "import tensorflow as tf\n",
    "import os\n",
    "import pandas as pd\n",
    "import ray\n",
    "print(datetime.now())\n",
    "print(trading_gym.__name__, trading_gym.__version__)\n",
    "print(ray.__name__, ray.__version__)"
   ]
  },
  {
   "cell_type": "code",
   "execution_count": 2,
   "metadata": {},
   "outputs": [],
   "source": [
    "import gym\n",
    "import numpy as np\n",
    "import stable_baselines\n",
    "from stable_baselines.ddpg.policies import MlpPolicy\n",
    "from stable_baselines.common.vec_env import DummyVecEnv, VecNormalize\n",
    "from stable_baselines.ddpg.noise import NormalActionNoise, OrnsteinUhlenbeckActionNoise, AdaptiveParamNoiseSpec\n",
    "from stable_baselines import DDPG"
   ]
  },
  {
   "cell_type": "code",
   "execution_count": 4,
   "metadata": {},
   "outputs": [
    {
     "data": {
      "text/plain": [
       "'/home/Nicholas/trading-gym/notebooks/trading-gym/walk-forward'"
      ]
     },
     "execution_count": 4,
     "metadata": {},
     "output_type": "execute_result"
    }
   ],
   "source": [
    "import os\n",
    "os.getcwd()"
   ]
  },
  {
   "cell_type": "code",
   "execution_count": 5,
   "metadata": {},
   "outputs": [],
   "source": [
    "import sys \n",
    "sys.path.insert(1,'/home/Nicholas/trading-gym/rl-baselines-zoo/utils')"
   ]
  },
  {
   "cell_type": "code",
   "execution_count": 6,
   "metadata": {},
   "outputs": [],
   "source": [
    "import utils\n",
    "# import "
   ]
  },
  {
   "cell_type": "code",
   "execution_count": 7,
   "metadata": {},
   "outputs": [],
   "source": [
    "from utils import make_env, ALGOS, linear_schedule, get_latest_run_id, get_wrapper_class\n",
    "from hyperparams_opt import hyperparam_optimization"
   ]
  },
  {
   "cell_type": "code",
   "execution_count": 8,
   "metadata": {},
   "outputs": [],
   "source": [
    "import numpy as np\n",
    "from stable_baselines.common.vec_env import SubprocVecEnv\n",
    "from stable_baselines import PPO2\n",
    "from stable_baselines.common.policies import MlpLnLstmPolicy\n",
    "import optuna"
   ]
  },
  {
   "cell_type": "code",
   "execution_count": 11,
   "metadata": {},
   "outputs": [],
   "source": [
    "n_cpu = 4\n",
    "\n",
    "\n",
    "def optimize_PPO(trial):\n",
    "    \"\"\" Learning hyperparamters we want to optimise\"\"\"\n",
    "    return {\n",
    "        'n_steps': int(trial.suggest_loguniform('n_steps', 16, 2048)),\n",
    "        'gamma': trial.suggest_loguniform('gamma', 0.9, 0.9999),\n",
    "        'learning_rate': trial.suggest_loguniform('learning_rate', 1e-5, 1.),\n",
    "        'ent_coef': trial.suggest_loguniform('ent_coef', 1e-8, 1e-1),\n",
    "        'cliprange': trial.suggest_uniform('cliprange', 0.1, 0.4),\n",
    "        'noptepochs': int(trial.suggest_loguniform('noptepochs', 1, 48)),\n",
    "        'lam': trial.suggest_uniform('lam', 0.8, 1.)\n",
    "    }\n",
    "\n",
    "def optimize_DDPG(trial):\n",
    "    \"\"\" Learning hyperparamters we want to optimise\"\"\"\n",
    "    n_actions = 2\n",
    "    return {\n",
    "        # the ones we won't optimise \n",
    "        \n",
    "        'action_noise': OrnsteinUhlenbeckActionNoise(mean=np.zeros(n_actions),\\\n",
    "                                                     sigma=float(0.5) * np.ones(n_actions)),\n",
    "        'param_noise': None, # AdaptiveParamNoiseSpec(initial_stddev=0.1, desired_action_stddev=0.1)\n",
    "\n",
    "        # ...and the ones we will\n",
    "        'nb_train_steps': int(trial.suggest_loguniform('n_steps', 16, 2048)),\n",
    "        'gamma': trial.suggest_loguniform('gamma', 0.8, 0.9999),\n",
    "        'actor_lr': trial.suggest_loguniform('learning_rate', 1e-5, 1.),\n",
    "        'critic_lr': trial.suggest_loguniform('learning_rate', 1e-5, 1.)\n",
    "    }\n",
    "\n",
    "\n",
    "\n",
    "def optimize_TD3(trial):\n",
    "    \"\"\" Learning hyperparamters we want to optimise\"\"\"\n",
    "    return {\n",
    "        # the ones we won't optimise \n",
    "        \n",
    "        \n",
    "        # ...and the ones wee will\n",
    "        'gamma': trial.suggest_loguniform('gamma', 0.9, 0.9999),\n",
    "        'learning_rate': trial.suggest_loguniform('learning_rate', 1e-5, 1.),\n",
    "        \n",
    "    }\n",
    "    "
   ]
  },
  {
   "cell_type": "code",
   "execution_count": 12,
   "metadata": {},
   "outputs": [],
   "source": [
    "# three different specific hyperparams for the agents that we won't change or try to optimize \n",
    "td3_hyparam = dict()\n",
    "td3_hyparam['policy'] = 'MlpPolicy'\n",
    "td3_hyparam['tensorboard_log'] = \"optuna_tensorboard/optuna_td3v9\"\n",
    "\n",
    "sac_hyparam = dict()\n",
    "sac_hyparam['policy'] = 'MlpPolicy'\n",
    "sac_hyparam['tensorboard_log'] = \"optuna_tensorboard/optuna_sacv9\"\n",
    "\n",
    "\n",
    "ddpg_hyparam = dict()\n",
    "ddpg_hyparam['policy'] = 'MlpPolicy'\n",
    "ddpg_hyparam['tensorboard_log'] = \"optuna_tensorboard/optuna_DDPGv9\""
   ]
  },
  {
   "cell_type": "code",
   "execution_count": null,
   "metadata": {},
   "outputs": [],
   "source": []
  },
  {
   "cell_type": "markdown",
   "metadata": {},
   "source": [
    "**IMPORTANT:\n",
    "One needs to choose the agent to optimize**\n"
   ]
  },
  {
   "cell_type": "code",
   "execution_count": 13,
   "metadata": {},
   "outputs": [],
   "source": [
    "# agent = 'sac'\n",
    "agent = 'ddpg'\n",
    "# agent = 'td3'"
   ]
  },
  {
   "cell_type": "code",
   "execution_count": 16,
   "metadata": {},
   "outputs": [],
   "source": [
    "def optimize_agent(trial):\n",
    "    \n",
    "    \"\"\" Train the model and optimise\n",
    "        Optuna maximises the negative log likelihood, so we\n",
    "        need to negate the reward here\n",
    "    \"\"\"\n",
    "    \n",
    "    env_config = dict()\n",
    "    env_config['folds'] =  {\n",
    "        'training-set': [datetime.min, datetime(2008, 3, 18)],\n",
    "        'test-set': [datetime(2008, 3, 19), datetime.max],\n",
    "    }\n",
    "    \n",
    "    env = GAIAPredictorsContinuousV9(env_config)\n",
    "    \n",
    "    # implement a way of getting MlpLnLstmPolicy in (and other policies)\n",
    "    if agent == 'sac':\n",
    "        model_params = optimize_SAC(trial)\n",
    "        env = SubprocVecEnv([lambda: env for i in range(n_cpu)])\n",
    "        model = SAC(sac_hyparam['policy'], env, verbose=0, **model_params)\n",
    "        \n",
    "        \n",
    "    if agent == 'ddpg':\n",
    "        model_params = optimize_DDPG(trial)\n",
    "        env = DummyVecEnv([lambda: env])\n",
    "        model = DDPG(ddpg_hyparam['policy'], env, verbose=0, **model_params)\n",
    "        \n",
    "        \n",
    "    if agent == 'td3': \n",
    "        model_params = optimize_TD3(trial)\n",
    "        env = DummyVecEnv([lambda: env])\n",
    "        model = TD3(td3_hyparam['policy'], env, verbose=0, **model_params)\n",
    "        \n",
    "    # note, depending on the model/agent, it may or may not allow for multiple vectorized environments. \n",
    "#     env = SubprocVecEnv([lambda: env for i in range(n_cpu)])\n",
    "    \n",
    "    # now let us let the model learn \n",
    "    print(\"Model now learning\")\n",
    "    model.learn(10000)\n",
    "    print(\"Model finished learning\")\n",
    "    \n",
    "    rewards = []\n",
    "    n_episodes, reward_sum = 0, 0.0\n",
    "    \n",
    "    print(\"Now some optimisation\")\n",
    "    obs = env.reset()\n",
    "    \n",
    "    # how many different episodes we want to run\n",
    "    while n_episodes < 4:\n",
    "        action, _ = model.predict(obs)\n",
    "        obs, reward, done, _ = env.step(action)\n",
    "        reward_sum += reward\n",
    "        \n",
    "        \n",
    "        if done:\n",
    "            rewards.append(reward_sum)\n",
    "            reward_sum = 0.0\n",
    "            n_episodes += 1\n",
    "            obs = env.reset()\n",
    "            print(\"Another episode done\")\n",
    "\n",
    "    last_reward = np.mean(rewards)\n",
    "    trial.report(-1 * last_reward)\n",
    "    \n",
    "    print(\"Finished\")\n",
    "    print(last_reward)\n",
    "    \n",
    "    return -1 * last_reward"
   ]
  },
  {
   "cell_type": "code",
   "execution_count": 17,
   "metadata": {
    "scrolled": true
   },
   "outputs": [
    {
     "name": "stdout",
     "output_type": "stream",
     "text": [
      "Model now learning\n",
      "Model now learning\n",
      "Model now learning\n",
      "Model now learning\n",
      "0.010627627\n"
     ]
    },
    {
     "name": "stderr",
     "output_type": "stream",
     "text": [
      "[I 2019-07-31 12:58:56,622] Finished trial#3 resulted in value: -0.0106276273727417. Current best value is -0.0106276273727417 with parameters: {'n_steps': 51.784331509268064, 'gamma': 0.8058968754328775, 'learning_rate': 0.13227274109917356}.\n"
     ]
    },
    {
     "name": "stdout",
     "output_type": "stream",
     "text": [
      "0.013625093\n"
     ]
    },
    {
     "name": "stderr",
     "output_type": "stream",
     "text": [
      "[I 2019-07-31 13:04:41,459] Finished trial#1 resulted in value: -0.013625092804431915. Current best value is -0.013625092804431915 with parameters: {'n_steps': 84.51897871253432, 'gamma': 0.9680524288547906, 'learning_rate': 3.116774334972532e-05}.\n"
     ]
    },
    {
     "name": "stdout",
     "output_type": "stream",
     "text": [
      "Model finished learning\n",
      "Now some optimisation\n",
      "Finished\n",
      "0.0075587993\n"
     ]
    },
    {
     "name": "stderr",
     "output_type": "stream",
     "text": [
      "[I 2019-07-31 13:19:27,038] Finished trial#2 resulted in value: -0.007558799348771572. Current best value is -0.007558799348771572 with parameters: {'n_steps': 106.59185421926038, 'gamma': 0.9556208912146325, 'learning_rate': 0.0017190729815035376}.\n"
     ]
    },
    {
     "name": "stdout",
     "output_type": "stream",
     "text": [
      "Model now learning\n",
      "0.009890923\n"
     ]
    },
    {
     "name": "stderr",
     "output_type": "stream",
     "text": [
      "[I 2019-07-31 13:41:17,707] Finished trial#4 resulted in value: -0.009890923276543617. Current best value is -0.013625092804431915 with parameters: {'n_steps': 84.51897871253432, 'gamma': 0.9680524288547906, 'learning_rate': 3.116774334972532e-05}.\n"
     ]
    },
    {
     "name": "stdout",
     "output_type": "stream",
     "text": [
      "Model finished learning\n",
      "Now some optimisation\n",
      "Finished\n",
      "0.0021606819\n"
     ]
    },
    {
     "name": "stderr",
     "output_type": "stream",
     "text": [
      "[I 2019-07-31 13:42:10,069] Finished trial#1 resulted in value: -0.002160681877285242. Current best value is -0.007558799348771572 with parameters: {'n_steps': 106.59185421926038, 'gamma': 0.9556208912146325, 'learning_rate': 0.0017190729815035376}.\n"
     ]
    },
    {
     "name": "stdout",
     "output_type": "stream",
     "text": [
      "Model now learning\n",
      "Model finished learning\n",
      "Now some optimisation\n",
      "Finished\n",
      "-0.010025506\n"
     ]
    },
    {
     "name": "stderr",
     "output_type": "stream",
     "text": [
      "[I 2019-07-31 13:58:08,377] Finished trial#5 resulted in value: 0.010025505907833576. Current best value is -0.007558799348771572 with parameters: {'n_steps': 106.59185421926038, 'gamma': 0.9556208912146325, 'learning_rate': 0.0017190729815035376}.\n"
     ]
    },
    {
     "name": "stdout",
     "output_type": "stream",
     "text": [
      "Model now learning\n",
      "0.011284121\n"
     ]
    },
    {
     "name": "stderr",
     "output_type": "stream",
     "text": [
      "[I 2019-07-31 14:04:16,804] Finished trial#5 resulted in value: -0.011284121312201023. Current best value is -0.013625092804431915 with parameters: {'n_steps': 84.51897871253432, 'gamma': 0.9680524288547906, 'learning_rate': 3.116774334972532e-05}.\n"
     ]
    },
    {
     "name": "stdout",
     "output_type": "stream",
     "text": [
      "0.015605375\n"
     ]
    },
    {
     "name": "stderr",
     "output_type": "stream",
     "text": [
      "[I 2019-07-31 14:12:58,836] Finished trial#2 resulted in value: -0.015605375170707703. Current best value is -0.015605375170707703 with parameters: {'n_steps': 454.292257323849, 'gamma': 0.8014623567760361, 'learning_rate': 0.07608891335675509}.\n"
     ]
    },
    {
     "name": "stdout",
     "output_type": "stream",
     "text": [
      "Model finished learning\n",
      "Now some optimisation\n",
      "Finished\n",
      "0.014398493\n"
     ]
    },
    {
     "name": "stderr",
     "output_type": "stream",
     "text": [
      "[I 2019-07-31 14:35:34,524] Finished trial#6 resulted in value: -0.014398492872714996. Current best value is -0.014398492872714996 with parameters: {'n_steps': 205.10846898821129, 'gamma': 0.9513540303355392, 'learning_rate': 0.024938744617321807}.\n"
     ]
    },
    {
     "name": "stdout",
     "output_type": "stream",
     "text": [
      "Model now learning\n",
      "-0.0019536298\n"
     ]
    },
    {
     "name": "stderr",
     "output_type": "stream",
     "text": [
      "[I 2019-07-31 14:51:29,961] Finished trial#7 resulted in value: 0.0019536297768354416. Current best value is -0.015605375170707703 with parameters: {'n_steps': 454.292257323849, 'gamma': 0.8014623567760361, 'learning_rate': 0.07608891335675509}.\n"
     ]
    },
    {
     "name": "stdout",
     "output_type": "stream",
     "text": [
      "Model finished learning\n",
      "Now some optimisation\n",
      "Finished\n",
      "0.0031938595\n"
     ]
    },
    {
     "name": "stderr",
     "output_type": "stream",
     "text": [
      "[I 2019-07-31 14:56:47,015] Finished trial#7 resulted in value: -0.003193859476596117. Current best value is -0.014398492872714996 with parameters: {'n_steps': 205.10846898821129, 'gamma': 0.9513540303355392, 'learning_rate': 0.024938744617321807}.\n"
     ]
    },
    {
     "name": "stdout",
     "output_type": "stream",
     "text": [
      "Model now learning\n",
      "0.0038130987\n"
     ]
    },
    {
     "name": "stderr",
     "output_type": "stream",
     "text": [
      "[I 2019-07-31 15:04:04,517] Finished trial#6 resulted in value: -0.0038130986504256725. Current best value is -0.015605375170707703 with parameters: {'n_steps': 454.292257323849, 'gamma': 0.8014623567760361, 'learning_rate': 0.07608891335675509}.\n"
     ]
    },
    {
     "name": "stdout",
     "output_type": "stream",
     "text": [
      "---------------------------------------\n",
      "| reference_Q_mean        | -0.00409  |\n",
      "| reference_Q_std         | 4.66e-10  |\n",
      "| reference_action_mean   | -1        |\n",
      "| reference_action_std    | 0         |\n",
      "| reference_actor_Q_mean  | -0.00409  |\n",
      "| reference_actor_Q_std   | 4.66e-10  |\n",
      "| rollout/Q_mean          | -0.0218   |\n",
      "| rollout/actions_mean    | -0.898    |\n",
      "| rollout/actions_std     | 0.177     |\n",
      "| rollout/episode_steps   | 41        |\n",
      "| rollout/episodes        | 243       |\n",
      "| rollout/return          | -0.000184 |\n",
      "| rollout/return_history  | -0.00031  |\n",
      "| total/duration          | 817       |\n",
      "| total/episodes          | 243       |\n",
      "| total/epochs            | 1         |\n",
      "| total/steps             | 9999      |\n",
      "| total/steps_per_second  | 12.2      |\n",
      "| train/loss_actor        | 0.00761   |\n",
      "| train/loss_critic       | 1.25e-05  |\n",
      "| train/param_noise_di... | 0         |\n",
      "---------------------------------------\n",
      "\n",
      "Model finished learning\n",
      "Now some optimisation\n",
      "Finished\n",
      "0.0\n"
     ]
    },
    {
     "name": "stderr",
     "output_type": "stream",
     "text": [
      "[I 2019-07-31 15:10:38,410] Finished trial#8 resulted in value: -0.0. Current best value is -0.014398492872714996 with parameters: {'n_steps': 205.10846898821129, 'gamma': 0.9513540303355392, 'learning_rate': 0.024938744617321807}.\n"
     ]
    },
    {
     "name": "stdout",
     "output_type": "stream",
     "text": [
      "Model now learning\n",
      "Model finished learning\n",
      "Now some optimisation\n",
      "Finished\n",
      "-0.007970166\n"
     ]
    },
    {
     "name": "stderr",
     "output_type": "stream",
     "text": [
      "[I 2019-07-31 15:20:42,962] Finished trial#9 resulted in value: 0.007970166392624378. Current best value is -0.014398492872714996 with parameters: {'n_steps': 205.10846898821129, 'gamma': 0.9513540303355392, 'learning_rate': 0.024938744617321807}.\n"
     ]
    },
    {
     "name": "stdout",
     "output_type": "stream",
     "text": [
      "Model now learning\n",
      "Model finished learning\n",
      "Now some optimisation\n",
      "Finished\n",
      "0.025454141\n"
     ]
    },
    {
     "name": "stderr",
     "output_type": "stream",
     "text": [
      "[I 2019-07-31 15:30:37,234] Finished trial#0 resulted in value: -0.025454141199588776. Current best value is -0.025454141199588776 with parameters: {'n_steps': 1023.8039301211427, 'gamma': 0.8792849887253174, 'learning_rate': 0.016986024402197635}.\n"
     ]
    },
    {
     "name": "stdout",
     "output_type": "stream",
     "text": [
      "Model now learning\n",
      "Model finished learning\n",
      "Now some optimisation\n",
      "Finished\n",
      "0.0063992897\n"
     ]
    },
    {
     "name": "stderr",
     "output_type": "stream",
     "text": [
      "[I 2019-07-31 15:55:45,431] Finished trial#10 resulted in value: -0.006399289704859257. Current best value is -0.025454141199588776 with parameters: {'n_steps': 1023.8039301211427, 'gamma': 0.8792849887253174, 'learning_rate': 0.016986024402197635}.\n"
     ]
    },
    {
     "name": "stdout",
     "output_type": "stream",
     "text": [
      "Model now learning\n",
      "Model finished learning\n",
      "Now some optimisation\n",
      "Finished\n",
      "0.0026028154\n"
     ]
    },
    {
     "name": "stderr",
     "output_type": "stream",
     "text": [
      "[I 2019-07-31 16:02:04,876] Finished trial#12 resulted in value: -0.002602815395221114. Current best value is -0.025454141199588776 with parameters: {'n_steps': 1023.8039301211427, 'gamma': 0.8792849887253174, 'learning_rate': 0.016986024402197635}.\n"
     ]
    },
    {
     "name": "stdout",
     "output_type": "stream",
     "text": [
      "Model now learning\n",
      "0.00732785\n"
     ]
    },
    {
     "name": "stderr",
     "output_type": "stream",
     "text": [
      "[I 2019-07-31 16:09:42,942] Finished trial#0 resulted in value: -0.007327849976718426. Current best value is -0.015605375170707703 with parameters: {'n_steps': 454.292257323849, 'gamma': 0.8014623567760361, 'learning_rate': 0.07608891335675509}.\n"
     ]
    },
    {
     "name": "stdout",
     "output_type": "stream",
     "text": [
      "Model finished learning\n",
      "Now some optimisation\n",
      "Finished\n",
      "0.002478499\n"
     ]
    },
    {
     "name": "stderr",
     "output_type": "stream",
     "text": [
      "[I 2019-07-31 16:30:17,866] Finished trial#4 resulted in value: -0.0024784989655017853. Current best value is -0.025454141199588776 with parameters: {'n_steps': 1023.8039301211427, 'gamma': 0.8792849887253174, 'learning_rate': 0.016986024402197635}.\n"
     ]
    },
    {
     "name": "stdout",
     "output_type": "stream",
     "text": [
      "Model now learning\n",
      "Model finished learning\n",
      "Now some optimisation\n",
      "Finished\n",
      "-0.00014639739\n"
     ]
    },
    {
     "name": "stderr",
     "output_type": "stream",
     "text": [
      "[I 2019-07-31 16:48:01,516] Finished trial#3 resulted in value: 0.00014639738947153091. Current best value is -0.025454141199588776 with parameters: {'n_steps': 1023.8039301211427, 'gamma': 0.8792849887253174, 'learning_rate': 0.016986024402197635}.\n"
     ]
    },
    {
     "name": "stdout",
     "output_type": "stream",
     "text": [
      "Model now learning\n",
      "Model finished learning\n",
      "Now some optimisation\n",
      "Finished\n",
      "0.017278183\n"
     ]
    },
    {
     "name": "stderr",
     "output_type": "stream",
     "text": [
      "[I 2019-07-31 17:31:35,593] Finished trial#11 resulted in value: -0.01727818325161934. Current best value is -0.025454141199588776 with parameters: {'n_steps': 1023.8039301211427, 'gamma': 0.8792849887253174, 'learning_rate': 0.016986024402197635}.\n"
     ]
    },
    {
     "name": "stdout",
     "output_type": "stream",
     "text": [
      "Model now learning\n",
      "Model finished learning\n",
      "Now some optimisation\n",
      "Finished\n",
      "0.0023173061\n"
     ]
    },
    {
     "name": "stderr",
     "output_type": "stream",
     "text": [
      "[I 2019-07-31 17:40:46,153] Finished trial#13 resulted in value: -0.0023173061199486256. Current best value is -0.025454141199588776 with parameters: {'n_steps': 1023.8039301211427, 'gamma': 0.8792849887253174, 'learning_rate': 0.016986024402197635}.\n"
     ]
    },
    {
     "name": "stdout",
     "output_type": "stream",
     "text": [
      "Model now learning\n",
      "Model finished learning\n",
      "Now some optimisation\n",
      "Finished\n",
      "0.0035207348\n"
     ]
    },
    {
     "name": "stderr",
     "output_type": "stream",
     "text": [
      "[I 2019-07-31 17:42:48,594] Finished trial#15 resulted in value: -0.003520734841004014. Current best value is -0.025454141199588776 with parameters: {'n_steps': 1023.8039301211427, 'gamma': 0.8792849887253174, 'learning_rate': 0.016986024402197635}.\n"
     ]
    },
    {
     "name": "stdout",
     "output_type": "stream",
     "text": [
      "Model now learning\n",
      "Model finished learning\n",
      "Now some optimisation\n",
      "Finished\n",
      "0.026609816\n"
     ]
    },
    {
     "name": "stderr",
     "output_type": "stream",
     "text": [
      "[I 2019-07-31 18:27:18,424] Finished trial#16 resulted in value: -0.026609815657138824. Current best value is -0.026609815657138824 with parameters: {'n_steps': 719.4859693572113, 'gamma': 0.9121175921017415, 'learning_rate': 0.02947990731248775}.\n"
     ]
    },
    {
     "name": "stdout",
     "output_type": "stream",
     "text": [
      "Model finished learning\n",
      "Now some optimisation\n",
      "Model now learning\n",
      "Finished\n",
      "0.0070064673\n"
     ]
    },
    {
     "name": "stderr",
     "output_type": "stream",
     "text": [
      "[I 2019-07-31 18:27:34,038] Finished trial#17 resulted in value: -0.007006467320024967. Current best value is -0.026609815657138824 with parameters: {'n_steps': 719.4859693572113, 'gamma': 0.9121175921017415, 'learning_rate': 0.02947990731248775}.\n"
     ]
    },
    {
     "name": "stdout",
     "output_type": "stream",
     "text": [
      "Model now learning\n",
      "Model finished learning\n",
      "Now some optimisation\n",
      "Finished\n",
      "0.0070101945\n"
     ]
    },
    {
     "name": "stderr",
     "output_type": "stream",
     "text": [
      "[I 2019-07-31 18:32:09,438] Finished trial#14 resulted in value: -0.007010194472968578. Current best value is -0.026609815657138824 with parameters: {'n_steps': 719.4859693572113, 'gamma': 0.9121175921017415, 'learning_rate': 0.02947990731248775}.\n"
     ]
    },
    {
     "name": "stdout",
     "output_type": "stream",
     "text": [
      "Model now learning\n",
      "Model finished learning\n",
      "Now some optimisation\n",
      "Finished\n",
      "0.010863065\n"
     ]
    },
    {
     "name": "stderr",
     "output_type": "stream",
     "text": [
      "[I 2019-07-31 18:34:40,488] Finished trial#18 resulted in value: -0.010863064788281918. Current best value is -0.026609815657138824 with parameters: {'n_steps': 719.4859693572113, 'gamma': 0.9121175921017415, 'learning_rate': 0.02947990731248775}.\n"
     ]
    },
    {
     "name": "stdout",
     "output_type": "stream",
     "text": [
      "Model now learning\n",
      "Model finished learning\n",
      "Now some optimisation\n",
      "Finished\n",
      "0.006191739\n"
     ]
    },
    {
     "name": "stderr",
     "output_type": "stream",
     "text": [
      "[I 2019-07-31 19:09:26,334] Finished trial#19 resulted in value: -0.00619173888117075. Current best value is -0.026609815657138824 with parameters: {'n_steps': 719.4859693572113, 'gamma': 0.9121175921017415, 'learning_rate': 0.02947990731248775}.\n"
     ]
    },
    {
     "name": "stdout",
     "output_type": "stream",
     "text": [
      "Model now learning\n",
      "Model finished learning\n",
      "Now some optimisation\n",
      "Finished\n",
      "0.01320868\n"
     ]
    },
    {
     "name": "stderr",
     "output_type": "stream",
     "text": [
      "[I 2019-07-31 19:28:21,684] Finished trial#20 resulted in value: -0.013208679854869843. Current best value is -0.026609815657138824 with parameters: {'n_steps': 719.4859693572113, 'gamma': 0.9121175921017415, 'learning_rate': 0.02947990731248775}.\n"
     ]
    },
    {
     "name": "stdout",
     "output_type": "stream",
     "text": [
      "Model now learning\n",
      "Model finished learning\n",
      "Now some optimisation\n",
      "Finished\n",
      "0.0\n"
     ]
    },
    {
     "name": "stderr",
     "output_type": "stream",
     "text": [
      "[I 2019-07-31 19:29:09,615] Finished trial#21 resulted in value: -0.0. Current best value is -0.026609815657138824 with parameters: {'n_steps': 719.4859693572113, 'gamma': 0.9121175921017415, 'learning_rate': 0.02947990731248775}.\n"
     ]
    },
    {
     "name": "stdout",
     "output_type": "stream",
     "text": [
      "Model now learning\n",
      "Model finished learning\n",
      "Now some optimisation\n",
      "Finished\n",
      "0.007806477\n"
     ]
    },
    {
     "name": "stderr",
     "output_type": "stream",
     "text": [
      "[I 2019-07-31 19:47:50,597] Finished trial#22 resulted in value: -0.007806477136909962. Current best value is -0.026609815657138824 with parameters: {'n_steps': 719.4859693572113, 'gamma': 0.9121175921017415, 'learning_rate': 0.02947990731248775}.\n"
     ]
    },
    {
     "name": "stdout",
     "output_type": "stream",
     "text": [
      "Model now learning\n",
      "Model finished learning\n",
      "Now some optimisation\n",
      "Finished\n",
      "-0.002558805\n"
     ]
    },
    {
     "name": "stderr",
     "output_type": "stream",
     "text": [
      "[I 2019-07-31 19:55:12,551] Finished trial#24 resulted in value: 0.0025588050484657288. Current best value is -0.026609815657138824 with parameters: {'n_steps': 719.4859693572113, 'gamma': 0.9121175921017415, 'learning_rate': 0.02947990731248775}.\n"
     ]
    },
    {
     "name": "stdout",
     "output_type": "stream",
     "text": [
      "Model now learning\n",
      "Model finished learning\n",
      "Now some optimisation\n",
      "Finished\n",
      "-0.008329334\n"
     ]
    },
    {
     "name": "stderr",
     "output_type": "stream",
     "text": [
      "[I 2019-07-31 20:16:31,320] Finished trial#26 resulted in value: 0.008329333737492561. Current best value is -0.026609815657138824 with parameters: {'n_steps': 719.4859693572113, 'gamma': 0.9121175921017415, 'learning_rate': 0.02947990731248775}.\n"
     ]
    },
    {
     "name": "stdout",
     "output_type": "stream",
     "text": [
      "Model now learning\n",
      "Model finished learning\n",
      "Now some optimisation\n",
      "Finished\n",
      "0.008417244\n"
     ]
    },
    {
     "name": "stderr",
     "output_type": "stream",
     "text": [
      "[I 2019-07-31 20:20:00,721] Finished trial#23 resulted in value: -0.00841724406927824. Current best value is -0.026609815657138824 with parameters: {'n_steps': 719.4859693572113, 'gamma': 0.9121175921017415, 'learning_rate': 0.02947990731248775}.\n"
     ]
    },
    {
     "name": "stdout",
     "output_type": "stream",
     "text": [
      "Model now learning\n",
      "Model finished learning\n",
      "Now some optimisation\n",
      "Finished\n",
      "0.00847396\n"
     ]
    },
    {
     "name": "stderr",
     "output_type": "stream",
     "text": [
      "[I 2019-07-31 20:26:09,217] Finished trial#29 resulted in value: -0.008473959751427174. Current best value is -0.026609815657138824 with parameters: {'n_steps': 719.4859693572113, 'gamma': 0.9121175921017415, 'learning_rate': 0.02947990731248775}.\n"
     ]
    },
    {
     "name": "stdout",
     "output_type": "stream",
     "text": [
      "Model now learning\n",
      "Model finished learning\n",
      "Now some optimisation\n",
      "Finished\n",
      "0.00029426673\n"
     ]
    },
    {
     "name": "stderr",
     "output_type": "stream",
     "text": [
      "[I 2019-07-31 20:49:46,067] Finished trial#25 resulted in value: -0.0002942667342722416. Current best value is -0.026609815657138824 with parameters: {'n_steps': 719.4859693572113, 'gamma': 0.9121175921017415, 'learning_rate': 0.02947990731248775}.\n"
     ]
    },
    {
     "name": "stdout",
     "output_type": "stream",
     "text": [
      "Model now learning\n",
      "Model finished learning\n",
      "Now some optimisation\n",
      "Finished\n",
      "0.011758592\n"
     ]
    },
    {
     "name": "stderr",
     "output_type": "stream",
     "text": [
      "[I 2019-07-31 21:01:17,744] Finished trial#30 resulted in value: -0.01175859197974205. Current best value is -0.026609815657138824 with parameters: {'n_steps': 719.4859693572113, 'gamma': 0.9121175921017415, 'learning_rate': 0.02947990731248775}.\n"
     ]
    },
    {
     "name": "stdout",
     "output_type": "stream",
     "text": [
      "Model now learning\n",
      "Model finished learning\n",
      "Now some optimisation\n",
      "Finished\n",
      "0.009053696\n"
     ]
    },
    {
     "name": "stderr",
     "output_type": "stream",
     "text": [
      "[I 2019-07-31 21:15:31,727] Finished trial#27 resulted in value: -0.009053695946931839. Current best value is -0.026609815657138824 with parameters: {'n_steps': 719.4859693572113, 'gamma': 0.9121175921017415, 'learning_rate': 0.02947990731248775}.\n"
     ]
    },
    {
     "name": "stdout",
     "output_type": "stream",
     "text": [
      "Model now learning\n",
      "Model finished learning\n",
      "Now some optimisation\n",
      "Finished\n",
      "0.005937174\n"
     ]
    },
    {
     "name": "stderr",
     "output_type": "stream",
     "text": [
      "[I 2019-07-31 21:24:34,681] Finished trial#31 resulted in value: -0.005937173962593079. Current best value is -0.026609815657138824 with parameters: {'n_steps': 719.4859693572113, 'gamma': 0.9121175921017415, 'learning_rate': 0.02947990731248775}.\n"
     ]
    },
    {
     "name": "stdout",
     "output_type": "stream",
     "text": [
      "Model now learning\n",
      "Model finished learning\n",
      "Now some optimisation\n",
      "Finished\n",
      "0.0\n"
     ]
    },
    {
     "name": "stderr",
     "output_type": "stream",
     "text": [
      "[I 2019-07-31 21:26:38,140] Finished trial#32 resulted in value: -0.0. Current best value is -0.026609815657138824 with parameters: {'n_steps': 719.4859693572113, 'gamma': 0.9121175921017415, 'learning_rate': 0.02947990731248775}.\n"
     ]
    },
    {
     "name": "stdout",
     "output_type": "stream",
     "text": [
      "Model now learning\n",
      "Model finished learning\n",
      "Now some optimisation\n",
      "Finished\n",
      "-0.0076346146\n"
     ]
    },
    {
     "name": "stderr",
     "output_type": "stream",
     "text": [
      "[I 2019-07-31 21:36:45,845] Finished trial#33 resulted in value: 0.00763461459428072. Current best value is -0.026609815657138824 with parameters: {'n_steps': 719.4859693572113, 'gamma': 0.9121175921017415, 'learning_rate': 0.02947990731248775}.\n"
     ]
    },
    {
     "name": "stdout",
     "output_type": "stream",
     "text": [
      "Model now learning\n",
      "Model finished learning\n",
      "Now some optimisation\n",
      "Finished\n",
      "-0.009582775\n"
     ]
    },
    {
     "name": "stderr",
     "output_type": "stream",
     "text": [
      "[I 2019-07-31 21:40:26,713] Finished trial#28 resulted in value: 0.009582774713635445. Current best value is -0.026609815657138824 with parameters: {'n_steps': 719.4859693572113, 'gamma': 0.9121175921017415, 'learning_rate': 0.02947990731248775}.\n"
     ]
    },
    {
     "name": "stdout",
     "output_type": "stream",
     "text": [
      "Model now learning\n",
      "Model finished learning\n",
      "Now some optimisation\n",
      "Finished\n",
      "-0.0018031509\n"
     ]
    },
    {
     "name": "stderr",
     "output_type": "stream",
     "text": [
      "[I 2019-07-31 21:45:25,439] Finished trial#34 resulted in value: 0.0018031508661806583. Current best value is -0.026609815657138824 with parameters: {'n_steps': 719.4859693572113, 'gamma': 0.9121175921017415, 'learning_rate': 0.02947990731248775}.\n"
     ]
    },
    {
     "name": "stdout",
     "output_type": "stream",
     "text": [
      "Model now learning\n",
      "Model finished learning\n",
      "Now some optimisation\n",
      "Finished\n",
      "-0.0082506\n"
     ]
    },
    {
     "name": "stderr",
     "output_type": "stream",
     "text": [
      "[I 2019-07-31 21:55:17,952] Finished trial#37 resulted in value: 0.008250599727034569. Current best value is -0.026609815657138824 with parameters: {'n_steps': 719.4859693572113, 'gamma': 0.9121175921017415, 'learning_rate': 0.02947990731248775}.\n"
     ]
    },
    {
     "name": "stdout",
     "output_type": "stream",
     "text": [
      "Model now learning\n",
      "Model finished learning\n",
      "Now some optimisation\n",
      "Finished\n",
      "0.0136313755\n"
     ]
    },
    {
     "name": "stderr",
     "output_type": "stream",
     "text": [
      "[I 2019-07-31 23:54:46,807] Finished trial#35 resulted in value: -0.013631375506520271. Current best value is -0.026609815657138824 with parameters: {'n_steps': 719.4859693572113, 'gamma': 0.9121175921017415, 'learning_rate': 0.02947990731248775}.\n"
     ]
    },
    {
     "name": "stdout",
     "output_type": "stream",
     "text": [
      "Model now learning\n",
      "Model finished learning\n",
      "Now some optimisation\n",
      "Finished\n",
      "0.01139902\n"
     ]
    },
    {
     "name": "stderr",
     "output_type": "stream",
     "text": [
      "[I 2019-07-31 23:55:25,822] Finished trial#38 resulted in value: -0.011399020440876484. Current best value is -0.026609815657138824 with parameters: {'n_steps': 719.4859693572113, 'gamma': 0.9121175921017415, 'learning_rate': 0.02947990731248775}.\n"
     ]
    },
    {
     "name": "stdout",
     "output_type": "stream",
     "text": [
      "Model now learning\n",
      "Model finished learning\n",
      "Now some optimisation\n",
      "Finished\n",
      "-0.00018488552\n"
     ]
    },
    {
     "name": "stderr",
     "output_type": "stream",
     "text": [
      "[I 2019-07-31 23:59:36,416] Finished trial#40 resulted in value: 0.00018488551722839475. Current best value is -0.026609815657138824 with parameters: {'n_steps': 719.4859693572113, 'gamma': 0.9121175921017415, 'learning_rate': 0.02947990731248775}.\n"
     ]
    },
    {
     "name": "stdout",
     "output_type": "stream",
     "text": [
      "Model now learning\n",
      "Model finished learning\n",
      "Now some optimisation\n",
      "Finished\n",
      "-0.002799029\n"
     ]
    },
    {
     "name": "stderr",
     "output_type": "stream",
     "text": [
      "[I 2019-08-01 00:05:34,985] Finished trial#36 resulted in value: 0.0027990289963781834. Current best value is -0.026609815657138824 with parameters: {'n_steps': 719.4859693572113, 'gamma': 0.9121175921017415, 'learning_rate': 0.02947990731248775}.\n"
     ]
    },
    {
     "name": "stdout",
     "output_type": "stream",
     "text": [
      "Model now learning\n",
      "Model finished learning\n",
      "Now some optimisation\n",
      "Finished\n",
      "-0.0012793238\n"
     ]
    },
    {
     "name": "stderr",
     "output_type": "stream",
     "text": [
      "[I 2019-08-01 00:10:30,712] Finished trial#42 resulted in value: 0.0012793238274753094. Current best value is -0.026609815657138824 with parameters: {'n_steps': 719.4859693572113, 'gamma': 0.9121175921017415, 'learning_rate': 0.02947990731248775}.\n"
     ]
    },
    {
     "name": "stdout",
     "output_type": "stream",
     "text": [
      "Model now learning\n",
      "Model finished learning\n",
      "Now some optimisation\n",
      "Finished\n",
      "0.0012823422\n"
     ]
    },
    {
     "name": "stderr",
     "output_type": "stream",
     "text": [
      "[I 2019-08-01 00:12:10,481] Finished trial#41 resulted in value: -0.0012823422439396381. Current best value is -0.026609815657138824 with parameters: {'n_steps': 719.4859693572113, 'gamma': 0.9121175921017415, 'learning_rate': 0.02947990731248775}.\n"
     ]
    },
    {
     "name": "stdout",
     "output_type": "stream",
     "text": [
      "Model now learning\n",
      "Model finished learning\n",
      "Now some optimisation\n",
      "Finished\n",
      "-0.0067476537\n"
     ]
    },
    {
     "name": "stderr",
     "output_type": "stream",
     "text": [
      "[I 2019-08-01 00:15:00,294] Finished trial#43 resulted in value: 0.0067476537078619. Current best value is -0.026609815657138824 with parameters: {'n_steps': 719.4859693572113, 'gamma': 0.9121175921017415, 'learning_rate': 0.02947990731248775}.\n"
     ]
    },
    {
     "name": "stdout",
     "output_type": "stream",
     "text": [
      "Model now learning\n",
      "Model finished learning\n",
      "Now some optimisation\n",
      "Finished\n",
      "-2.3003275e-05\n"
     ]
    },
    {
     "name": "stderr",
     "output_type": "stream",
     "text": [
      "[I 2019-08-01 00:18:15,431] Finished trial#44 resulted in value: 2.3003274691291153e-05. Current best value is -0.026609815657138824 with parameters: {'n_steps': 719.4859693572113, 'gamma': 0.9121175921017415, 'learning_rate': 0.02947990731248775}.\n"
     ]
    },
    {
     "name": "stdout",
     "output_type": "stream",
     "text": [
      "Model now learning\n",
      "Model finished learning\n",
      "Now some optimisation\n",
      "Finished\n",
      "3.383821e-05\n"
     ]
    },
    {
     "name": "stderr",
     "output_type": "stream",
     "text": [
      "[I 2019-08-01 00:21:19,053] Finished trial#39 resulted in value: -3.383820876479149e-05. Current best value is -0.026609815657138824 with parameters: {'n_steps': 719.4859693572113, 'gamma': 0.9121175921017415, 'learning_rate': 0.02947990731248775}.\n"
     ]
    },
    {
     "name": "stdout",
     "output_type": "stream",
     "text": [
      "Model now learning\n",
      "Model finished learning\n",
      "Now some optimisation\n",
      "Finished\n",
      "-0.0024174983\n"
     ]
    },
    {
     "name": "stderr",
     "output_type": "stream",
     "text": [
      "[I 2019-08-01 00:22:14,958] Finished trial#46 resulted in value: 0.002417498268187046. Current best value is -0.026609815657138824 with parameters: {'n_steps': 719.4859693572113, 'gamma': 0.9121175921017415, 'learning_rate': 0.02947990731248775}.\n"
     ]
    },
    {
     "name": "stdout",
     "output_type": "stream",
     "text": [
      "Model now learning\n",
      "Model finished learning\n",
      "Now some optimisation\n",
      "Finished\n",
      "0.00783295\n"
     ]
    },
    {
     "name": "stderr",
     "output_type": "stream",
     "text": [
      "[I 2019-08-01 01:56:34,847] Finished trial#45 resulted in value: -0.007832949981093407. Current best value is -0.026609815657138824 with parameters: {'n_steps': 719.4859693572113, 'gamma': 0.9121175921017415, 'learning_rate': 0.02947990731248775}.\n"
     ]
    },
    {
     "name": "stdout",
     "output_type": "stream",
     "text": [
      "Model now learning\n",
      "Model finished learning\n",
      "Now some optimisation\n",
      "Finished\n",
      "0.004921925\n"
     ]
    },
    {
     "name": "stderr",
     "output_type": "stream",
     "text": [
      "[I 2019-08-01 01:58:28,057] Finished trial#47 resulted in value: -0.004921924788504839. Current best value is -0.026609815657138824 with parameters: {'n_steps': 719.4859693572113, 'gamma': 0.9121175921017415, 'learning_rate': 0.02947990731248775}.\n"
     ]
    },
    {
     "name": "stdout",
     "output_type": "stream",
     "text": [
      "Model now learning\n",
      "Model finished learning\n",
      "Now some optimisation\n",
      "Finished\n",
      "0.0\n"
     ]
    },
    {
     "name": "stderr",
     "output_type": "stream",
     "text": [
      "[I 2019-08-01 02:08:18,889] Finished trial#49 resulted in value: -0.0. Current best value is -0.026609815657138824 with parameters: {'n_steps': 719.4859693572113, 'gamma': 0.9121175921017415, 'learning_rate': 0.02947990731248775}.\n"
     ]
    },
    {
     "name": "stdout",
     "output_type": "stream",
     "text": [
      "Model now learning\n",
      "Model finished learning\n",
      "Now some optimisation\n",
      "Finished\n",
      "-0.00051356526\n"
     ]
    },
    {
     "name": "stderr",
     "output_type": "stream",
     "text": [
      "[I 2019-08-01 02:13:02,867] Finished trial#48 resulted in value: 0.0005135652609169483. Current best value is -0.026609815657138824 with parameters: {'n_steps': 719.4859693572113, 'gamma': 0.9121175921017415, 'learning_rate': 0.02947990731248775}.\n"
     ]
    },
    {
     "name": "stdout",
     "output_type": "stream",
     "text": [
      "Model now learning\n",
      "Model finished learning\n",
      "Now some optimisation\n",
      "Finished\n",
      "0.009563416\n"
     ]
    },
    {
     "name": "stderr",
     "output_type": "stream",
     "text": [
      "[I 2019-08-01 02:21:14,038] Finished trial#52 resulted in value: -0.009563416242599487. Current best value is -0.026609815657138824 with parameters: {'n_steps': 719.4859693572113, 'gamma': 0.9121175921017415, 'learning_rate': 0.02947990731248775}.\n"
     ]
    },
    {
     "name": "stdout",
     "output_type": "stream",
     "text": [
      "Model now learning\n",
      "Model finished learning\n",
      "Now some optimisation\n",
      "Finished\n",
      "0.021939851\n"
     ]
    },
    {
     "name": "stderr",
     "output_type": "stream",
     "text": [
      "[I 2019-08-01 02:25:58,856] Finished trial#53 resulted in value: -0.021939851343631744. Current best value is -0.026609815657138824 with parameters: {'n_steps': 719.4859693572113, 'gamma': 0.9121175921017415, 'learning_rate': 0.02947990731248775}.\n"
     ]
    },
    {
     "name": "stdout",
     "output_type": "stream",
     "text": [
      "Model now learning\n",
      "Model finished learning\n",
      "Now some optimisation\n",
      "Finished\n",
      "0.00043457176\n"
     ]
    },
    {
     "name": "stderr",
     "output_type": "stream",
     "text": [
      "[I 2019-08-01 02:35:11,005] Finished trial#51 resulted in value: -0.0004345717607066035. Current best value is -0.026609815657138824 with parameters: {'n_steps': 719.4859693572113, 'gamma': 0.9121175921017415, 'learning_rate': 0.02947990731248775}.\n"
     ]
    },
    {
     "name": "stdout",
     "output_type": "stream",
     "text": [
      "Model now learning\n",
      "Model finished learning\n",
      "Now some optimisation\n",
      "Finished\n",
      "-0.0037698138\n"
     ]
    },
    {
     "name": "stderr",
     "output_type": "stream",
     "text": [
      "[I 2019-08-01 02:38:14,769] Finished trial#50 resulted in value: 0.0037698138039559126. Current best value is -0.026609815657138824 with parameters: {'n_steps': 719.4859693572113, 'gamma': 0.9121175921017415, 'learning_rate': 0.02947990731248775}.\n"
     ]
    },
    {
     "name": "stdout",
     "output_type": "stream",
     "text": [
      "Model now learning\n",
      "Model finished learning\n",
      "Now some optimisation\n",
      "Finished\n",
      "0.0006411772\n"
     ]
    },
    {
     "name": "stderr",
     "output_type": "stream",
     "text": [
      "[I 2019-08-01 03:04:55,296] Finished trial#54 resulted in value: -0.0006411771755665541. Current best value is -0.026609815657138824 with parameters: {'n_steps': 719.4859693572113, 'gamma': 0.9121175921017415, 'learning_rate': 0.02947990731248775}.\n"
     ]
    },
    {
     "name": "stdout",
     "output_type": "stream",
     "text": [
      "Model now learning\n",
      "Model finished learning\n",
      "Now some optimisation\n",
      "Finished\n",
      "0.008770286\n"
     ]
    },
    {
     "name": "stderr",
     "output_type": "stream",
     "text": [
      "[I 2019-08-01 03:09:07,576] Finished trial#55 resulted in value: -0.008770286105573177. Current best value is -0.026609815657138824 with parameters: {'n_steps': 719.4859693572113, 'gamma': 0.9121175921017415, 'learning_rate': 0.02947990731248775}.\n"
     ]
    },
    {
     "name": "stdout",
     "output_type": "stream",
     "text": [
      "Model now learning\n",
      "Model finished learning\n",
      "Now some optimisation\n",
      "Finished\n",
      "-0.006041741\n"
     ]
    },
    {
     "name": "stderr",
     "output_type": "stream",
     "text": [
      "[I 2019-08-01 03:18:14,460] Finished trial#56 resulted in value: 0.006041740998625755. Current best value is -0.026609815657138824 with parameters: {'n_steps': 719.4859693572113, 'gamma': 0.9121175921017415, 'learning_rate': 0.02947990731248775}.\n"
     ]
    },
    {
     "name": "stdout",
     "output_type": "stream",
     "text": [
      "Model now learning\n",
      "Model finished learning\n",
      "Now some optimisation\n",
      "Finished\n",
      "0.016935272\n"
     ]
    },
    {
     "name": "stderr",
     "output_type": "stream",
     "text": [
      "[I 2019-08-01 03:33:26,176] Finished trial#59 resulted in value: -0.01693527214229107. Current best value is -0.026609815657138824 with parameters: {'n_steps': 719.4859693572113, 'gamma': 0.9121175921017415, 'learning_rate': 0.02947990731248775}.\n"
     ]
    },
    {
     "name": "stdout",
     "output_type": "stream",
     "text": [
      "Model now learning\n",
      "Model finished learning\n",
      "Now some optimisation\n",
      "Finished\n",
      "0.00016245479\n"
     ]
    },
    {
     "name": "stderr",
     "output_type": "stream",
     "text": [
      "[I 2019-08-01 03:47:19,176] Finished trial#57 resulted in value: -0.0001624547876417637. Current best value is -0.026609815657138824 with parameters: {'n_steps': 719.4859693572113, 'gamma': 0.9121175921017415, 'learning_rate': 0.02947990731248775}.\n"
     ]
    },
    {
     "name": "stdout",
     "output_type": "stream",
     "text": [
      "Model now learning\n",
      "Model finished learning\n",
      "Now some optimisation\n",
      "Finished\n",
      "0.0\n"
     ]
    },
    {
     "name": "stderr",
     "output_type": "stream",
     "text": [
      "[I 2019-08-01 04:11:52,166] Finished trial#58 resulted in value: -0.0. Current best value is -0.026609815657138824 with parameters: {'n_steps': 719.4859693572113, 'gamma': 0.9121175921017415, 'learning_rate': 0.02947990731248775}.\n"
     ]
    },
    {
     "name": "stdout",
     "output_type": "stream",
     "text": [
      "Model now learning\n",
      "Model finished learning\n",
      "Now some optimisation\n",
      "Finished\n",
      "-0.003573005\n"
     ]
    },
    {
     "name": "stderr",
     "output_type": "stream",
     "text": [
      "[I 2019-08-01 04:25:15,478] Finished trial#60 resulted in value: 0.003573005087673664. Current best value is -0.026609815657138824 with parameters: {'n_steps': 719.4859693572113, 'gamma': 0.9121175921017415, 'learning_rate': 0.02947990731248775}.\n"
     ]
    },
    {
     "name": "stdout",
     "output_type": "stream",
     "text": [
      "Model now learning\n",
      "Model finished learning\n",
      "Now some optimisation\n",
      "Finished\n",
      "0.016485985\n"
     ]
    },
    {
     "name": "stderr",
     "output_type": "stream",
     "text": [
      "[I 2019-08-01 04:36:48,772] Finished trial#61 resulted in value: -0.01648598536849022. Current best value is -0.026609815657138824 with parameters: {'n_steps': 719.4859693572113, 'gamma': 0.9121175921017415, 'learning_rate': 0.02947990731248775}.\n"
     ]
    },
    {
     "name": "stdout",
     "output_type": "stream",
     "text": [
      "Model now learning\n",
      "Model finished learning\n",
      "Now some optimisation\n",
      "Finished\n",
      "0.00563691\n"
     ]
    },
    {
     "name": "stderr",
     "output_type": "stream",
     "text": [
      "[I 2019-08-01 04:50:01,085] Finished trial#62 resulted in value: -0.005636909976601601. Current best value is -0.026609815657138824 with parameters: {'n_steps': 719.4859693572113, 'gamma': 0.9121175921017415, 'learning_rate': 0.02947990731248775}.\n"
     ]
    },
    {
     "name": "stdout",
     "output_type": "stream",
     "text": [
      "Model now learning\n",
      "Model finished learning\n",
      "Now some optimisation\n",
      "Finished\n",
      "-0.0019544899\n"
     ]
    },
    {
     "name": "stderr",
     "output_type": "stream",
     "text": [
      "[I 2019-08-01 04:55:37,157] Finished trial#64 resulted in value: 0.001954489853233099. Current best value is -0.026609815657138824 with parameters: {'n_steps': 719.4859693572113, 'gamma': 0.9121175921017415, 'learning_rate': 0.02947990731248775}.\n"
     ]
    },
    {
     "name": "stdout",
     "output_type": "stream",
     "text": [
      "Model now learning\n",
      "Model finished learning\n",
      "Now some optimisation\n",
      "Finished\n",
      "0.01762068\n"
     ]
    },
    {
     "name": "stderr",
     "output_type": "stream",
     "text": [
      "[I 2019-08-01 05:09:12,868] Finished trial#65 resulted in value: -0.01762068085372448. Current best value is -0.026609815657138824 with parameters: {'n_steps': 719.4859693572113, 'gamma': 0.9121175921017415, 'learning_rate': 0.02947990731248775}.\n"
     ]
    },
    {
     "name": "stdout",
     "output_type": "stream",
     "text": [
      "Model now learning\n",
      "Model finished learning\n",
      "Now some optimisation\n",
      "Finished\n",
      "0.005975195\n"
     ]
    },
    {
     "name": "stderr",
     "output_type": "stream",
     "text": [
      "[I 2019-08-01 05:11:06,545] Finished trial#63 resulted in value: -0.0059751952067017555. Current best value is -0.026609815657138824 with parameters: {'n_steps': 719.4859693572113, 'gamma': 0.9121175921017415, 'learning_rate': 0.02947990731248775}.\n"
     ]
    },
    {
     "name": "stdout",
     "output_type": "stream",
     "text": [
      "Model now learning\n",
      "Model finished learning\n",
      "Now some optimisation\n",
      "Finished\n",
      "0.0063800286\n"
     ]
    },
    {
     "name": "stderr",
     "output_type": "stream",
     "text": [
      "[I 2019-08-01 05:15:21,299] Finished trial#68 resulted in value: -0.006380028557032347. Current best value is -0.026609815657138824 with parameters: {'n_steps': 719.4859693572113, 'gamma': 0.9121175921017415, 'learning_rate': 0.02947990731248775}.\n"
     ]
    },
    {
     "name": "stdout",
     "output_type": "stream",
     "text": [
      "Model now learning\n",
      "Model finished learning\n",
      "Now some optimisation\n",
      "Finished\n",
      "0.014342093\n"
     ]
    },
    {
     "name": "stderr",
     "output_type": "stream",
     "text": [
      "[I 2019-08-01 05:23:24,422] Finished trial#69 resulted in value: -0.014342092908918858. Current best value is -0.026609815657138824 with parameters: {'n_steps': 719.4859693572113, 'gamma': 0.9121175921017415, 'learning_rate': 0.02947990731248775}.\n"
     ]
    },
    {
     "name": "stdout",
     "output_type": "stream",
     "text": [
      "Model now learning\n",
      "Model finished learning\n",
      "Now some optimisation\n",
      "Finished\n",
      "-0.008120161\n"
     ]
    },
    {
     "name": "stderr",
     "output_type": "stream",
     "text": [
      "[I 2019-08-01 05:27:09,665] Finished trial#70 resulted in value: 0.008120160549879074. Current best value is -0.026609815657138824 with parameters: {'n_steps': 719.4859693572113, 'gamma': 0.9121175921017415, 'learning_rate': 0.02947990731248775}.\n"
     ]
    },
    {
     "name": "stdout",
     "output_type": "stream",
     "text": [
      "Model now learning\n",
      "Model finished learning\n",
      "Now some optimisation\n",
      "Finished\n",
      "0.00088864565\n"
     ]
    },
    {
     "name": "stderr",
     "output_type": "stream",
     "text": [
      "[I 2019-08-01 05:32:29,769] Finished trial#71 resulted in value: -0.0008886456489562988. Current best value is -0.026609815657138824 with parameters: {'n_steps': 719.4859693572113, 'gamma': 0.9121175921017415, 'learning_rate': 0.02947990731248775}.\n"
     ]
    },
    {
     "name": "stdout",
     "output_type": "stream",
     "text": [
      "Model now learning\n",
      "Model finished learning\n",
      "Now some optimisation\n",
      "Finished\n",
      "-0.0008439827\n"
     ]
    },
    {
     "name": "stderr",
     "output_type": "stream",
     "text": [
      "[I 2019-08-01 05:35:37,848] Finished trial#72 resulted in value: 0.0008439826779067516. Current best value is -0.026609815657138824 with parameters: {'n_steps': 719.4859693572113, 'gamma': 0.9121175921017415, 'learning_rate': 0.02947990731248775}.\n"
     ]
    },
    {
     "name": "stdout",
     "output_type": "stream",
     "text": [
      "Model now learning\n",
      "Model finished learning\n",
      "Now some optimisation\n",
      "Finished\n",
      "-0.00056622\n"
     ]
    },
    {
     "name": "stderr",
     "output_type": "stream",
     "text": [
      "[I 2019-08-01 05:49:16,848] Finished trial#73 resulted in value: 0.0005662200273945928. Current best value is -0.026609815657138824 with parameters: {'n_steps': 719.4859693572113, 'gamma': 0.9121175921017415, 'learning_rate': 0.02947990731248775}.\n"
     ]
    },
    {
     "name": "stdout",
     "output_type": "stream",
     "text": [
      "Model now learning\n",
      "Model finished learning\n",
      "Now some optimisation\n",
      "Finished\n",
      "0.0051683974\n"
     ]
    },
    {
     "name": "stderr",
     "output_type": "stream",
     "text": [
      "[I 2019-08-01 05:49:34,858] Finished trial#67 resulted in value: -0.005168397445231676. Current best value is -0.026609815657138824 with parameters: {'n_steps': 719.4859693572113, 'gamma': 0.9121175921017415, 'learning_rate': 0.02947990731248775}.\n"
     ]
    },
    {
     "name": "stdout",
     "output_type": "stream",
     "text": [
      "Model now learning\n",
      "Model finished learning\n",
      "Now some optimisation\n",
      "Finished\n",
      "0.005179936\n"
     ]
    },
    {
     "name": "stderr",
     "output_type": "stream",
     "text": [
      "[I 2019-08-01 05:54:34,550] Finished trial#76 resulted in value: -0.005179936066269875. Current best value is -0.026609815657138824 with parameters: {'n_steps': 719.4859693572113, 'gamma': 0.9121175921017415, 'learning_rate': 0.02947990731248775}.\n"
     ]
    },
    {
     "name": "stdout",
     "output_type": "stream",
     "text": [
      "Model now learning\n",
      "Model finished learning\n",
      "Now some optimisation\n",
      "Finished\n",
      "0.0071137464\n"
     ]
    },
    {
     "name": "stderr",
     "output_type": "stream",
     "text": [
      "[I 2019-08-01 05:56:16,598] Finished trial#74 resulted in value: -0.007113746367394924. Current best value is -0.026609815657138824 with parameters: {'n_steps': 719.4859693572113, 'gamma': 0.9121175921017415, 'learning_rate': 0.02947990731248775}.\n"
     ]
    },
    {
     "name": "stdout",
     "output_type": "stream",
     "text": [
      "Model now learning\n",
      "Model finished learning\n",
      "Now some optimisation\n",
      "Finished\n",
      "0.0106244655\n"
     ]
    },
    {
     "name": "stderr",
     "output_type": "stream",
     "text": [
      "[I 2019-08-01 06:03:55,868] Finished trial#75 resulted in value: -0.01062446553260088. Current best value is -0.026609815657138824 with parameters: {'n_steps': 719.4859693572113, 'gamma': 0.9121175921017415, 'learning_rate': 0.02947990731248775}.\n"
     ]
    },
    {
     "name": "stdout",
     "output_type": "stream",
     "text": [
      "Model now learning\n",
      "Model finished learning\n",
      "Now some optimisation\n",
      "Finished\n",
      "-0.019398332\n"
     ]
    },
    {
     "name": "stderr",
     "output_type": "stream",
     "text": [
      "[I 2019-08-01 06:21:35,006] Finished trial#66 resulted in value: 0.01939833164215088. Current best value is -0.026609815657138824 with parameters: {'n_steps': 719.4859693572113, 'gamma': 0.9121175921017415, 'learning_rate': 0.02947990731248775}.\n"
     ]
    },
    {
     "name": "stdout",
     "output_type": "stream",
     "text": [
      "Model now learning\n",
      "Model finished learning\n",
      "Now some optimisation\n",
      "Finished\n",
      "0.0\n"
     ]
    },
    {
     "name": "stderr",
     "output_type": "stream",
     "text": [
      "[I 2019-08-01 06:27:12,263] Finished trial#79 resulted in value: -0.0. Current best value is -0.026609815657138824 with parameters: {'n_steps': 719.4859693572113, 'gamma': 0.9121175921017415, 'learning_rate': 0.02947990731248775}.\n"
     ]
    },
    {
     "name": "stdout",
     "output_type": "stream",
     "text": [
      "Model now learning\n",
      "Model finished learning\n",
      "Now some optimisation\n",
      "Finished\n",
      "-0.013138011\n"
     ]
    },
    {
     "name": "stderr",
     "output_type": "stream",
     "text": [
      "[I 2019-08-01 06:37:21,931] Finished trial#81 resulted in value: 0.01313801109790802. Current best value is -0.026609815657138824 with parameters: {'n_steps': 719.4859693572113, 'gamma': 0.9121175921017415, 'learning_rate': 0.02947990731248775}.\n"
     ]
    },
    {
     "name": "stdout",
     "output_type": "stream",
     "text": [
      "Model now learning\n",
      "Model finished learning\n",
      "Now some optimisation\n",
      "Finished\n",
      "0.0\n"
     ]
    },
    {
     "name": "stderr",
     "output_type": "stream",
     "text": [
      "[I 2019-08-01 07:24:18,210] Finished trial#77 resulted in value: -0.0. Current best value is -0.026609815657138824 with parameters: {'n_steps': 719.4859693572113, 'gamma': 0.9121175921017415, 'learning_rate': 0.02947990731248775}.\n"
     ]
    },
    {
     "name": "stdout",
     "output_type": "stream",
     "text": [
      "Model now learning\n",
      "Model finished learning\n",
      "Now some optimisation\n",
      "Finished\n",
      "0.014897322\n"
     ]
    },
    {
     "name": "stderr",
     "output_type": "stream",
     "text": [
      "[I 2019-08-01 07:26:18,609] Finished trial#78 resulted in value: -0.014897322282195091. Current best value is -0.026609815657138824 with parameters: {'n_steps': 719.4859693572113, 'gamma': 0.9121175921017415, 'learning_rate': 0.02947990731248775}.\n"
     ]
    },
    {
     "name": "stdout",
     "output_type": "stream",
     "text": [
      "Model now learning\n",
      "Model finished learning\n",
      "Now some optimisation\n",
      "Finished\n",
      "0.0\n"
     ]
    },
    {
     "name": "stderr",
     "output_type": "stream",
     "text": [
      "[I 2019-08-01 08:14:04,954] Finished trial#84 resulted in value: -0.0. Current best value is -0.026609815657138824 with parameters: {'n_steps': 719.4859693572113, 'gamma': 0.9121175921017415, 'learning_rate': 0.02947990731248775}.\n"
     ]
    },
    {
     "name": "stdout",
     "output_type": "stream",
     "text": [
      "Model now learning\n",
      "Model finished learning\n",
      "Now some optimisation\n",
      "Finished\n",
      "0.019263187\n"
     ]
    },
    {
     "name": "stderr",
     "output_type": "stream",
     "text": [
      "[I 2019-08-01 08:32:02,687] Finished trial#80 resulted in value: -0.019263187423348427. Current best value is -0.026609815657138824 with parameters: {'n_steps': 719.4859693572113, 'gamma': 0.9121175921017415, 'learning_rate': 0.02947990731248775}.\n"
     ]
    },
    {
     "name": "stdout",
     "output_type": "stream",
     "text": [
      "Model now learning\n",
      "Model finished learning\n",
      "Now some optimisation\n",
      "Model finished learning\n",
      "Now some optimisation\n",
      "Finished\n",
      "0.0028804669\n"
     ]
    },
    {
     "name": "stderr",
     "output_type": "stream",
     "text": [
      "[I 2019-08-01 08:46:13,312] Finished trial#86 resulted in value: -0.0028804668691009283. Current best value is -0.026609815657138824 with parameters: {'n_steps': 719.4859693572113, 'gamma': 0.9121175921017415, 'learning_rate': 0.02947990731248775}.\n"
     ]
    },
    {
     "name": "stdout",
     "output_type": "stream",
     "text": [
      "Finished\n",
      "0.006386829\n"
     ]
    },
    {
     "name": "stderr",
     "output_type": "stream",
     "text": [
      "[I 2019-08-01 08:46:16,803] Finished trial#82 resulted in value: -0.006386829074472189. Current best value is -0.026609815657138824 with parameters: {'n_steps': 719.4859693572113, 'gamma': 0.9121175921017415, 'learning_rate': 0.02947990731248775}.\n"
     ]
    },
    {
     "name": "stdout",
     "output_type": "stream",
     "text": [
      "Model now learning\n",
      "Model now learning\n",
      "Model finished learning\n",
      "Now some optimisation\n",
      "Finished\n",
      "-0.005935225\n"
     ]
    },
    {
     "name": "stderr",
     "output_type": "stream",
     "text": [
      "[I 2019-08-01 08:51:53,505] Finished trial#87 resulted in value: 0.005935225170105696. Current best value is -0.026609815657138824 with parameters: {'n_steps': 719.4859693572113, 'gamma': 0.9121175921017415, 'learning_rate': 0.02947990731248775}.\n"
     ]
    },
    {
     "name": "stdout",
     "output_type": "stream",
     "text": [
      "Model now learning\n",
      "Model finished learning\n",
      "Now some optimisation\n",
      "Finished\n",
      "0.0\n"
     ]
    },
    {
     "name": "stderr",
     "output_type": "stream",
     "text": [
      "[I 2019-08-01 08:56:26,973] Finished trial#88 resulted in value: -0.0. Current best value is -0.026609815657138824 with parameters: {'n_steps': 719.4859693572113, 'gamma': 0.9121175921017415, 'learning_rate': 0.02947990731248775}.\n"
     ]
    },
    {
     "name": "stdout",
     "output_type": "stream",
     "text": [
      "Model now learning\n",
      "Model finished learning\n",
      "Now some optimisation\n",
      "Finished\n",
      "-0.009659126\n"
     ]
    },
    {
     "name": "stderr",
     "output_type": "stream",
     "text": [
      "[I 2019-08-01 09:03:52,732] Finished trial#90 resulted in value: 0.00965912640094757. Current best value is -0.026609815657138824 with parameters: {'n_steps': 719.4859693572113, 'gamma': 0.9121175921017415, 'learning_rate': 0.02947990731248775}.\n"
     ]
    },
    {
     "name": "stdout",
     "output_type": "stream",
     "text": [
      "Model now learning\n",
      "Model finished learning\n",
      "Now some optimisation\n",
      "Finished\n",
      "-0.0035197507\n"
     ]
    },
    {
     "name": "stderr",
     "output_type": "stream",
     "text": [
      "[I 2019-08-01 09:17:20,407] Finished trial#89 resulted in value: 0.003519750665873289. Current best value is -0.026609815657138824 with parameters: {'n_steps': 719.4859693572113, 'gamma': 0.9121175921017415, 'learning_rate': 0.02947990731248775}.\n"
     ]
    },
    {
     "name": "stdout",
     "output_type": "stream",
     "text": [
      "Model now learning\n",
      "Model finished learning\n",
      "Now some optimisation\n",
      "Finished\n",
      "2.1549185e-06\n"
     ]
    },
    {
     "name": "stderr",
     "output_type": "stream",
     "text": [
      "[I 2019-08-01 09:31:01,558] Finished trial#91 resulted in value: -2.1549185476033017e-06. Current best value is -0.026609815657138824 with parameters: {'n_steps': 719.4859693572113, 'gamma': 0.9121175921017415, 'learning_rate': 0.02947990731248775}.\n"
     ]
    },
    {
     "name": "stdout",
     "output_type": "stream",
     "text": [
      "Model now learning\n",
      "Model finished learning\n",
      "Now some optimisation\n",
      "Finished\n",
      "0.011574521\n"
     ]
    },
    {
     "name": "stderr",
     "output_type": "stream",
     "text": [
      "[I 2019-08-01 09:35:06,214] Finished trial#83 resulted in value: -0.011574520729482174. Current best value is -0.026609815657138824 with parameters: {'n_steps': 719.4859693572113, 'gamma': 0.9121175921017415, 'learning_rate': 0.02947990731248775}.\n"
     ]
    },
    {
     "name": "stdout",
     "output_type": "stream",
     "text": [
      "Model now learning\n",
      "Model finished learning\n",
      "Now some optimisation\n",
      "Finished\n",
      "-0.0047597964\n"
     ]
    },
    {
     "name": "stderr",
     "output_type": "stream",
     "text": [
      "[I 2019-08-01 09:52:35,633] Finished trial#93 resulted in value: 0.004759796429425478. Current best value is -0.026609815657138824 with parameters: {'n_steps': 719.4859693572113, 'gamma': 0.9121175921017415, 'learning_rate': 0.02947990731248775}.\n"
     ]
    },
    {
     "name": "stdout",
     "output_type": "stream",
     "text": [
      "Model now learning\n",
      "Model finished learning\n",
      "Now some optimisation\n",
      "Finished\n",
      "0.029757723\n"
     ]
    },
    {
     "name": "stderr",
     "output_type": "stream",
     "text": [
      "[I 2019-08-01 10:13:45,957] Finished trial#94 resulted in value: -0.029757723212242126. Current best value is -0.029757723212242126 with parameters: {'n_steps': 496.7369338766725, 'gamma': 0.97797986515614, 'learning_rate': 0.0042812561845731465}.\n"
     ]
    },
    {
     "name": "stdout",
     "output_type": "stream",
     "text": [
      "Model now learning\n",
      "Model finished learning\n",
      "Now some optimisation\n",
      "Finished\n",
      "-0.0026595006\n"
     ]
    },
    {
     "name": "stderr",
     "output_type": "stream",
     "text": [
      "[I 2019-08-01 10:27:59,679] Finished trial#92 resulted in value: 0.002659500576555729. Current best value is -0.029757723212242126 with parameters: {'n_steps': 496.7369338766725, 'gamma': 0.97797986515614, 'learning_rate': 0.0042812561845731465}.\n"
     ]
    },
    {
     "name": "stdout",
     "output_type": "stream",
     "text": [
      "Model now learning\n",
      "Model finished learning\n",
      "Now some optimisation\n",
      "Finished\n",
      "0.015942354\n"
     ]
    },
    {
     "name": "stderr",
     "output_type": "stream",
     "text": [
      "[I 2019-08-01 10:30:31,818] Finished trial#85 resulted in value: -0.015942353755235672. Current best value is -0.029757723212242126 with parameters: {'n_steps': 496.7369338766725, 'gamma': 0.97797986515614, 'learning_rate': 0.0042812561845731465}.\n"
     ]
    },
    {
     "name": "stdout",
     "output_type": "stream",
     "text": [
      "Model now learning\n",
      "Model finished learning\n",
      "Now some optimisation\n",
      "Finished\n",
      "-0.0075244093\n"
     ]
    },
    {
     "name": "stderr",
     "output_type": "stream",
     "text": [
      "[I 2019-08-01 10:49:56,303] Finished trial#96 resulted in value: 0.007524409331381321. Current best value is -0.029757723212242126 with parameters: {'n_steps': 496.7369338766725, 'gamma': 0.97797986515614, 'learning_rate': 0.0042812561845731465}.\n"
     ]
    },
    {
     "name": "stdout",
     "output_type": "stream",
     "text": [
      "Model now learning\n",
      "Model finished learning\n",
      "Now some optimisation\n",
      "Finished\n",
      "0.00071732176\n"
     ]
    },
    {
     "name": "stderr",
     "output_type": "stream",
     "text": [
      "[I 2019-08-01 11:05:49,298] Finished trial#97 resulted in value: -0.0007173217600211501. Current best value is -0.029757723212242126 with parameters: {'n_steps': 496.7369338766725, 'gamma': 0.97797986515614, 'learning_rate': 0.0042812561845731465}.\n"
     ]
    },
    {
     "name": "stdout",
     "output_type": "stream",
     "text": [
      "Model now learning\n",
      "Model finished learning\n",
      "Now some optimisation\n",
      "Finished\n",
      "0.00046938998\n"
     ]
    },
    {
     "name": "stderr",
     "output_type": "stream",
     "text": [
      "[I 2019-08-01 11:08:01,230] Finished trial#98 resulted in value: -0.0004693899827543646. Current best value is -0.029757723212242126 with parameters: {'n_steps': 496.7369338766725, 'gamma': 0.97797986515614, 'learning_rate': 0.0042812561845731465}.\n"
     ]
    },
    {
     "name": "stdout",
     "output_type": "stream",
     "text": [
      "Model now learning\n",
      "Model finished learning\n",
      "Now some optimisation\n",
      "Finished\n",
      "0.003832862\n"
     ]
    },
    {
     "name": "stderr",
     "output_type": "stream",
     "text": [
      "[I 2019-08-01 11:12:26,858] Finished trial#95 resulted in value: -0.003832862013950944. Current best value is -0.029757723212242126 with parameters: {'n_steps': 496.7369338766725, 'gamma': 0.97797986515614, 'learning_rate': 0.0042812561845731465}.\n"
     ]
    },
    {
     "name": "stdout",
     "output_type": "stream",
     "text": [
      "Model now learning\n",
      "Model finished learning\n",
      "Now some optimisation\n",
      "Finished\n",
      "0.0093558915\n"
     ]
    },
    {
     "name": "stderr",
     "output_type": "stream",
     "text": [
      "[I 2019-08-01 11:23:37,938] Finished trial#100 resulted in value: -0.00935589149594307. Current best value is -0.029757723212242126 with parameters: {'n_steps': 496.7369338766725, 'gamma': 0.97797986515614, 'learning_rate': 0.0042812561845731465}.\n"
     ]
    },
    {
     "name": "stdout",
     "output_type": "stream",
     "text": [
      "Model now learning\n",
      "Model finished learning\n",
      "Now some optimisation\n",
      "Finished\n",
      "8.538808e-05\n"
     ]
    },
    {
     "name": "stderr",
     "output_type": "stream",
     "text": [
      "[I 2019-08-01 11:28:55,499] Finished trial#99 resulted in value: -8.53880774229765e-05. Current best value is -0.029757723212242126 with parameters: {'n_steps': 496.7369338766725, 'gamma': 0.97797986515614, 'learning_rate': 0.0042812561845731465}.\n"
     ]
    },
    {
     "name": "stdout",
     "output_type": "stream",
     "text": [
      "Model now learning\n",
      "Model finished learning\n",
      "Now some optimisation\n",
      "Finished\n",
      "0.0053560883\n"
     ]
    },
    {
     "name": "stderr",
     "output_type": "stream",
     "text": [
      "[I 2019-08-01 11:42:43,285] Finished trial#102 resulted in value: -0.005356088280677795. Current best value is -0.029757723212242126 with parameters: {'n_steps': 496.7369338766725, 'gamma': 0.97797986515614, 'learning_rate': 0.0042812561845731465}.\n"
     ]
    },
    {
     "name": "stdout",
     "output_type": "stream",
     "text": [
      "Model now learning\n",
      "Model finished learning\n",
      "Now some optimisation\n",
      "Finished\n",
      "0.004107968\n"
     ]
    },
    {
     "name": "stderr",
     "output_type": "stream",
     "text": [
      "[I 2019-08-01 11:54:16,239] Finished trial#103 resulted in value: -0.00410796795040369. Current best value is -0.029757723212242126 with parameters: {'n_steps': 496.7369338766725, 'gamma': 0.97797986515614, 'learning_rate': 0.0042812561845731465}.\n"
     ]
    },
    {
     "name": "stdout",
     "output_type": "stream",
     "text": [
      "Model now learning\n",
      "Model finished learning\n",
      "Now some optimisation\n",
      "Finished\n",
      "-0.0050062137\n"
     ]
    },
    {
     "name": "stderr",
     "output_type": "stream",
     "text": [
      "[I 2019-08-01 11:55:42,048] Finished trial#101 resulted in value: 0.0050062136724591255. Current best value is -0.029757723212242126 with parameters: {'n_steps': 496.7369338766725, 'gamma': 0.97797986515614, 'learning_rate': 0.0042812561845731465}.\n"
     ]
    },
    {
     "name": "stdout",
     "output_type": "stream",
     "text": [
      "Model now learning\n",
      "Model finished learning\n",
      "Now some optimisation\n",
      "Finished\n",
      "-0.0027956022\n"
     ]
    },
    {
     "name": "stderr",
     "output_type": "stream",
     "text": [
      "[I 2019-08-01 11:58:49,363] Finished trial#104 resulted in value: 0.0027956021949648857. Current best value is -0.029757723212242126 with parameters: {'n_steps': 496.7369338766725, 'gamma': 0.97797986515614, 'learning_rate': 0.0042812561845731465}.\n"
     ]
    },
    {
     "name": "stdout",
     "output_type": "stream",
     "text": [
      "Model now learning\n",
      "Model finished learning\n",
      "Now some optimisation\n",
      "Finished\n",
      "-0.0066748383\n"
     ]
    },
    {
     "name": "stderr",
     "output_type": "stream",
     "text": [
      "[I 2019-08-01 12:37:23,604] Finished trial#106 resulted in value: 0.006674838252365589. Current best value is -0.029757723212242126 with parameters: {'n_steps': 496.7369338766725, 'gamma': 0.97797986515614, 'learning_rate': 0.0042812561845731465}.\n"
     ]
    },
    {
     "name": "stdout",
     "output_type": "stream",
     "text": [
      "Model now learning\n",
      "Model finished learning\n",
      "Now some optimisation\n",
      "Finished\n",
      "-0.00043007138\n"
     ]
    },
    {
     "name": "stderr",
     "output_type": "stream",
     "text": [
      "[I 2019-08-01 13:11:51,932] Finished trial#105 resulted in value: 0.0004300713771954179. Current best value is -0.029757723212242126 with parameters: {'n_steps': 496.7369338766725, 'gamma': 0.97797986515614, 'learning_rate': 0.0042812561845731465}.\n"
     ]
    },
    {
     "name": "stdout",
     "output_type": "stream",
     "text": [
      "Model now learning\n",
      "Model finished learning\n",
      "Now some optimisation\n",
      "Finished\n",
      "-0.005899898\n"
     ]
    },
    {
     "name": "stderr",
     "output_type": "stream",
     "text": [
      "[I 2019-08-01 13:25:06,302] Finished trial#107 resulted in value: 0.005899897776544094. Current best value is -0.029757723212242126 with parameters: {'n_steps': 496.7369338766725, 'gamma': 0.97797986515614, 'learning_rate': 0.0042812561845731465}.\n"
     ]
    },
    {
     "name": "stdout",
     "output_type": "stream",
     "text": [
      "Model now learning\n",
      "Model finished learning\n",
      "Now some optimisation\n",
      "Finished\n",
      "0.01778442\n"
     ]
    },
    {
     "name": "stderr",
     "output_type": "stream",
     "text": [
      "[I 2019-08-01 13:25:15,778] Finished trial#108 resulted in value: -0.017784420400857925. Current best value is -0.029757723212242126 with parameters: {'n_steps': 496.7369338766725, 'gamma': 0.97797986515614, 'learning_rate': 0.0042812561845731465}.\n"
     ]
    },
    {
     "name": "stdout",
     "output_type": "stream",
     "text": [
      "Model now learning\n",
      "Model finished learning\n",
      "Now some optimisation\n",
      "Finished\n",
      "0.00211854\n"
     ]
    },
    {
     "name": "stderr",
     "output_type": "stream",
     "text": [
      "[I 2019-08-01 13:43:12,375] Finished trial#109 resulted in value: -0.002118539996445179. Current best value is -0.029757723212242126 with parameters: {'n_steps': 496.7369338766725, 'gamma': 0.97797986515614, 'learning_rate': 0.0042812561845731465}.\n"
     ]
    },
    {
     "name": "stdout",
     "output_type": "stream",
     "text": [
      "Model now learning\n",
      "Model finished learning\n",
      "Now some optimisation\n",
      "Finished\n",
      "0.002430255\n"
     ]
    },
    {
     "name": "stderr",
     "output_type": "stream",
     "text": [
      "[I 2019-08-01 14:43:20,308] Finished trial#113 resulted in value: -0.0024302550591528416. Current best value is -0.029757723212242126 with parameters: {'n_steps': 496.7369338766725, 'gamma': 0.97797986515614, 'learning_rate': 0.0042812561845731465}.\n"
     ]
    },
    {
     "name": "stdout",
     "output_type": "stream",
     "text": [
      "Model now learning\n",
      "Model finished learning\n",
      "Now some optimisation\n",
      "Finished\n",
      "0.021641402\n"
     ]
    },
    {
     "name": "stderr",
     "output_type": "stream",
     "text": [
      "[I 2019-08-01 14:57:30,331] Finished trial#110 resulted in value: -0.021641401574015617. Current best value is -0.029757723212242126 with parameters: {'n_steps': 496.7369338766725, 'gamma': 0.97797986515614, 'learning_rate': 0.0042812561845731465}.\n"
     ]
    },
    {
     "name": "stdout",
     "output_type": "stream",
     "text": [
      "Model now learning\n",
      "Model finished learning\n",
      "Now some optimisation\n",
      "Finished\n",
      "0.00019732269\n"
     ]
    },
    {
     "name": "stderr",
     "output_type": "stream",
     "text": [
      "[I 2019-08-01 15:16:18,367] Finished trial#111 resulted in value: -0.00019732268992811441. Current best value is -0.029757723212242126 with parameters: {'n_steps': 496.7369338766725, 'gamma': 0.97797986515614, 'learning_rate': 0.0042812561845731465}.\n"
     ]
    },
    {
     "name": "stdout",
     "output_type": "stream",
     "text": [
      "Model now learning\n",
      "Model finished learning\n",
      "Now some optimisation\n",
      "Finished\n",
      "0.012913946\n"
     ]
    },
    {
     "name": "stderr",
     "output_type": "stream",
     "text": [
      "[I 2019-08-01 15:18:39,365] Finished trial#112 resulted in value: -0.012913946062326431. Current best value is -0.029757723212242126 with parameters: {'n_steps': 496.7369338766725, 'gamma': 0.97797986515614, 'learning_rate': 0.0042812561845731465}.\n"
     ]
    },
    {
     "name": "stdout",
     "output_type": "stream",
     "text": [
      "Model now learning\n",
      "Model finished learning\n",
      "Now some optimisation\n",
      "Finished\n",
      "-0.0057638325\n"
     ]
    },
    {
     "name": "stderr",
     "output_type": "stream",
     "text": [
      "[I 2019-08-01 16:08:33,524] Finished trial#117 resulted in value: 0.005763832479715347. Current best value is -0.029757723212242126 with parameters: {'n_steps': 496.7369338766725, 'gamma': 0.97797986515614, 'learning_rate': 0.0042812561845731465}.\n"
     ]
    },
    {
     "name": "stdout",
     "output_type": "stream",
     "text": [
      "Model now learning\n",
      "Model finished learning\n",
      "Now some optimisation\n",
      "Finished\n",
      "0.00090183225\n"
     ]
    },
    {
     "name": "stderr",
     "output_type": "stream",
     "text": [
      "[I 2019-08-01 16:09:12,342] Finished trial#116 resulted in value: -0.0009018322452902794. Current best value is -0.029757723212242126 with parameters: {'n_steps': 496.7369338766725, 'gamma': 0.97797986515614, 'learning_rate': 0.0042812561845731465}.\n"
     ]
    },
    {
     "name": "stdout",
     "output_type": "stream",
     "text": [
      "Model now learning\n",
      "Model finished learning\n",
      "Now some optimisation\n",
      "Finished\n",
      "0.000711231\n"
     ]
    },
    {
     "name": "stderr",
     "output_type": "stream",
     "text": [
      "[I 2019-08-01 16:43:08,845] Finished trial#114 resulted in value: -0.0007112310267984867. Current best value is -0.029757723212242126 with parameters: {'n_steps': 496.7369338766725, 'gamma': 0.97797986515614, 'learning_rate': 0.0042812561845731465}.\n"
     ]
    },
    {
     "name": "stdout",
     "output_type": "stream",
     "text": [
      "Model now learning\n",
      "Model finished learning\n",
      "Now some optimisation\n",
      "Finished\n",
      "-0.00036491468\n"
     ]
    },
    {
     "name": "stderr",
     "output_type": "stream",
     "text": [
      "[I 2019-08-01 16:52:16,037] Finished trial#118 resulted in value: 0.00036491468199528754. Current best value is -0.029757723212242126 with parameters: {'n_steps': 496.7369338766725, 'gamma': 0.97797986515614, 'learning_rate': 0.0042812561845731465}.\n"
     ]
    },
    {
     "name": "stdout",
     "output_type": "stream",
     "text": [
      "Model now learning\n",
      "Model finished learning\n",
      "Now some optimisation\n",
      "Finished\n",
      "0.0009875374\n"
     ]
    },
    {
     "name": "stderr",
     "output_type": "stream",
     "text": [
      "[I 2019-08-01 17:09:38,406] Finished trial#121 resulted in value: -0.0009875374380499125. Current best value is -0.029757723212242126 with parameters: {'n_steps': 496.7369338766725, 'gamma': 0.97797986515614, 'learning_rate': 0.0042812561845731465}.\n"
     ]
    },
    {
     "name": "stdout",
     "output_type": "stream",
     "text": [
      "Model now learning\n",
      "Model finished learning\n",
      "Now some optimisation\n",
      "Finished\n",
      "0.008719671\n"
     ]
    },
    {
     "name": "stderr",
     "output_type": "stream",
     "text": [
      "[I 2019-08-01 17:17:21,073] Finished trial#115 resulted in value: -0.008719670586287975. Current best value is -0.029757723212242126 with parameters: {'n_steps': 496.7369338766725, 'gamma': 0.97797986515614, 'learning_rate': 0.0042812561845731465}.\n"
     ]
    },
    {
     "name": "stdout",
     "output_type": "stream",
     "text": [
      "Model now learning\n",
      "Model finished learning\n",
      "Now some optimisation\n",
      "Finished\n",
      "0.009775341\n"
     ]
    },
    {
     "name": "stderr",
     "output_type": "stream",
     "text": [
      "[I 2019-08-01 17:25:10,647] Finished trial#120 resulted in value: -0.009775340557098389. Current best value is -0.029757723212242126 with parameters: {'n_steps': 496.7369338766725, 'gamma': 0.97797986515614, 'learning_rate': 0.0042812561845731465}.\n"
     ]
    },
    {
     "name": "stdout",
     "output_type": "stream",
     "text": [
      "Model now learning\n",
      "Model finished learning\n",
      "Now some optimisation\n",
      "Finished\n",
      "0.0033242735\n"
     ]
    },
    {
     "name": "stderr",
     "output_type": "stream",
     "text": [
      "[I 2019-08-01 17:40:40,722] Finished trial#123 resulted in value: -0.003324273508042097. Current best value is -0.029757723212242126 with parameters: {'n_steps': 496.7369338766725, 'gamma': 0.97797986515614, 'learning_rate': 0.0042812561845731465}.\n"
     ]
    },
    {
     "name": "stdout",
     "output_type": "stream",
     "text": [
      "Model now learning\n",
      "Model finished learning\n",
      "Now some optimisation\n",
      "Finished\n",
      "0.013903872\n"
     ]
    },
    {
     "name": "stderr",
     "output_type": "stream",
     "text": [
      "[I 2019-08-01 17:49:15,833] Finished trial#124 resulted in value: -0.013903872109949589. Current best value is -0.029757723212242126 with parameters: {'n_steps': 496.7369338766725, 'gamma': 0.97797986515614, 'learning_rate': 0.0042812561845731465}.\n"
     ]
    },
    {
     "name": "stdout",
     "output_type": "stream",
     "text": [
      "Model now learning\n",
      "Model finished learning\n",
      "Now some optimisation\n",
      "Finished\n",
      "0.0\n"
     ]
    },
    {
     "name": "stderr",
     "output_type": "stream",
     "text": [
      "[I 2019-08-01 18:03:32,674] Finished trial#125 resulted in value: -0.0. Current best value is -0.029757723212242126 with parameters: {'n_steps': 496.7369338766725, 'gamma': 0.97797986515614, 'learning_rate': 0.0042812561845731465}.\n"
     ]
    },
    {
     "name": "stdout",
     "output_type": "stream",
     "text": [
      "Model now learning\n",
      "Model finished learning\n",
      "Now some optimisation\n",
      "Finished\n",
      "0.001541049\n"
     ]
    },
    {
     "name": "stderr",
     "output_type": "stream",
     "text": [
      "[I 2019-08-01 18:04:41,045] Finished trial#126 resulted in value: -0.0015410489868372679. Current best value is -0.029757723212242126 with parameters: {'n_steps': 496.7369338766725, 'gamma': 0.97797986515614, 'learning_rate': 0.0042812561845731465}.\n"
     ]
    },
    {
     "name": "stdout",
     "output_type": "stream",
     "text": [
      "Model now learning\n",
      "Model finished learning\n",
      "Now some optimisation\n",
      "Finished\n",
      "0.011642741\n"
     ]
    },
    {
     "name": "stderr",
     "output_type": "stream",
     "text": [
      "[I 2019-08-01 18:37:58,127] Finished trial#127 resulted in value: -0.011642741039395332. Current best value is -0.029757723212242126 with parameters: {'n_steps': 496.7369338766725, 'gamma': 0.97797986515614, 'learning_rate': 0.0042812561845731465}.\n"
     ]
    },
    {
     "name": "stdout",
     "output_type": "stream",
     "text": [
      "Model now learning\n",
      "Model finished learning\n",
      "Now some optimisation\n",
      "Finished\n",
      "0.022755552\n"
     ]
    },
    {
     "name": "stderr",
     "output_type": "stream",
     "text": [
      "[I 2019-08-01 18:40:17,145] Finished trial#119 resulted in value: -0.02275555208325386. Current best value is -0.029757723212242126 with parameters: {'n_steps': 496.7369338766725, 'gamma': 0.97797986515614, 'learning_rate': 0.0042812561845731465}.\n"
     ]
    },
    {
     "name": "stdout",
     "output_type": "stream",
     "text": [
      "Model now learning\n",
      "Model finished learning\n",
      "Now some optimisation\n",
      "Finished\n",
      "0.010113859\n"
     ]
    },
    {
     "name": "stderr",
     "output_type": "stream",
     "text": [
      "[I 2019-08-01 19:05:38,778] Finished trial#129 resulted in value: -0.010113858617842197. Current best value is -0.029757723212242126 with parameters: {'n_steps': 496.7369338766725, 'gamma': 0.97797986515614, 'learning_rate': 0.0042812561845731465}.\n"
     ]
    },
    {
     "name": "stdout",
     "output_type": "stream",
     "text": [
      "Model now learning\n",
      "Model finished learning\n",
      "Now some optimisation\n",
      "Finished\n",
      "0.0026086953\n"
     ]
    },
    {
     "name": "stderr",
     "output_type": "stream",
     "text": [
      "[I 2019-08-01 19:07:14,258] Finished trial#130 resulted in value: -0.002608695300295949. Current best value is -0.029757723212242126 with parameters: {'n_steps': 496.7369338766725, 'gamma': 0.97797986515614, 'learning_rate': 0.0042812561845731465}.\n"
     ]
    },
    {
     "name": "stdout",
     "output_type": "stream",
     "text": [
      "Model now learning\n",
      "Model finished learning\n",
      "Now some optimisation\n",
      "Finished\n",
      "0.0\n"
     ]
    },
    {
     "name": "stderr",
     "output_type": "stream",
     "text": [
      "[I 2019-08-01 19:28:34,022] Finished trial#128 resulted in value: -0.0. Current best value is -0.029757723212242126 with parameters: {'n_steps': 496.7369338766725, 'gamma': 0.97797986515614, 'learning_rate': 0.0042812561845731465}.\n"
     ]
    },
    {
     "name": "stdout",
     "output_type": "stream",
     "text": [
      "Model now learning\n",
      "Model finished learning\n",
      "Now some optimisation\n",
      "Finished\n",
      "-0.00015047891\n"
     ]
    },
    {
     "name": "stderr",
     "output_type": "stream",
     "text": [
      "[I 2019-08-01 19:40:53,151] Finished trial#122 resulted in value: 0.00015047891065478325. Current best value is -0.029757723212242126 with parameters: {'n_steps': 496.7369338766725, 'gamma': 0.97797986515614, 'learning_rate': 0.0042812561845731465}.\n"
     ]
    },
    {
     "name": "stdout",
     "output_type": "stream",
     "text": [
      "Model now learning\n",
      "Model finished learning\n",
      "Now some optimisation\n",
      "Finished\n",
      "0.0008493331\n"
     ]
    },
    {
     "name": "stderr",
     "output_type": "stream",
     "text": [
      "[I 2019-08-01 20:13:51,557] Finished trial#131 resulted in value: -0.0008493331260979176. Current best value is -0.029757723212242126 with parameters: {'n_steps': 496.7369338766725, 'gamma': 0.97797986515614, 'learning_rate': 0.0042812561845731465}.\n"
     ]
    },
    {
     "name": "stdout",
     "output_type": "stream",
     "text": [
      "Model now learning\n",
      "Model finished learning\n",
      "Now some optimisation\n",
      "Finished\n",
      "0.0008581545\n"
     ]
    },
    {
     "name": "stderr",
     "output_type": "stream",
     "text": [
      "[I 2019-08-01 20:16:20,057] Finished trial#132 resulted in value: -0.0008581544971093535. Current best value is -0.029757723212242126 with parameters: {'n_steps': 496.7369338766725, 'gamma': 0.97797986515614, 'learning_rate': 0.0042812561845731465}.\n"
     ]
    },
    {
     "name": "stdout",
     "output_type": "stream",
     "text": [
      "Model now learning\n",
      "Model finished learning\n",
      "Now some optimisation\n",
      "Finished\n",
      "0.005017956\n"
     ]
    },
    {
     "name": "stderr",
     "output_type": "stream",
     "text": [
      "[I 2019-08-01 20:26:49,560] Finished trial#135 resulted in value: -0.0050179557874798775. Current best value is -0.029757723212242126 with parameters: {'n_steps': 496.7369338766725, 'gamma': 0.97797986515614, 'learning_rate': 0.0042812561845731465}.\n"
     ]
    },
    {
     "name": "stdout",
     "output_type": "stream",
     "text": [
      "Model now learning\n",
      "Model finished learning\n",
      "Now some optimisation\n",
      "Finished\n",
      "-0.0032060568\n"
     ]
    },
    {
     "name": "stderr",
     "output_type": "stream",
     "text": [
      "[I 2019-08-01 20:34:30,961] Finished trial#133 resulted in value: 0.0032060567755252123. Current best value is -0.029757723212242126 with parameters: {'n_steps': 496.7369338766725, 'gamma': 0.97797986515614, 'learning_rate': 0.0042812561845731465}.\n"
     ]
    },
    {
     "name": "stdout",
     "output_type": "stream",
     "text": [
      "Model now learning\n",
      "Model finished learning\n",
      "Now some optimisation\n",
      "Finished\n",
      "0.009278161\n"
     ]
    },
    {
     "name": "stderr",
     "output_type": "stream",
     "text": [
      "[I 2019-08-01 20:38:14,571] Finished trial#136 resulted in value: -0.009278161451220512. Current best value is -0.029757723212242126 with parameters: {'n_steps': 496.7369338766725, 'gamma': 0.97797986515614, 'learning_rate': 0.0042812561845731465}.\n"
     ]
    },
    {
     "name": "stdout",
     "output_type": "stream",
     "text": [
      "Model now learning\n",
      "Model finished learning\n",
      "Now some optimisation\n",
      "Finished\n",
      "0.0013969961\n"
     ]
    },
    {
     "name": "stderr",
     "output_type": "stream",
     "text": [
      "[I 2019-08-01 20:48:07,616] Finished trial#137 resulted in value: -0.0013969960855320096. Current best value is -0.029757723212242126 with parameters: {'n_steps': 496.7369338766725, 'gamma': 0.97797986515614, 'learning_rate': 0.0042812561845731465}.\n"
     ]
    },
    {
     "name": "stdout",
     "output_type": "stream",
     "text": [
      "Model now learning\n",
      "Model finished learning\n",
      "Now some optimisation\n",
      "Finished\n",
      "0.0\n"
     ]
    },
    {
     "name": "stderr",
     "output_type": "stream",
     "text": [
      "[I 2019-08-01 20:49:22,411] Finished trial#134 resulted in value: -0.0. Current best value is -0.029757723212242126 with parameters: {'n_steps': 496.7369338766725, 'gamma': 0.97797986515614, 'learning_rate': 0.0042812561845731465}.\n"
     ]
    },
    {
     "name": "stdout",
     "output_type": "stream",
     "text": [
      "Model now learning\n",
      "Model finished learning\n",
      "Now some optimisation\n",
      "Finished\n",
      "1.4078735e-05\n"
     ]
    },
    {
     "name": "stderr",
     "output_type": "stream",
     "text": [
      "[I 2019-08-01 21:05:09,985] Finished trial#141 resulted in value: -1.4078735148359556e-05. Current best value is -0.029757723212242126 with parameters: {'n_steps': 496.7369338766725, 'gamma': 0.97797986515614, 'learning_rate': 0.0042812561845731465}.\n"
     ]
    },
    {
     "name": "stdout",
     "output_type": "stream",
     "text": [
      "Model now learning\n",
      "Model finished learning\n",
      "Now some optimisation\n",
      "Finished\n",
      "0.008524984\n"
     ]
    },
    {
     "name": "stderr",
     "output_type": "stream",
     "text": [
      "[I 2019-08-01 21:34:04,731] Finished trial#140 resulted in value: -0.008524984121322632. Current best value is -0.029757723212242126 with parameters: {'n_steps': 496.7369338766725, 'gamma': 0.97797986515614, 'learning_rate': 0.0042812561845731465}.\n"
     ]
    },
    {
     "name": "stdout",
     "output_type": "stream",
     "text": [
      "Model now learning\n",
      "Model finished learning\n",
      "Now some optimisation\n",
      "Finished\n",
      "0.016602203\n"
     ]
    },
    {
     "name": "stderr",
     "output_type": "stream",
     "text": [
      "[I 2019-08-01 21:34:29,399] Finished trial#138 resulted in value: -0.016602203249931335. Current best value is -0.029757723212242126 with parameters: {'n_steps': 496.7369338766725, 'gamma': 0.97797986515614, 'learning_rate': 0.0042812561845731465}.\n"
     ]
    },
    {
     "name": "stdout",
     "output_type": "stream",
     "text": [
      "Model now learning\n",
      "Model finished learning\n",
      "Now some optimisation\n",
      "Finished\n",
      "-0.005631943\n"
     ]
    },
    {
     "name": "stderr",
     "output_type": "stream",
     "text": [
      "[I 2019-08-01 21:37:50,411] Finished trial#139 resulted in value: 0.005631942767649889. Current best value is -0.029757723212242126 with parameters: {'n_steps': 496.7369338766725, 'gamma': 0.97797986515614, 'learning_rate': 0.0042812561845731465}.\n"
     ]
    },
    {
     "name": "stdout",
     "output_type": "stream",
     "text": [
      "Model now learning\n",
      "Model finished learning\n",
      "Now some optimisation\n",
      "Finished\n",
      "0.03037211\n"
     ]
    },
    {
     "name": "stderr",
     "output_type": "stream",
     "text": [
      "[I 2019-08-01 21:56:27,831] Finished trial#145 resulted in value: -0.03037210926413536. Current best value is -0.03037210926413536 with parameters: {'n_steps': 218.7153107041124, 'gamma': 0.9501558596684897, 'learning_rate': 0.023345300113504476}.\n"
     ]
    },
    {
     "name": "stdout",
     "output_type": "stream",
     "text": [
      "Model now learning\n",
      "Model finished learning\n",
      "Now some optimisation\n",
      "Finished\n",
      "0.014712786\n"
     ]
    },
    {
     "name": "stderr",
     "output_type": "stream",
     "text": [
      "[I 2019-08-01 22:05:39,501] Finished trial#144 resulted in value: -0.014712786301970482. Current best value is -0.03037210926413536 with parameters: {'n_steps': 218.7153107041124, 'gamma': 0.9501558596684897, 'learning_rate': 0.023345300113504476}.\n"
     ]
    },
    {
     "name": "stdout",
     "output_type": "stream",
     "text": [
      "Model finished learning\n",
      "Now some optimisation\n",
      "Finished\n",
      "0.0\n"
     ]
    },
    {
     "name": "stderr",
     "output_type": "stream",
     "text": [
      "[I 2019-08-01 22:05:49,273] Finished trial#142 resulted in value: -0.0. Current best value is -0.03037210926413536 with parameters: {'n_steps': 218.7153107041124, 'gamma': 0.9501558596684897, 'learning_rate': 0.023345300113504476}.\n"
     ]
    },
    {
     "name": "stdout",
     "output_type": "stream",
     "text": [
      "Model now learning\n",
      "Model now learning\n",
      "Model finished learning\n",
      "Now some optimisation\n",
      "Finished\n",
      "0.010125623\n"
     ]
    },
    {
     "name": "stderr",
     "output_type": "stream",
     "text": [
      "[I 2019-08-01 22:13:03,813] Finished trial#147 resulted in value: -0.01012562308460474. Current best value is -0.03037210926413536 with parameters: {'n_steps': 218.7153107041124, 'gamma': 0.9501558596684897, 'learning_rate': 0.023345300113504476}.\n"
     ]
    },
    {
     "name": "stdout",
     "output_type": "stream",
     "text": [
      "Model now learning\n",
      "Model finished learning\n",
      "Now some optimisation\n",
      "Finished\n",
      "0.019440467\n"
     ]
    },
    {
     "name": "stderr",
     "output_type": "stream",
     "text": [
      "[I 2019-08-01 22:15:48,049] Finished trial#146 resulted in value: -0.019440466538071632. Current best value is -0.03037210926413536 with parameters: {'n_steps': 218.7153107041124, 'gamma': 0.9501558596684897, 'learning_rate': 0.023345300113504476}.\n"
     ]
    },
    {
     "name": "stdout",
     "output_type": "stream",
     "text": [
      "Model now learning\n",
      "Model finished learning\n",
      "Now some optimisation\n",
      "Finished\n",
      "0.023277584\n"
     ]
    },
    {
     "name": "stderr",
     "output_type": "stream",
     "text": [
      "[I 2019-08-01 22:24:27,389] Finished trial#149 resulted in value: -0.023277584463357925. Current best value is -0.03037210926413536 with parameters: {'n_steps': 218.7153107041124, 'gamma': 0.9501558596684897, 'learning_rate': 0.023345300113504476}.\n"
     ]
    },
    {
     "name": "stdout",
     "output_type": "stream",
     "text": [
      "Model now learning\n",
      "Model finished learning\n",
      "Now some optimisation\n",
      "Finished\n",
      "0.016456971\n"
     ]
    },
    {
     "name": "stderr",
     "output_type": "stream",
     "text": [
      "[I 2019-08-01 22:25:26,955] Finished trial#148 resulted in value: -0.01645697094500065. Current best value is -0.03037210926413536 with parameters: {'n_steps': 218.7153107041124, 'gamma': 0.9501558596684897, 'learning_rate': 0.023345300113504476}.\n"
     ]
    },
    {
     "name": "stdout",
     "output_type": "stream",
     "text": [
      "Model now learning\n",
      "Model finished learning\n",
      "Now some optimisation\n",
      "Finished\n",
      "0.020323304\n"
     ]
    },
    {
     "name": "stderr",
     "output_type": "stream",
     "text": [
      "[I 2019-08-01 22:30:17,748] Finished trial#150 resulted in value: -0.02032330445945263. Current best value is -0.03037210926413536 with parameters: {'n_steps': 218.7153107041124, 'gamma': 0.9501558596684897, 'learning_rate': 0.023345300113504476}.\n"
     ]
    },
    {
     "name": "stdout",
     "output_type": "stream",
     "text": [
      "Model now learning\n",
      "Model finished learning\n",
      "Now some optimisation\n",
      "Finished\n",
      "-0.01207666\n"
     ]
    },
    {
     "name": "stderr",
     "output_type": "stream",
     "text": [
      "[I 2019-08-01 22:35:17,279] Finished trial#143 resulted in value: 0.012076660059392452. Current best value is -0.03037210926413536 with parameters: {'n_steps': 218.7153107041124, 'gamma': 0.9501558596684897, 'learning_rate': 0.023345300113504476}.\n"
     ]
    },
    {
     "name": "stdout",
     "output_type": "stream",
     "text": [
      "Model now learning\n",
      "Model finished learning\n",
      "Now some optimisation\n",
      "Finished\n",
      "0.0045383754\n"
     ]
    },
    {
     "name": "stderr",
     "output_type": "stream",
     "text": [
      "[I 2019-08-01 22:39:45,559] Finished trial#152 resulted in value: -0.004538375418633223. Current best value is -0.03037210926413536 with parameters: {'n_steps': 218.7153107041124, 'gamma': 0.9501558596684897, 'learning_rate': 0.023345300113504476}.\n"
     ]
    },
    {
     "name": "stdout",
     "output_type": "stream",
     "text": [
      "Model now learning\n",
      "Model finished learning\n",
      "Now some optimisation\n",
      "Finished\n",
      "0.01596862\n"
     ]
    },
    {
     "name": "stderr",
     "output_type": "stream",
     "text": [
      "[I 2019-08-01 22:44:36,308] Finished trial#154 resulted in value: -0.015968620777130127. Current best value is -0.03037210926413536 with parameters: {'n_steps': 218.7153107041124, 'gamma': 0.9501558596684897, 'learning_rate': 0.023345300113504476}.\n"
     ]
    },
    {
     "name": "stdout",
     "output_type": "stream",
     "text": [
      "Model now learning\n",
      "Model finished learning\n",
      "Now some optimisation\n",
      "Finished\n",
      "0.015486183\n"
     ]
    },
    {
     "name": "stderr",
     "output_type": "stream",
     "text": [
      "[I 2019-08-01 22:55:36,166] Finished trial#156 resulted in value: -0.015486182644963264. Current best value is -0.03037210926413536 with parameters: {'n_steps': 218.7153107041124, 'gamma': 0.9501558596684897, 'learning_rate': 0.023345300113504476}.\n"
     ]
    },
    {
     "name": "stdout",
     "output_type": "stream",
     "text": [
      "Model now learning\n",
      "Model finished learning\n",
      "Now some optimisation\n",
      "Finished\n",
      "0.02386905\n"
     ]
    },
    {
     "name": "stderr",
     "output_type": "stream",
     "text": [
      "[I 2019-08-01 22:58:46,728] Finished trial#151 resulted in value: -0.023869050666689873. Current best value is -0.03037210926413536 with parameters: {'n_steps': 218.7153107041124, 'gamma': 0.9501558596684897, 'learning_rate': 0.023345300113504476}.\n"
     ]
    },
    {
     "name": "stdout",
     "output_type": "stream",
     "text": [
      "Model now learning\n",
      "Model finished learning\n",
      "Now some optimisation\n",
      "Finished\n",
      "0.023179665\n"
     ]
    },
    {
     "name": "stderr",
     "output_type": "stream",
     "text": [
      "[I 2019-08-01 23:05:03,286] Finished trial#153 resulted in value: -0.023179665207862854. Current best value is -0.03037210926413536 with parameters: {'n_steps': 218.7153107041124, 'gamma': 0.9501558596684897, 'learning_rate': 0.023345300113504476}.\n"
     ]
    },
    {
     "name": "stdout",
     "output_type": "stream",
     "text": [
      "Model now learning\n",
      "Model finished learning\n",
      "Now some optimisation\n",
      "Finished\n",
      "0.011078446\n"
     ]
    },
    {
     "name": "stderr",
     "output_type": "stream",
     "text": [
      "[I 2019-08-01 23:30:10,345] Finished trial#157 resulted in value: -0.011078446172177792. Current best value is -0.03037210926413536 with parameters: {'n_steps': 218.7153107041124, 'gamma': 0.9501558596684897, 'learning_rate': 0.023345300113504476}.\n"
     ]
    },
    {
     "name": "stdout",
     "output_type": "stream",
     "text": [
      "Model now learning\n",
      "Model finished learning\n",
      "Now some optimisation\n",
      "Finished\n",
      "0.01557886\n"
     ]
    },
    {
     "name": "stderr",
     "output_type": "stream",
     "text": [
      "[I 2019-08-01 23:39:11,104] Finished trial#158 resulted in value: -0.0155788604170084. Current best value is -0.03037210926413536 with parameters: {'n_steps': 218.7153107041124, 'gamma': 0.9501558596684897, 'learning_rate': 0.023345300113504476}.\n"
     ]
    },
    {
     "name": "stdout",
     "output_type": "stream",
     "text": [
      "Model now learning\n",
      "Model finished learning\n",
      "Now some optimisation\n",
      "Finished\n",
      "0.0101628695\n"
     ]
    },
    {
     "name": "stderr",
     "output_type": "stream",
     "text": [
      "[I 2019-08-01 23:44:51,327] Finished trial#159 resulted in value: -0.010162869468331337. Current best value is -0.03037210926413536 with parameters: {'n_steps': 218.7153107041124, 'gamma': 0.9501558596684897, 'learning_rate': 0.023345300113504476}.\n"
     ]
    },
    {
     "name": "stdout",
     "output_type": "stream",
     "text": [
      "Model now learning\n",
      "Model finished learning\n",
      "Now some optimisation\n",
      "Finished\n",
      "0.0111073535\n"
     ]
    },
    {
     "name": "stderr",
     "output_type": "stream",
     "text": [
      "[I 2019-08-01 23:50:33,454] Finished trial#162 resulted in value: -0.011107353493571281. Current best value is -0.03037210926413536 with parameters: {'n_steps': 218.7153107041124, 'gamma': 0.9501558596684897, 'learning_rate': 0.023345300113504476}.\n"
     ]
    },
    {
     "name": "stdout",
     "output_type": "stream",
     "text": [
      "Model now learning\n",
      "Model finished learning\n",
      "Now some optimisation\n",
      "Finished\n",
      "0.0046458747\n"
     ]
    },
    {
     "name": "stderr",
     "output_type": "stream",
     "text": [
      "[I 2019-08-02 00:05:21,086] Finished trial#155 resulted in value: -0.004645874723792076. Current best value is -0.03037210926413536 with parameters: {'n_steps': 218.7153107041124, 'gamma': 0.9501558596684897, 'learning_rate': 0.023345300113504476}.\n"
     ]
    },
    {
     "name": "stdout",
     "output_type": "stream",
     "text": [
      "Model now learning\n",
      "Model finished learning\n",
      "Now some optimisation\n",
      "Finished\n",
      "0.009330979\n"
     ]
    },
    {
     "name": "stderr",
     "output_type": "stream",
     "text": [
      "[I 2019-08-02 00:21:08,612] Finished trial#164 resulted in value: -0.009330978617072105. Current best value is -0.03037210926413536 with parameters: {'n_steps': 218.7153107041124, 'gamma': 0.9501558596684897, 'learning_rate': 0.023345300113504476}.\n"
     ]
    },
    {
     "name": "stdout",
     "output_type": "stream",
     "text": [
      "Model now learning\n",
      "Model finished learning\n",
      "Now some optimisation\n",
      "Finished\n",
      "0.0018964016\n"
     ]
    },
    {
     "name": "stderr",
     "output_type": "stream",
     "text": [
      "[I 2019-08-02 00:50:44,965] Finished trial#160 resulted in value: -0.001896401634439826. Current best value is -0.03037210926413536 with parameters: {'n_steps': 218.7153107041124, 'gamma': 0.9501558596684897, 'learning_rate': 0.023345300113504476}.\n"
     ]
    },
    {
     "name": "stdout",
     "output_type": "stream",
     "text": [
      "Model now learning\n",
      "Model finished learning\n",
      "Now some optimisation\n",
      "Finished\n",
      "0.003991373\n"
     ]
    },
    {
     "name": "stderr",
     "output_type": "stream",
     "text": [
      "[I 2019-08-02 01:00:19,439] Finished trial#161 resulted in value: -0.003991372883319855. Current best value is -0.03037210926413536 with parameters: {'n_steps': 218.7153107041124, 'gamma': 0.9501558596684897, 'learning_rate': 0.023345300113504476}.\n"
     ]
    },
    {
     "name": "stdout",
     "output_type": "stream",
     "text": [
      "Model now learning\n",
      "Model finished learning\n",
      "Now some optimisation\n",
      "Finished\n",
      "0.0\n"
     ]
    },
    {
     "name": "stderr",
     "output_type": "stream",
     "text": [
      "[I 2019-08-02 01:05:00,580] Finished trial#165 resulted in value: -0.0. Current best value is -0.03037210926413536 with parameters: {'n_steps': 218.7153107041124, 'gamma': 0.9501558596684897, 'learning_rate': 0.023345300113504476}.\n"
     ]
    },
    {
     "name": "stdout",
     "output_type": "stream",
     "text": [
      "Model now learning\n",
      "Model finished learning\n",
      "Now some optimisation\n",
      "Finished\n",
      "0.0\n"
     ]
    },
    {
     "name": "stderr",
     "output_type": "stream",
     "text": [
      "[I 2019-08-02 01:10:59,021] Finished trial#163 resulted in value: -0.0. Current best value is -0.03037210926413536 with parameters: {'n_steps': 218.7153107041124, 'gamma': 0.9501558596684897, 'learning_rate': 0.023345300113504476}.\n"
     ]
    },
    {
     "name": "stdout",
     "output_type": "stream",
     "text": [
      "Model now learning\n",
      "Model finished learning\n",
      "Now some optimisation\n",
      "Finished\n",
      "0.0\n"
     ]
    },
    {
     "name": "stderr",
     "output_type": "stream",
     "text": [
      "[I 2019-08-02 01:36:33,426] Finished trial#166 resulted in value: -0.0. Current best value is -0.03037210926413536 with parameters: {'n_steps': 218.7153107041124, 'gamma': 0.9501558596684897, 'learning_rate': 0.023345300113504476}.\n"
     ]
    },
    {
     "name": "stdout",
     "output_type": "stream",
     "text": [
      "Model now learning\n",
      "Model finished learning\n",
      "Now some optimisation\n",
      "Finished\n",
      "0.0027773285\n"
     ]
    },
    {
     "name": "stderr",
     "output_type": "stream",
     "text": [
      "[I 2019-08-02 01:38:46,498] Finished trial#169 resulted in value: -0.0027773284818977118. Current best value is -0.03037210926413536 with parameters: {'n_steps': 218.7153107041124, 'gamma': 0.9501558596684897, 'learning_rate': 0.023345300113504476}.\n"
     ]
    },
    {
     "name": "stdout",
     "output_type": "stream",
     "text": [
      "Model now learning\n",
      "Model finished learning\n",
      "Now some optimisation\n",
      "Finished\n",
      "0.0004940011\n"
     ]
    },
    {
     "name": "stderr",
     "output_type": "stream",
     "text": [
      "[I 2019-08-02 01:43:53,004] Finished trial#171 resulted in value: -0.0004940010840073228. Current best value is -0.03037210926413536 with parameters: {'n_steps': 218.7153107041124, 'gamma': 0.9501558596684897, 'learning_rate': 0.023345300113504476}.\n"
     ]
    },
    {
     "name": "stdout",
     "output_type": "stream",
     "text": [
      "Model now learning\n",
      "Model finished learning\n",
      "Now some optimisation\n",
      "Finished\n",
      "0.0045597167\n"
     ]
    },
    {
     "name": "stderr",
     "output_type": "stream",
     "text": [
      "[I 2019-08-02 01:49:28,174] Finished trial#167 resulted in value: -0.004559716675430536. Current best value is -0.03037210926413536 with parameters: {'n_steps': 218.7153107041124, 'gamma': 0.9501558596684897, 'learning_rate': 0.023345300113504476}.\n"
     ]
    },
    {
     "name": "stdout",
     "output_type": "stream",
     "text": [
      "Model now learning\n",
      "Model finished learning\n",
      "Now some optimisation\n",
      "Finished\n",
      "0.010544248\n"
     ]
    },
    {
     "name": "stderr",
     "output_type": "stream",
     "text": [
      "[I 2019-08-02 01:55:24,338] Finished trial#168 resulted in value: -0.010544247925281525. Current best value is -0.03037210926413536 with parameters: {'n_steps': 218.7153107041124, 'gamma': 0.9501558596684897, 'learning_rate': 0.023345300113504476}.\n"
     ]
    },
    {
     "name": "stdout",
     "output_type": "stream",
     "text": [
      "Model now learning\n",
      "Model finished learning\n",
      "Now some optimisation\n",
      "Finished\n",
      "-0.0016344602\n"
     ]
    },
    {
     "name": "stderr",
     "output_type": "stream",
     "text": [
      "[I 2019-08-02 02:02:12,725] Finished trial#174 resulted in value: 0.001634460175409913. Current best value is -0.03037210926413536 with parameters: {'n_steps': 218.7153107041124, 'gamma': 0.9501558596684897, 'learning_rate': 0.023345300113504476}.\n"
     ]
    },
    {
     "name": "stdout",
     "output_type": "stream",
     "text": [
      "Model now learning\n",
      "Model finished learning\n",
      "Now some optimisation\n",
      "Finished\n",
      "0.016742267\n"
     ]
    },
    {
     "name": "stderr",
     "output_type": "stream",
     "text": [
      "[I 2019-08-02 02:05:23,639] Finished trial#170 resulted in value: -0.016742266714572906. Current best value is -0.03037210926413536 with parameters: {'n_steps': 218.7153107041124, 'gamma': 0.9501558596684897, 'learning_rate': 0.023345300113504476}.\n"
     ]
    },
    {
     "name": "stdout",
     "output_type": "stream",
     "text": [
      "Model now learning\n",
      "Model finished learning\n",
      "Now some optimisation\n",
      "Finished\n",
      "0.0058857705\n"
     ]
    },
    {
     "name": "stderr",
     "output_type": "stream",
     "text": [
      "[I 2019-08-02 02:16:32,031] Finished trial#176 resulted in value: -0.005885770544409752. Current best value is -0.03037210926413536 with parameters: {'n_steps': 218.7153107041124, 'gamma': 0.9501558596684897, 'learning_rate': 0.023345300113504476}.\n"
     ]
    },
    {
     "name": "stdout",
     "output_type": "stream",
     "text": [
      "Model now learning\n",
      "Model finished learning\n",
      "Now some optimisation\n",
      "Finished\n",
      "0.02287587\n"
     ]
    },
    {
     "name": "stderr",
     "output_type": "stream",
     "text": [
      "[I 2019-08-02 02:35:54,254] Finished trial#173 resulted in value: -0.022875869646668434. Current best value is -0.03037210926413536 with parameters: {'n_steps': 218.7153107041124, 'gamma': 0.9501558596684897, 'learning_rate': 0.023345300113504476}.\n"
     ]
    },
    {
     "name": "stdout",
     "output_type": "stream",
     "text": [
      "Model now learning\n",
      "Model finished learning\n",
      "Now some optimisation\n",
      "Finished\n",
      "0.00022069982\n"
     ]
    },
    {
     "name": "stderr",
     "output_type": "stream",
     "text": [
      "[I 2019-08-02 03:16:09,451] Finished trial#172 resulted in value: -0.00022069981787353754. Current best value is -0.03037210926413536 with parameters: {'n_steps': 218.7153107041124, 'gamma': 0.9501558596684897, 'learning_rate': 0.023345300113504476}.\n"
     ]
    },
    {
     "name": "stdout",
     "output_type": "stream",
     "text": [
      "Model now learning\n",
      "Model finished learning\n",
      "Now some optimisation\n",
      "Finished\n",
      "0.027887885\n"
     ]
    },
    {
     "name": "stderr",
     "output_type": "stream",
     "text": [
      "[I 2019-08-02 03:19:06,698] Finished trial#175 resulted in value: -0.02788788452744484. Current best value is -0.03037210926413536 with parameters: {'n_steps': 218.7153107041124, 'gamma': 0.9501558596684897, 'learning_rate': 0.023345300113504476}.\n"
     ]
    },
    {
     "name": "stdout",
     "output_type": "stream",
     "text": [
      "Model now learning\n",
      "Model finished learning\n",
      "Now some optimisation\n",
      "Finished\n",
      "0.008645497\n"
     ]
    },
    {
     "name": "stderr",
     "output_type": "stream",
     "text": [
      "[I 2019-08-02 03:29:53,732] Finished trial#177 resulted in value: -0.008645497262477875. Current best value is -0.03037210926413536 with parameters: {'n_steps': 218.7153107041124, 'gamma': 0.9501558596684897, 'learning_rate': 0.023345300113504476}.\n"
     ]
    },
    {
     "name": "stdout",
     "output_type": "stream",
     "text": [
      "Model now learning\n",
      "Model finished learning\n",
      "Now some optimisation\n",
      "Finished\n",
      "0.002933984\n"
     ]
    },
    {
     "name": "stderr",
     "output_type": "stream",
     "text": [
      "[I 2019-08-02 03:48:08,685] Finished trial#181 resulted in value: -0.002933983923867345. Current best value is -0.03037210926413536 with parameters: {'n_steps': 218.7153107041124, 'gamma': 0.9501558596684897, 'learning_rate': 0.023345300113504476}.\n"
     ]
    },
    {
     "name": "stdout",
     "output_type": "stream",
     "text": [
      "Model now learning\n",
      "Model finished learning\n",
      "Now some optimisation\n",
      "Finished\n",
      "-0.0064981985\n"
     ]
    },
    {
     "name": "stderr",
     "output_type": "stream",
     "text": [
      "[I 2019-08-02 03:58:04,068] Finished trial#178 resulted in value: 0.006498198490589857. Current best value is -0.03037210926413536 with parameters: {'n_steps': 218.7153107041124, 'gamma': 0.9501558596684897, 'learning_rate': 0.023345300113504476}.\n"
     ]
    },
    {
     "name": "stdout",
     "output_type": "stream",
     "text": [
      "Model now learning\n",
      "Model finished learning\n",
      "Now some optimisation\n",
      "Finished\n",
      "0.0\n"
     ]
    },
    {
     "name": "stderr",
     "output_type": "stream",
     "text": [
      "[I 2019-08-02 04:07:10,628] Finished trial#182 resulted in value: -0.0. Current best value is -0.03037210926413536 with parameters: {'n_steps': 218.7153107041124, 'gamma': 0.9501558596684897, 'learning_rate': 0.023345300113504476}.\n"
     ]
    },
    {
     "name": "stdout",
     "output_type": "stream",
     "text": [
      "Model now learning\n",
      "Model finished learning\n",
      "Now some optimisation\n",
      "Finished\n",
      "0.006708734\n"
     ]
    },
    {
     "name": "stderr",
     "output_type": "stream",
     "text": [
      "[I 2019-08-02 04:14:09,173] Finished trial#183 resulted in value: -0.006708734203130007. Current best value is -0.03037210926413536 with parameters: {'n_steps': 218.7153107041124, 'gamma': 0.9501558596684897, 'learning_rate': 0.023345300113504476}.\n"
     ]
    },
    {
     "name": "stdout",
     "output_type": "stream",
     "text": [
      "Model now learning\n",
      "Model finished learning\n",
      "Now some optimisation\n",
      "Finished\n",
      "0.0049108965\n"
     ]
    },
    {
     "name": "stderr",
     "output_type": "stream",
     "text": [
      "[I 2019-08-02 04:22:38,387] Finished trial#184 resulted in value: -0.00491089653223753. Current best value is -0.03037210926413536 with parameters: {'n_steps': 218.7153107041124, 'gamma': 0.9501558596684897, 'learning_rate': 0.023345300113504476}.\n"
     ]
    },
    {
     "name": "stdout",
     "output_type": "stream",
     "text": [
      "Model now learning\n",
      "Model finished learning\n",
      "Now some optimisation\n",
      "Finished\n",
      "0.00011066464\n"
     ]
    },
    {
     "name": "stderr",
     "output_type": "stream",
     "text": [
      "[I 2019-08-02 04:32:17,226] Finished trial#179 resulted in value: -0.00011066463775932789. Current best value is -0.03037210926413536 with parameters: {'n_steps': 218.7153107041124, 'gamma': 0.9501558596684897, 'learning_rate': 0.023345300113504476}.\n"
     ]
    },
    {
     "name": "stdout",
     "output_type": "stream",
     "text": [
      "Model now learning\n",
      "Model finished learning\n",
      "Now some optimisation\n",
      "Finished\n",
      "-0.00016761757\n"
     ]
    },
    {
     "name": "stderr",
     "output_type": "stream",
     "text": [
      "[I 2019-08-02 04:33:34,612] Finished trial#180 resulted in value: 0.0001676175743341446. Current best value is -0.03037210926413536 with parameters: {'n_steps': 218.7153107041124, 'gamma': 0.9501558596684897, 'learning_rate': 0.023345300113504476}.\n"
     ]
    },
    {
     "name": "stdout",
     "output_type": "stream",
     "text": [
      "Model now learning\n",
      "Model finished learning\n",
      "Now some optimisation\n",
      "Finished\n",
      "0.0070124\n"
     ]
    },
    {
     "name": "stderr",
     "output_type": "stream",
     "text": [
      "[I 2019-08-02 04:39:43,212] Finished trial#187 resulted in value: -0.007012399844825268. Current best value is -0.03037210926413536 with parameters: {'n_steps': 218.7153107041124, 'gamma': 0.9501558596684897, 'learning_rate': 0.023345300113504476}.\n"
     ]
    },
    {
     "name": "stdout",
     "output_type": "stream",
     "text": [
      "Model now learning\n",
      "Model finished learning\n",
      "Now some optimisation\n",
      "Finished\n",
      "-0.0054241\n"
     ]
    },
    {
     "name": "stderr",
     "output_type": "stream",
     "text": [
      "[I 2019-08-02 04:40:58,030] Finished trial#188 resulted in value: 0.00542409997433424. Current best value is -0.03037210926413536 with parameters: {'n_steps': 218.7153107041124, 'gamma': 0.9501558596684897, 'learning_rate': 0.023345300113504476}.\n"
     ]
    },
    {
     "name": "stdout",
     "output_type": "stream",
     "text": [
      "Model now learning\n",
      "Model finished learning\n",
      "Now some optimisation\n",
      "Finished\n",
      "-0.0022592081\n"
     ]
    },
    {
     "name": "stderr",
     "output_type": "stream",
     "text": [
      "[I 2019-08-02 04:42:27,725] Finished trial#189 resulted in value: 0.002259208122268319. Current best value is -0.03037210926413536 with parameters: {'n_steps': 218.7153107041124, 'gamma': 0.9501558596684897, 'learning_rate': 0.023345300113504476}.\n"
     ]
    },
    {
     "name": "stdout",
     "output_type": "stream",
     "text": [
      "Model now learning\n",
      "Model finished learning\n",
      "Now some optimisation\n",
      "Finished\n",
      "0.008268801\n"
     ]
    },
    {
     "name": "stderr",
     "output_type": "stream",
     "text": [
      "[I 2019-08-02 04:45:33,837] Finished trial#185 resulted in value: -0.008268800564110279. Current best value is -0.03037210926413536 with parameters: {'n_steps': 218.7153107041124, 'gamma': 0.9501558596684897, 'learning_rate': 0.023345300113504476}.\n"
     ]
    },
    {
     "name": "stdout",
     "output_type": "stream",
     "text": [
      "Model now learning\n",
      "Model finished learning\n",
      "Now some optimisation\n",
      "Finished\n",
      "0.0010829993\n"
     ]
    },
    {
     "name": "stderr",
     "output_type": "stream",
     "text": [
      "[I 2019-08-02 04:54:02,028] Finished trial#190 resulted in value: -0.001082999282516539. Current best value is -0.03037210926413536 with parameters: {'n_steps': 218.7153107041124, 'gamma': 0.9501558596684897, 'learning_rate': 0.023345300113504476}.\n"
     ]
    },
    {
     "name": "stdout",
     "output_type": "stream",
     "text": [
      "Model now learning\n",
      "Model finished learning\n",
      "Now some optimisation\n",
      "Finished\n",
      "-0.0073719528\n"
     ]
    },
    {
     "name": "stderr",
     "output_type": "stream",
     "text": [
      "[I 2019-08-02 04:57:59,718] Finished trial#192 resulted in value: 0.007371952757239342. Current best value is -0.03037210926413536 with parameters: {'n_steps': 218.7153107041124, 'gamma': 0.9501558596684897, 'learning_rate': 0.023345300113504476}.\n"
     ]
    },
    {
     "name": "stdout",
     "output_type": "stream",
     "text": [
      "Model now learning\n",
      "Model finished learning\n",
      "Now some optimisation\n",
      "Finished\n",
      "0.0071268743\n"
     ]
    },
    {
     "name": "stderr",
     "output_type": "stream",
     "text": [
      "[I 2019-08-02 06:12:56,869] Finished trial#186 resulted in value: -0.007126874290406704. Current best value is -0.03037210926413536 with parameters: {'n_steps': 218.7153107041124, 'gamma': 0.9501558596684897, 'learning_rate': 0.023345300113504476}.\n"
     ]
    },
    {
     "name": "stdout",
     "output_type": "stream",
     "text": [
      "Model now learning\n",
      "Model finished learning\n",
      "Now some optimisation\n",
      "Finished\n",
      "0.010535094\n"
     ]
    },
    {
     "name": "stderr",
     "output_type": "stream",
     "text": [
      "[I 2019-08-02 06:29:07,306] Finished trial#193 resulted in value: -0.010535093955695629. Current best value is -0.03037210926413536 with parameters: {'n_steps': 218.7153107041124, 'gamma': 0.9501558596684897, 'learning_rate': 0.023345300113504476}.\n"
     ]
    },
    {
     "name": "stdout",
     "output_type": "stream",
     "text": [
      "Model now learning\n",
      "Model finished learning\n",
      "Now some optimisation\n",
      "Finished\n",
      "-8.930266e-05\n"
     ]
    },
    {
     "name": "stderr",
     "output_type": "stream",
     "text": [
      "[I 2019-08-02 06:33:23,189] Finished trial#191 resulted in value: 8.9302659034729e-05. Current best value is -0.03037210926413536 with parameters: {'n_steps': 218.7153107041124, 'gamma': 0.9501558596684897, 'learning_rate': 0.023345300113504476}.\n"
     ]
    },
    {
     "name": "stdout",
     "output_type": "stream",
     "text": [
      "Model now learning\n",
      "Model finished learning\n",
      "Now some optimisation\n",
      "Finished\n",
      "-0.012210578\n"
     ]
    },
    {
     "name": "stderr",
     "output_type": "stream",
     "text": [
      "[I 2019-08-02 06:35:35,650] Finished trial#194 resulted in value: 0.012210577726364136. Current best value is -0.03037210926413536 with parameters: {'n_steps': 218.7153107041124, 'gamma': 0.9501558596684897, 'learning_rate': 0.023345300113504476}.\n"
     ]
    },
    {
     "name": "stdout",
     "output_type": "stream",
     "text": [
      "Model now learning\n",
      "Model finished learning\n",
      "Now some optimisation\n",
      "Finished\n",
      "0.005714955\n"
     ]
    },
    {
     "name": "stderr",
     "output_type": "stream",
     "text": [
      "[I 2019-08-02 06:38:11,127] Finished trial#196 resulted in value: -0.005714954808354378. Current best value is -0.03037210926413536 with parameters: {'n_steps': 218.7153107041124, 'gamma': 0.9501558596684897, 'learning_rate': 0.023345300113504476}.\n"
     ]
    },
    {
     "name": "stdout",
     "output_type": "stream",
     "text": [
      "Model now learning\n",
      "Model finished learning\n",
      "Now some optimisation\n",
      "Finished\n",
      "-0.006772645\n"
     ]
    },
    {
     "name": "stderr",
     "output_type": "stream",
     "text": [
      "[I 2019-08-02 06:56:30,117] Finished trial#195 resulted in value: 0.006772644817829132. Current best value is -0.03037210926413536 with parameters: {'n_steps': 218.7153107041124, 'gamma': 0.9501558596684897, 'learning_rate': 0.023345300113504476}.\n"
     ]
    },
    {
     "name": "stdout",
     "output_type": "stream",
     "text": [
      "Model now learning\n",
      "Model finished learning\n",
      "Now some optimisation\n",
      "Finished\n",
      "0.0059860954\n"
     ]
    },
    {
     "name": "stderr",
     "output_type": "stream",
     "text": [
      "[I 2019-08-02 06:58:55,563] Finished trial#197 resulted in value: -0.005986095406115055. Current best value is -0.03037210926413536 with parameters: {'n_steps': 218.7153107041124, 'gamma': 0.9501558596684897, 'learning_rate': 0.023345300113504476}.\n"
     ]
    },
    {
     "name": "stdout",
     "output_type": "stream",
     "text": [
      "Model now learning\n",
      "Model finished learning\n",
      "Now some optimisation\n",
      "Finished\n",
      "0.014255935\n"
     ]
    },
    {
     "name": "stderr",
     "output_type": "stream",
     "text": [
      "[I 2019-08-02 07:10:10,122] Finished trial#200 resulted in value: -0.014255935326218605. Current best value is -0.03037210926413536 with parameters: {'n_steps': 218.7153107041124, 'gamma': 0.9501558596684897, 'learning_rate': 0.023345300113504476}.\n"
     ]
    },
    {
     "name": "stdout",
     "output_type": "stream",
     "text": [
      "Model now learning\n",
      "Model finished learning\n",
      "Now some optimisation\n",
      "Finished\n",
      "-0.0028958623\n"
     ]
    },
    {
     "name": "stderr",
     "output_type": "stream",
     "text": [
      "[I 2019-08-02 07:21:32,483] Finished trial#199 resulted in value: 0.002895862329751253. Current best value is -0.03037210926413536 with parameters: {'n_steps': 218.7153107041124, 'gamma': 0.9501558596684897, 'learning_rate': 0.023345300113504476}.\n"
     ]
    },
    {
     "name": "stdout",
     "output_type": "stream",
     "text": [
      "Model now learning\n",
      "Model finished learning\n",
      "Now some optimisation\n",
      "Finished\n",
      "-0.001666002\n"
     ]
    },
    {
     "name": "stderr",
     "output_type": "stream",
     "text": [
      "[I 2019-08-02 07:28:29,861] Finished trial#198 resulted in value: 0.0016660019755363464. Current best value is -0.03037210926413536 with parameters: {'n_steps': 218.7153107041124, 'gamma': 0.9501558596684897, 'learning_rate': 0.023345300113504476}.\n"
     ]
    },
    {
     "name": "stdout",
     "output_type": "stream",
     "text": [
      "Model now learning\n",
      "Model finished learning\n",
      "Now some optimisation\n",
      "Finished\n",
      "0.01135381\n"
     ]
    },
    {
     "name": "stderr",
     "output_type": "stream",
     "text": [
      "[I 2019-08-02 07:32:14,940] Finished trial#201 resulted in value: -0.01135381031781435. Current best value is -0.03037210926413536 with parameters: {'n_steps': 218.7153107041124, 'gamma': 0.9501558596684897, 'learning_rate': 0.023345300113504476}.\n"
     ]
    },
    {
     "name": "stdout",
     "output_type": "stream",
     "text": [
      "Model now learning\n",
      "Model finished learning\n",
      "Now some optimisation\n",
      "Finished\n",
      "0.011123394\n"
     ]
    },
    {
     "name": "stderr",
     "output_type": "stream",
     "text": [
      "[I 2019-08-02 07:34:12,177] Finished trial#202 resulted in value: -0.011123393662273884. Current best value is -0.03037210926413536 with parameters: {'n_steps': 218.7153107041124, 'gamma': 0.9501558596684897, 'learning_rate': 0.023345300113504476}.\n"
     ]
    },
    {
     "name": "stdout",
     "output_type": "stream",
     "text": [
      "Model now learning\n",
      "Model finished learning\n",
      "Now some optimisation\n",
      "Finished\n",
      "-0.0024891635\n"
     ]
    },
    {
     "name": "stderr",
     "output_type": "stream",
     "text": [
      "[I 2019-08-02 07:39:37,948] Finished trial#203 resulted in value: 0.002489163540303707. Current best value is -0.03037210926413536 with parameters: {'n_steps': 218.7153107041124, 'gamma': 0.9501558596684897, 'learning_rate': 0.023345300113504476}.\n"
     ]
    },
    {
     "name": "stdout",
     "output_type": "stream",
     "text": [
      "Model now learning\n",
      "Model finished learning\n",
      "Now some optimisation\n",
      "Finished\n",
      "-0.0021117437\n"
     ]
    },
    {
     "name": "stderr",
     "output_type": "stream",
     "text": [
      "[I 2019-08-02 07:52:53,303] Finished trial#205 resulted in value: 0.0021117436699569225. Current best value is -0.03037210926413536 with parameters: {'n_steps': 218.7153107041124, 'gamma': 0.9501558596684897, 'learning_rate': 0.023345300113504476}.\n"
     ]
    },
    {
     "name": "stdout",
     "output_type": "stream",
     "text": [
      "Model now learning\n",
      "Model finished learning\n",
      "Now some optimisation\n",
      "Finished\n",
      "0.010931166\n"
     ]
    },
    {
     "name": "stderr",
     "output_type": "stream",
     "text": [
      "[I 2019-08-02 07:53:25,828] Finished trial#204 resulted in value: -0.010931165888905525. Current best value is -0.03037210926413536 with parameters: {'n_steps': 218.7153107041124, 'gamma': 0.9501558596684897, 'learning_rate': 0.023345300113504476}.\n"
     ]
    },
    {
     "name": "stdout",
     "output_type": "stream",
     "text": [
      "Model now learning\n"
     ]
    },
    {
     "ename": "KeyboardInterrupt",
     "evalue": "",
     "output_type": "error",
     "traceback": [
      "\u001b[0;31m---------------------------------------------------------------------------\u001b[0m",
      "\u001b[0;31mFull\u001b[0m                                      Traceback (most recent call last)",
      "\u001b[0;32m~/.venv/lib/python3.6/site-packages/optuna/study.py\u001b[0m in \u001b[0;36m_optimize_parallel\u001b[0;34m(self, func, n_trials, timeout, n_jobs, catch)\u001b[0m\n\u001b[1;32m    446\u001b[0m             \u001b[0;32mtry\u001b[0m\u001b[0;34m:\u001b[0m\u001b[0;34m\u001b[0m\u001b[0;34m\u001b[0m\u001b[0m\n\u001b[0;32m--> 447\u001b[0;31m                 \u001b[0mque\u001b[0m\u001b[0;34m.\u001b[0m\u001b[0mput_nowait\u001b[0m\u001b[0;34m(\u001b[0m\u001b[0;32mTrue\u001b[0m\u001b[0;34m)\u001b[0m\u001b[0;34m\u001b[0m\u001b[0;34m\u001b[0m\u001b[0m\n\u001b[0m\u001b[1;32m    448\u001b[0m                 \u001b[0mn_enqueued_trials\u001b[0m \u001b[0;34m+=\u001b[0m \u001b[0;36m1\u001b[0m\u001b[0;34m\u001b[0m\u001b[0;34m\u001b[0m\u001b[0m\n",
      "\u001b[0;32m/usr/lib/python3.6/multiprocessing/queues.py\u001b[0m in \u001b[0;36mput_nowait\u001b[0;34m(self, obj)\u001b[0m\n\u001b[1;32m    128\u001b[0m     \u001b[0;32mdef\u001b[0m \u001b[0mput_nowait\u001b[0m\u001b[0;34m(\u001b[0m\u001b[0mself\u001b[0m\u001b[0;34m,\u001b[0m \u001b[0mobj\u001b[0m\u001b[0;34m)\u001b[0m\u001b[0;34m:\u001b[0m\u001b[0;34m\u001b[0m\u001b[0;34m\u001b[0m\u001b[0m\n\u001b[0;32m--> 129\u001b[0;31m         \u001b[0;32mreturn\u001b[0m \u001b[0mself\u001b[0m\u001b[0;34m.\u001b[0m\u001b[0mput\u001b[0m\u001b[0;34m(\u001b[0m\u001b[0mobj\u001b[0m\u001b[0;34m,\u001b[0m \u001b[0;32mFalse\u001b[0m\u001b[0;34m)\u001b[0m\u001b[0;34m\u001b[0m\u001b[0;34m\u001b[0m\u001b[0m\n\u001b[0m\u001b[1;32m    130\u001b[0m \u001b[0;34m\u001b[0m\u001b[0m\n",
      "\u001b[0;32m/usr/lib/python3.6/multiprocessing/queues.py\u001b[0m in \u001b[0;36mput\u001b[0;34m(self, obj, block, timeout)\u001b[0m\n\u001b[1;32m     82\u001b[0m         \u001b[0;32mif\u001b[0m \u001b[0;32mnot\u001b[0m \u001b[0mself\u001b[0m\u001b[0;34m.\u001b[0m\u001b[0m_sem\u001b[0m\u001b[0;34m.\u001b[0m\u001b[0macquire\u001b[0m\u001b[0;34m(\u001b[0m\u001b[0mblock\u001b[0m\u001b[0;34m,\u001b[0m \u001b[0mtimeout\u001b[0m\u001b[0;34m)\u001b[0m\u001b[0;34m:\u001b[0m\u001b[0;34m\u001b[0m\u001b[0;34m\u001b[0m\u001b[0m\n\u001b[0;32m---> 83\u001b[0;31m             \u001b[0;32mraise\u001b[0m \u001b[0mFull\u001b[0m\u001b[0;34m\u001b[0m\u001b[0;34m\u001b[0m\u001b[0m\n\u001b[0m\u001b[1;32m     84\u001b[0m \u001b[0;34m\u001b[0m\u001b[0m\n",
      "\u001b[0;31mFull\u001b[0m: ",
      "\nDuring handling of the above exception, another exception occurred:\n",
      "\u001b[0;31mKeyboardInterrupt\u001b[0m                         Traceback (most recent call last)",
      "\u001b[0;32m<ipython-input-17-8e5ef2428850>\u001b[0m in \u001b[0;36m<module>\u001b[0;34m\u001b[0m\n\u001b[1;32m      1\u001b[0m \u001b[0mstudy\u001b[0m \u001b[0;34m=\u001b[0m \u001b[0moptuna\u001b[0m\u001b[0;34m.\u001b[0m\u001b[0mcreate_study\u001b[0m\u001b[0;34m(\u001b[0m\u001b[0mstudy_name\u001b[0m\u001b[0;34m=\u001b[0m\u001b[0;34m'SAC_v9_optuna'\u001b[0m\u001b[0;34m,\u001b[0m \u001b[0mload_if_exists\u001b[0m\u001b[0;34m=\u001b[0m\u001b[0;32mTrue\u001b[0m\u001b[0;34m)\u001b[0m\u001b[0;34m\u001b[0m\u001b[0;34m\u001b[0m\u001b[0m\n\u001b[1;32m      2\u001b[0m \u001b[0;31m# storage can go for now --  storage='sqlite:///params.db'\u001b[0m\u001b[0;34m\u001b[0m\u001b[0;34m\u001b[0m\u001b[0;34m\u001b[0m\u001b[0m\n\u001b[0;32m----> 3\u001b[0;31m \u001b[0mstudy\u001b[0m\u001b[0;34m.\u001b[0m\u001b[0moptimize\u001b[0m\u001b[0;34m(\u001b[0m\u001b[0moptimize_agent\u001b[0m\u001b[0;34m,\u001b[0m \u001b[0mn_trials\u001b[0m\u001b[0;34m=\u001b[0m\u001b[0;36m1000\u001b[0m\u001b[0;34m,\u001b[0m \u001b[0mn_jobs\u001b[0m\u001b[0;34m=\u001b[0m\u001b[0;36m4\u001b[0m\u001b[0;34m)\u001b[0m\u001b[0;34m\u001b[0m\u001b[0;34m\u001b[0m\u001b[0m\n\u001b[0m",
      "\u001b[0;32m~/.venv/lib/python3.6/site-packages/optuna/study.py\u001b[0m in \u001b[0;36moptimize\u001b[0;34m(self, func, n_trials, timeout, n_jobs, catch)\u001b[0m\n\u001b[1;32m    280\u001b[0m             \u001b[0mself\u001b[0m\u001b[0;34m.\u001b[0m\u001b[0m_optimize_sequential\u001b[0m\u001b[0;34m(\u001b[0m\u001b[0mfunc\u001b[0m\u001b[0;34m,\u001b[0m \u001b[0mn_trials\u001b[0m\u001b[0;34m,\u001b[0m \u001b[0mtimeout\u001b[0m\u001b[0;34m,\u001b[0m \u001b[0mcatch\u001b[0m\u001b[0;34m)\u001b[0m\u001b[0;34m\u001b[0m\u001b[0;34m\u001b[0m\u001b[0m\n\u001b[1;32m    281\u001b[0m         \u001b[0;32melse\u001b[0m\u001b[0;34m:\u001b[0m\u001b[0;34m\u001b[0m\u001b[0;34m\u001b[0m\u001b[0m\n\u001b[0;32m--> 282\u001b[0;31m             \u001b[0mself\u001b[0m\u001b[0;34m.\u001b[0m\u001b[0m_optimize_parallel\u001b[0m\u001b[0;34m(\u001b[0m\u001b[0mfunc\u001b[0m\u001b[0;34m,\u001b[0m \u001b[0mn_trials\u001b[0m\u001b[0;34m,\u001b[0m \u001b[0mtimeout\u001b[0m\u001b[0;34m,\u001b[0m \u001b[0mn_jobs\u001b[0m\u001b[0;34m,\u001b[0m \u001b[0mcatch\u001b[0m\u001b[0;34m)\u001b[0m\u001b[0;34m\u001b[0m\u001b[0;34m\u001b[0m\u001b[0m\n\u001b[0m\u001b[1;32m    283\u001b[0m \u001b[0;34m\u001b[0m\u001b[0m\n\u001b[1;32m    284\u001b[0m     \u001b[0;32mdef\u001b[0m \u001b[0mset_user_attr\u001b[0m\u001b[0;34m(\u001b[0m\u001b[0mself\u001b[0m\u001b[0;34m,\u001b[0m \u001b[0mkey\u001b[0m\u001b[0;34m,\u001b[0m \u001b[0mvalue\u001b[0m\u001b[0;34m)\u001b[0m\u001b[0;34m:\u001b[0m\u001b[0;34m\u001b[0m\u001b[0;34m\u001b[0m\u001b[0m\n",
      "\u001b[0;32m~/.venv/lib/python3.6/site-packages/optuna/study.py\u001b[0m in \u001b[0;36m_optimize_parallel\u001b[0;34m(self, func, n_trials, timeout, n_jobs, catch)\u001b[0m\n\u001b[1;32m    448\u001b[0m                 \u001b[0mn_enqueued_trials\u001b[0m \u001b[0;34m+=\u001b[0m \u001b[0;36m1\u001b[0m\u001b[0;34m\u001b[0m\u001b[0;34m\u001b[0m\u001b[0m\n\u001b[1;32m    449\u001b[0m             \u001b[0;32mexcept\u001b[0m \u001b[0mqueue\u001b[0m\u001b[0;34m.\u001b[0m\u001b[0mFull\u001b[0m\u001b[0;34m:\u001b[0m\u001b[0;34m\u001b[0m\u001b[0;34m\u001b[0m\u001b[0m\n\u001b[0;32m--> 450\u001b[0;31m                 \u001b[0mtime\u001b[0m\u001b[0;34m.\u001b[0m\u001b[0msleep\u001b[0m\u001b[0;34m(\u001b[0m\u001b[0;36m1\u001b[0m\u001b[0;34m)\u001b[0m\u001b[0;34m\u001b[0m\u001b[0;34m\u001b[0m\u001b[0m\n\u001b[0m\u001b[1;32m    451\u001b[0m \u001b[0;34m\u001b[0m\u001b[0m\n\u001b[1;32m    452\u001b[0m         \u001b[0;32mfor\u001b[0m \u001b[0m_\u001b[0m \u001b[0;32min\u001b[0m \u001b[0mrange\u001b[0m\u001b[0;34m(\u001b[0m\u001b[0mn_jobs\u001b[0m\u001b[0;34m)\u001b[0m\u001b[0;34m:\u001b[0m\u001b[0;34m\u001b[0m\u001b[0;34m\u001b[0m\u001b[0m\n",
      "\u001b[0;31mKeyboardInterrupt\u001b[0m: "
     ]
    }
   ],
   "source": [
    "study = optuna.create_study(study_name='SAC_v9_optuna', load_if_exists=True)\n",
    "# storage can go for now --  storage='sqlite:///params.db'\n",
    "study.optimize(optimize_agent, n_trials=1000, n_jobs=4)"
   ]
  },
  {
   "cell_type": "code",
   "execution_count": null,
   "metadata": {},
   "outputs": [],
   "source": []
  },
  {
   "cell_type": "code",
   "execution_count": 72,
   "metadata": {},
   "outputs": [],
   "source": [
    "env_config = dict()\n",
    "env_config['folds'] =  {\n",
    "    'training-set': [datetime.min, datetime(2008, 3, 18)],\n",
    "    'test-set': [datetime(2008, 3, 19), datetime.max],\n",
    "}\n",
    "env = GAIAPredictorsContinuousV9(env_config)"
   ]
  },
  {
   "cell_type": "markdown",
   "metadata": {},
   "source": [
    "**One should only have to change this cell, and the rest of the experiments will then run from there**"
   ]
  },
  {
   "cell_type": "code",
   "execution_count": 73,
   "metadata": {},
   "outputs": [],
   "source": [
    "optim_hparam = dict()\n",
    "\n",
    "optim_hparam['env_id'] = env\n",
    "# env = DummyVecEnv([lambda: optim_hparam['env_id']])\n",
    "# env = DummyVecEnv([lambda: env])\n",
    "\n",
    "optim_hparam['tb_log_dir'] = 'path' #path to the tensoarbod logs\n",
    "\n",
    "optim_hparam['RL_algo'] = 'ddpg'   #the algorithm one wants to use\n",
    "\n",
    "optim_hparam['n_trials'] = 100  # number of trials for optimizing hyperparameters \n",
    "\n",
    "optim_hparam['n_parallel_jobs'] = 2 # Number of parallel jobs when optimizing hyperparameters\n",
    "\n",
    "optim_hparam['sampler'] = 'tpe'# Sampler to use when optimizing hyperparameters -- choices['random','tpe']\n",
    "\n",
    "optim_hparam['pruner'] = 'halving' # Pruner to use when optimizing hyperparamters -- \n",
    "# choices['halving','median','none']\n",
    "\n",
    "optim_hparam['verbose'] = 1 # 0 none, 1 INFO\n",
    "\n",
    "optim_hparam['log_folder'] = 'path'\n",
    "\n",
    "optim_hparam['pretrained'] = '' # path to a pretrained agent, if want to continue training"
   ]
  },
  {
   "cell_type": "markdown",
   "metadata": {},
   "source": [
    "**Now for the actual optimisation**"
   ]
  },
  {
   "cell_type": "code",
   "execution_count": 53,
   "metadata": {},
   "outputs": [],
   "source": [
    "tensorboard_log = None if optim_hparam['tb_log_dir'] == '' else os.path.join(optim_hparam['tb_log_dir']\\\n",
    "                                                                         ,optim_hparam['RL_algo'] + '_'\\\n",
    "                                                                        ,str(optim_hparam['env_id']))"
   ]
  },
  {
   "cell_type": "code",
   "execution_count": 54,
   "metadata": {},
   "outputs": [],
   "source": [
    "hyperparams = dict()\n",
    "\n",
    "n_actions = env.action_space.shape[-1]\n",
    "hyperparams['noise_std]'] = [float(0.5),float(1.0)]\n",
    "hyperparams['action_noise'] = OrnsteinUhlenbeckActionNoise(mean=np.zeros(n_actions),\\\n",
    "                                                           sigma=hyperparams['noise_std]'] * np.ones(n_actions))\n",
    "\n",
    "hyperparams['param_noise'] = None\n",
    "# AdaptiveParamNoiseSpec(initial_stddev=noise_std,desired_action_stddev=noise_std)\n",
    "\n",
    "hyperparams['n_timesteps'] = 500000\n",
    "\n",
    "hyperparams['n_envs'] = 1\n",
    "# hyperparams['env_wrapper'] = 'GAIAPredictorsContinuousV9' # need to establish my envs wrapper here\n",
    "\n",
    "# env_wrapper = get_wrapper_class(hyperparams)"
   ]
  },
  {
   "cell_type": "code",
   "execution_count": 69,
   "metadata": {},
   "outputs": [],
   "source": [
    "def create_env(n_envs): \n",
    "    global hyperparams\n",
    "    \n",
    "    # look into the wrapper_class documentation \n",
    "    env = DummyVecEnv([make_env(optim_hparam['env_id'])])\n",
    "    env = VecNormalize(env)\n",
    "\n",
    "    \n",
    "    return env "
   ]
  },
  {
   "cell_type": "code",
   "execution_count": 65,
   "metadata": {},
   "outputs": [],
   "source": [
    "def create_model(*_args,**kwargs):\n",
    "    '''\n",
    "    Cretae a model with different hyperparams\n",
    "    '''\n",
    "    verbose = 0 \n",
    "    return optim_hparam['RL_algo'](env=env, tensorboard_log = tensorboard_log,\n",
    "                                  verbose = verbose, **kwargs)"
   ]
  },
  {
   "cell_type": "code",
   "execution_count": 74,
   "metadata": {
    "scrolled": true
   },
   "outputs": [
    {
     "name": "stdout",
     "output_type": "stream",
     "text": [
      "Optimizing hyperparameters\n",
      "Sampler: tpe - Pruner: halving\n"
     ]
    },
    {
     "name": "stderr",
     "output_type": "stream",
     "text": [
      "[W 2019-07-30 23:46:53,388] Setting status of trial#0 as TrialState.FAIL because of the following error: TypeError(\"'GAIAPredictorsContinuousV9' object is not callable\",)\n",
      "Traceback (most recent call last):\n",
      "  File \"/home/Nicholas/.venv/lib/python3.6/site-packages/optuna/study.py\", line 468, in _run_trial\n",
      "    result = func(trial)\n",
      "  File \"/home/Nicholas/trading-gym/rl-baselines-zoo/utils/hyperparams_opt.py\", line 76, in objective\n",
      "    trial.n_actions = env_fn(n_envs=1).action_space.shape[0]\n",
      "TypeError: 'GAIAPredictorsContinuousV9' object is not callable\n",
      "[W 2019-07-30 23:46:53,392] Setting status of trial#1 as TrialState.FAIL because of the following error: TypeError(\"'GAIAPredictorsContinuousV9' object is not callable\",)\n",
      "Traceback (most recent call last):\n",
      "  File \"/home/Nicholas/.venv/lib/python3.6/site-packages/optuna/study.py\", line 468, in _run_trial\n",
      "    result = func(trial)\n",
      "  File \"/home/Nicholas/trading-gym/rl-baselines-zoo/utils/hyperparams_opt.py\", line 76, in objective\n",
      "    trial.n_actions = env_fn(n_envs=1).action_space.shape[0]\n",
      "TypeError: 'GAIAPredictorsContinuousV9' object is not callable\n",
      "[W 2019-07-30 23:46:54,599] Setting status of trial#2 as TrialState.FAIL because of the following error: TypeError(\"'GAIAPredictorsContinuousV9' object is not callable\",)\n",
      "Traceback (most recent call last):\n",
      "  File \"/home/Nicholas/.venv/lib/python3.6/site-packages/optuna/study.py\", line 468, in _run_trial\n",
      "    result = func(trial)\n",
      "  File \"/home/Nicholas/trading-gym/rl-baselines-zoo/utils/hyperparams_opt.py\", line 76, in objective\n",
      "    trial.n_actions = env_fn(n_envs=1).action_space.shape[0]\n",
      "TypeError: 'GAIAPredictorsContinuousV9' object is not callable\n",
      "[W 2019-07-30 23:46:54,601] Setting status of trial#3 as TrialState.FAIL because of the following error: TypeError(\"'GAIAPredictorsContinuousV9' object is not callable\",)\n",
      "Traceback (most recent call last):\n",
      "  File \"/home/Nicholas/.venv/lib/python3.6/site-packages/optuna/study.py\", line 468, in _run_trial\n",
      "    result = func(trial)\n",
      "  File \"/home/Nicholas/trading-gym/rl-baselines-zoo/utils/hyperparams_opt.py\", line 76, in objective\n",
      "    trial.n_actions = env_fn(n_envs=1).action_space.shape[0]\n",
      "TypeError: 'GAIAPredictorsContinuousV9' object is not callable\n",
      "[W 2019-07-30 23:46:55,599] Setting status of trial#4 as TrialState.FAIL because of the following error: TypeError(\"'GAIAPredictorsContinuousV9' object is not callable\",)\n",
      "Traceback (most recent call last):\n",
      "  File \"/home/Nicholas/.venv/lib/python3.6/site-packages/optuna/study.py\", line 468, in _run_trial\n",
      "    result = func(trial)\n",
      "  File \"/home/Nicholas/trading-gym/rl-baselines-zoo/utils/hyperparams_opt.py\", line 76, in objective\n",
      "    trial.n_actions = env_fn(n_envs=1).action_space.shape[0]\n",
      "TypeError: 'GAIAPredictorsContinuousV9' object is not callable\n",
      "[W 2019-07-30 23:46:55,601] Setting status of trial#5 as TrialState.FAIL because of the following error: TypeError(\"'GAIAPredictorsContinuousV9' object is not callable\",)\n",
      "Traceback (most recent call last):\n",
      "  File \"/home/Nicholas/.venv/lib/python3.6/site-packages/optuna/study.py\", line 468, in _run_trial\n",
      "    result = func(trial)\n",
      "  File \"/home/Nicholas/trading-gym/rl-baselines-zoo/utils/hyperparams_opt.py\", line 76, in objective\n",
      "    trial.n_actions = env_fn(n_envs=1).action_space.shape[0]\n",
      "TypeError: 'GAIAPredictorsContinuousV9' object is not callable\n",
      "[W 2019-07-30 23:46:56,665] Setting status of trial#6 as TrialState.FAIL because of the following error: TypeError(\"'GAIAPredictorsContinuousV9' object is not callable\",)\n",
      "Traceback (most recent call last):\n",
      "  File \"/home/Nicholas/.venv/lib/python3.6/site-packages/optuna/study.py\", line 468, in _run_trial\n",
      "    result = func(trial)\n",
      "  File \"/home/Nicholas/trading-gym/rl-baselines-zoo/utils/hyperparams_opt.py\", line 76, in objective\n",
      "    trial.n_actions = env_fn(n_envs=1).action_space.shape[0]\n",
      "TypeError: 'GAIAPredictorsContinuousV9' object is not callable\n",
      "[W 2019-07-30 23:46:57,112] Setting status of trial#7 as TrialState.FAIL because of the following error: TypeError(\"'GAIAPredictorsContinuousV9' object is not callable\",)\n",
      "Traceback (most recent call last):\n",
      "  File \"/home/Nicholas/.venv/lib/python3.6/site-packages/optuna/study.py\", line 468, in _run_trial\n",
      "    result = func(trial)\n",
      "  File \"/home/Nicholas/trading-gym/rl-baselines-zoo/utils/hyperparams_opt.py\", line 76, in objective\n",
      "    trial.n_actions = env_fn(n_envs=1).action_space.shape[0]\n",
      "TypeError: 'GAIAPredictorsContinuousV9' object is not callable\n",
      "[W 2019-07-30 23:46:57,665] Setting status of trial#8 as TrialState.FAIL because of the following error: TypeError(\"'GAIAPredictorsContinuousV9' object is not callable\",)\n",
      "Traceback (most recent call last):\n",
      "  File \"/home/Nicholas/.venv/lib/python3.6/site-packages/optuna/study.py\", line 468, in _run_trial\n",
      "    result = func(trial)\n",
      "  File \"/home/Nicholas/trading-gym/rl-baselines-zoo/utils/hyperparams_opt.py\", line 76, in objective\n",
      "    trial.n_actions = env_fn(n_envs=1).action_space.shape[0]\n",
      "TypeError: 'GAIAPredictorsContinuousV9' object is not callable\n",
      "[W 2019-07-30 23:46:57,667] Setting status of trial#9 as TrialState.FAIL because of the following error: TypeError(\"'GAIAPredictorsContinuousV9' object is not callable\",)\n",
      "Traceback (most recent call last):\n",
      "  File \"/home/Nicholas/.venv/lib/python3.6/site-packages/optuna/study.py\", line 468, in _run_trial\n",
      "    result = func(trial)\n",
      "  File \"/home/Nicholas/trading-gym/rl-baselines-zoo/utils/hyperparams_opt.py\", line 76, in objective\n",
      "    trial.n_actions = env_fn(n_envs=1).action_space.shape[0]\n",
      "TypeError: 'GAIAPredictorsContinuousV9' object is not callable\n",
      "[W 2019-07-30 23:46:58,665] Setting status of trial#10 as TrialState.FAIL because of the following error: TypeError(\"'GAIAPredictorsContinuousV9' object is not callable\",)\n",
      "Traceback (most recent call last):\n",
      "  File \"/home/Nicholas/.venv/lib/python3.6/site-packages/optuna/study.py\", line 468, in _run_trial\n",
      "    result = func(trial)\n",
      "  File \"/home/Nicholas/trading-gym/rl-baselines-zoo/utils/hyperparams_opt.py\", line 76, in objective\n",
      "    trial.n_actions = env_fn(n_envs=1).action_space.shape[0]\n",
      "TypeError: 'GAIAPredictorsContinuousV9' object is not callable\n",
      "[W 2019-07-30 23:46:58,666] Setting status of trial#11 as TrialState.FAIL because of the following error: TypeError(\"'GAIAPredictorsContinuousV9' object is not callable\",)\n",
      "Traceback (most recent call last):\n",
      "  File \"/home/Nicholas/.venv/lib/python3.6/site-packages/optuna/study.py\", line 468, in _run_trial\n",
      "    result = func(trial)\n",
      "  File \"/home/Nicholas/trading-gym/rl-baselines-zoo/utils/hyperparams_opt.py\", line 76, in objective\n",
      "    trial.n_actions = env_fn(n_envs=1).action_space.shape[0]\n",
      "TypeError: 'GAIAPredictorsContinuousV9' object is not callable\n",
      "[W 2019-07-30 23:46:59,666] Setting status of trial#12 as TrialState.FAIL because of the following error: TypeError(\"'GAIAPredictorsContinuousV9' object is not callable\",)\n",
      "Traceback (most recent call last):\n",
      "  File \"/home/Nicholas/.venv/lib/python3.6/site-packages/optuna/study.py\", line 468, in _run_trial\n",
      "    result = func(trial)\n",
      "  File \"/home/Nicholas/trading-gym/rl-baselines-zoo/utils/hyperparams_opt.py\", line 76, in objective\n",
      "    trial.n_actions = env_fn(n_envs=1).action_space.shape[0]\n",
      "TypeError: 'GAIAPredictorsContinuousV9' object is not callable\n",
      "[W 2019-07-30 23:46:59,667] Setting status of trial#13 as TrialState.FAIL because of the following error: TypeError(\"'GAIAPredictorsContinuousV9' object is not callable\",)\n",
      "Traceback (most recent call last):\n",
      "  File \"/home/Nicholas/.venv/lib/python3.6/site-packages/optuna/study.py\", line 468, in _run_trial\n",
      "    result = func(trial)\n",
      "  File \"/home/Nicholas/trading-gym/rl-baselines-zoo/utils/hyperparams_opt.py\", line 76, in objective\n",
      "    trial.n_actions = env_fn(n_envs=1).action_space.shape[0]\n",
      "TypeError: 'GAIAPredictorsContinuousV9' object is not callable\n",
      "[W 2019-07-30 23:47:00,666] Setting status of trial#14 as TrialState.FAIL because of the following error: TypeError(\"'GAIAPredictorsContinuousV9' object is not callable\",)\n",
      "Traceback (most recent call last):\n",
      "  File \"/home/Nicholas/.venv/lib/python3.6/site-packages/optuna/study.py\", line 468, in _run_trial\n",
      "    result = func(trial)\n",
      "  File \"/home/Nicholas/trading-gym/rl-baselines-zoo/utils/hyperparams_opt.py\", line 76, in objective\n",
      "    trial.n_actions = env_fn(n_envs=1).action_space.shape[0]\n"
     ]
    },
    {
     "name": "stderr",
     "output_type": "stream",
     "text": [
      "TypeError: 'GAIAPredictorsContinuousV9' object is not callable\n",
      "[W 2019-07-30 23:47:00,667] Setting status of trial#15 as TrialState.FAIL because of the following error: TypeError(\"'GAIAPredictorsContinuousV9' object is not callable\",)\n",
      "Traceback (most recent call last):\n",
      "  File \"/home/Nicholas/.venv/lib/python3.6/site-packages/optuna/study.py\", line 468, in _run_trial\n",
      "    result = func(trial)\n",
      "  File \"/home/Nicholas/trading-gym/rl-baselines-zoo/utils/hyperparams_opt.py\", line 76, in objective\n",
      "    trial.n_actions = env_fn(n_envs=1).action_space.shape[0]\n",
      "TypeError: 'GAIAPredictorsContinuousV9' object is not callable\n",
      "[W 2019-07-30 23:47:01,666] Setting status of trial#16 as TrialState.FAIL because of the following error: TypeError(\"'GAIAPredictorsContinuousV9' object is not callable\",)\n",
      "Traceback (most recent call last):\n",
      "  File \"/home/Nicholas/.venv/lib/python3.6/site-packages/optuna/study.py\", line 468, in _run_trial\n",
      "    result = func(trial)\n",
      "  File \"/home/Nicholas/trading-gym/rl-baselines-zoo/utils/hyperparams_opt.py\", line 76, in objective\n",
      "    trial.n_actions = env_fn(n_envs=1).action_space.shape[0]\n",
      "TypeError: 'GAIAPredictorsContinuousV9' object is not callable\n",
      "[W 2019-07-30 23:47:01,668] Setting status of trial#17 as TrialState.FAIL because of the following error: TypeError(\"'GAIAPredictorsContinuousV9' object is not callable\",)\n",
      "Traceback (most recent call last):\n",
      "  File \"/home/Nicholas/.venv/lib/python3.6/site-packages/optuna/study.py\", line 468, in _run_trial\n",
      "    result = func(trial)\n",
      "  File \"/home/Nicholas/trading-gym/rl-baselines-zoo/utils/hyperparams_opt.py\", line 76, in objective\n",
      "    trial.n_actions = env_fn(n_envs=1).action_space.shape[0]\n",
      "TypeError: 'GAIAPredictorsContinuousV9' object is not callable\n",
      "[W 2019-07-30 23:47:02,685] Setting status of trial#18 as TrialState.FAIL because of the following error: TypeError(\"'GAIAPredictorsContinuousV9' object is not callable\",)\n",
      "Traceback (most recent call last):\n",
      "  File \"/home/Nicholas/.venv/lib/python3.6/site-packages/optuna/study.py\", line 468, in _run_trial\n",
      "    result = func(trial)\n",
      "  File \"/home/Nicholas/trading-gym/rl-baselines-zoo/utils/hyperparams_opt.py\", line 76, in objective\n",
      "    trial.n_actions = env_fn(n_envs=1).action_space.shape[0]\n",
      "TypeError: 'GAIAPredictorsContinuousV9' object is not callable\n",
      "[W 2019-07-30 23:47:02,689] Setting status of trial#19 as TrialState.FAIL because of the following error: TypeError(\"'GAIAPredictorsContinuousV9' object is not callable\",)\n",
      "Traceback (most recent call last):\n",
      "  File \"/home/Nicholas/.venv/lib/python3.6/site-packages/optuna/study.py\", line 468, in _run_trial\n",
      "    result = func(trial)\n",
      "  File \"/home/Nicholas/trading-gym/rl-baselines-zoo/utils/hyperparams_opt.py\", line 76, in objective\n",
      "    trial.n_actions = env_fn(n_envs=1).action_space.shape[0]\n",
      "TypeError: 'GAIAPredictorsContinuousV9' object is not callable\n",
      "[W 2019-07-30 23:47:03,686] Setting status of trial#20 as TrialState.FAIL because of the following error: TypeError(\"'GAIAPredictorsContinuousV9' object is not callable\",)\n",
      "Traceback (most recent call last):\n",
      "  File \"/home/Nicholas/.venv/lib/python3.6/site-packages/optuna/study.py\", line 468, in _run_trial\n",
      "    result = func(trial)\n",
      "  File \"/home/Nicholas/trading-gym/rl-baselines-zoo/utils/hyperparams_opt.py\", line 76, in objective\n",
      "    trial.n_actions = env_fn(n_envs=1).action_space.shape[0]\n",
      "TypeError: 'GAIAPredictorsContinuousV9' object is not callable\n",
      "[W 2019-07-30 23:47:03,687] Setting status of trial#21 as TrialState.FAIL because of the following error: TypeError(\"'GAIAPredictorsContinuousV9' object is not callable\",)\n",
      "Traceback (most recent call last):\n",
      "  File \"/home/Nicholas/.venv/lib/python3.6/site-packages/optuna/study.py\", line 468, in _run_trial\n",
      "    result = func(trial)\n",
      "  File \"/home/Nicholas/trading-gym/rl-baselines-zoo/utils/hyperparams_opt.py\", line 76, in objective\n",
      "    trial.n_actions = env_fn(n_envs=1).action_space.shape[0]\n",
      "TypeError: 'GAIAPredictorsContinuousV9' object is not callable\n",
      "[W 2019-07-30 23:47:04,691] Setting status of trial#22 as TrialState.FAIL because of the following error: TypeError(\"'GAIAPredictorsContinuousV9' object is not callable\",)\n",
      "Traceback (most recent call last):\n",
      "  File \"/home/Nicholas/.venv/lib/python3.6/site-packages/optuna/study.py\", line 468, in _run_trial\n",
      "    result = func(trial)\n",
      "  File \"/home/Nicholas/trading-gym/rl-baselines-zoo/utils/hyperparams_opt.py\", line 76, in objective\n",
      "    trial.n_actions = env_fn(n_envs=1).action_space.shape[0]\n",
      "TypeError: 'GAIAPredictorsContinuousV9' object is not callable\n",
      "[W 2019-07-30 23:47:04,692] Setting status of trial#23 as TrialState.FAIL because of the following error: TypeError(\"'GAIAPredictorsContinuousV9' object is not callable\",)\n",
      "Traceback (most recent call last):\n",
      "  File \"/home/Nicholas/.venv/lib/python3.6/site-packages/optuna/study.py\", line 468, in _run_trial\n",
      "    result = func(trial)\n",
      "  File \"/home/Nicholas/trading-gym/rl-baselines-zoo/utils/hyperparams_opt.py\", line 76, in objective\n",
      "    trial.n_actions = env_fn(n_envs=1).action_space.shape[0]\n",
      "TypeError: 'GAIAPredictorsContinuousV9' object is not callable\n",
      "[W 2019-07-30 23:47:05,692] Setting status of trial#24 as TrialState.FAIL because of the following error: TypeError(\"'GAIAPredictorsContinuousV9' object is not callable\",)\n",
      "Traceback (most recent call last):\n",
      "  File \"/home/Nicholas/.venv/lib/python3.6/site-packages/optuna/study.py\", line 468, in _run_trial\n",
      "    result = func(trial)\n",
      "  File \"/home/Nicholas/trading-gym/rl-baselines-zoo/utils/hyperparams_opt.py\", line 76, in objective\n",
      "    trial.n_actions = env_fn(n_envs=1).action_space.shape[0]\n",
      "TypeError: 'GAIAPredictorsContinuousV9' object is not callable\n",
      "[W 2019-07-30 23:47:05,693] Setting status of trial#25 as TrialState.FAIL because of the following error: TypeError(\"'GAIAPredictorsContinuousV9' object is not callable\",)\n",
      "Traceback (most recent call last):\n",
      "  File \"/home/Nicholas/.venv/lib/python3.6/site-packages/optuna/study.py\", line 468, in _run_trial\n",
      "    result = func(trial)\n",
      "  File \"/home/Nicholas/trading-gym/rl-baselines-zoo/utils/hyperparams_opt.py\", line 76, in objective\n",
      "    trial.n_actions = env_fn(n_envs=1).action_space.shape[0]\n",
      "TypeError: 'GAIAPredictorsContinuousV9' object is not callable\n",
      "[W 2019-07-30 23:47:06,693] Setting status of trial#26 as TrialState.FAIL because of the following error: TypeError(\"'GAIAPredictorsContinuousV9' object is not callable\",)\n",
      "Traceback (most recent call last):\n",
      "  File \"/home/Nicholas/.venv/lib/python3.6/site-packages/optuna/study.py\", line 468, in _run_trial\n",
      "    result = func(trial)\n",
      "  File \"/home/Nicholas/trading-gym/rl-baselines-zoo/utils/hyperparams_opt.py\", line 76, in objective\n",
      "    trial.n_actions = env_fn(n_envs=1).action_space.shape[0]\n",
      "TypeError: 'GAIAPredictorsContinuousV9' object is not callable\n",
      "[W 2019-07-30 23:47:06,693] Setting status of trial#27 as TrialState.FAIL because of the following error: TypeError(\"'GAIAPredictorsContinuousV9' object is not callable\",)\n",
      "Traceback (most recent call last):\n",
      "  File \"/home/Nicholas/.venv/lib/python3.6/site-packages/optuna/study.py\", line 468, in _run_trial\n",
      "    result = func(trial)\n",
      "  File \"/home/Nicholas/trading-gym/rl-baselines-zoo/utils/hyperparams_opt.py\", line 76, in objective\n",
      "    trial.n_actions = env_fn(n_envs=1).action_space.shape[0]\n",
      "TypeError: 'GAIAPredictorsContinuousV9' object is not callable\n",
      "[W 2019-07-30 23:47:07,694] Setting status of trial#28 as TrialState.FAIL because of the following error: TypeError(\"'GAIAPredictorsContinuousV9' object is not callable\",)\n",
      "Traceback (most recent call last):\n",
      "  File \"/home/Nicholas/.venv/lib/python3.6/site-packages/optuna/study.py\", line 468, in _run_trial\n",
      "    result = func(trial)\n",
      "  File \"/home/Nicholas/trading-gym/rl-baselines-zoo/utils/hyperparams_opt.py\", line 76, in objective\n",
      "    trial.n_actions = env_fn(n_envs=1).action_space.shape[0]\n",
      "TypeError: 'GAIAPredictorsContinuousV9' object is not callable\n",
      "[W 2019-07-30 23:47:07,696] Setting status of trial#29 as TrialState.FAIL because of the following error: TypeError(\"'GAIAPredictorsContinuousV9' object is not callable\",)\n",
      "Traceback (most recent call last):\n",
      "  File \"/home/Nicholas/.venv/lib/python3.6/site-packages/optuna/study.py\", line 468, in _run_trial\n",
      "    result = func(trial)\n",
      "  File \"/home/Nicholas/trading-gym/rl-baselines-zoo/utils/hyperparams_opt.py\", line 76, in objective\n",
      "    trial.n_actions = env_fn(n_envs=1).action_space.shape[0]\n"
     ]
    },
    {
     "name": "stderr",
     "output_type": "stream",
     "text": [
      "TypeError: 'GAIAPredictorsContinuousV9' object is not callable\n",
      "[W 2019-07-30 23:47:08,695] Setting status of trial#30 as TrialState.FAIL because of the following error: TypeError(\"'GAIAPredictorsContinuousV9' object is not callable\",)\n",
      "Traceback (most recent call last):\n",
      "  File \"/home/Nicholas/.venv/lib/python3.6/site-packages/optuna/study.py\", line 468, in _run_trial\n",
      "    result = func(trial)\n",
      "  File \"/home/Nicholas/trading-gym/rl-baselines-zoo/utils/hyperparams_opt.py\", line 76, in objective\n",
      "    trial.n_actions = env_fn(n_envs=1).action_space.shape[0]\n",
      "TypeError: 'GAIAPredictorsContinuousV9' object is not callable\n",
      "[W 2019-07-30 23:47:08,696] Setting status of trial#31 as TrialState.FAIL because of the following error: TypeError(\"'GAIAPredictorsContinuousV9' object is not callable\",)\n",
      "Traceback (most recent call last):\n",
      "  File \"/home/Nicholas/.venv/lib/python3.6/site-packages/optuna/study.py\", line 468, in _run_trial\n",
      "    result = func(trial)\n",
      "  File \"/home/Nicholas/trading-gym/rl-baselines-zoo/utils/hyperparams_opt.py\", line 76, in objective\n",
      "    trial.n_actions = env_fn(n_envs=1).action_space.shape[0]\n",
      "TypeError: 'GAIAPredictorsContinuousV9' object is not callable\n",
      "[W 2019-07-30 23:47:09,720] Setting status of trial#32 as TrialState.FAIL because of the following error: TypeError(\"'GAIAPredictorsContinuousV9' object is not callable\",)\n",
      "Traceback (most recent call last):\n",
      "  File \"/home/Nicholas/.venv/lib/python3.6/site-packages/optuna/study.py\", line 468, in _run_trial\n",
      "    result = func(trial)\n",
      "  File \"/home/Nicholas/trading-gym/rl-baselines-zoo/utils/hyperparams_opt.py\", line 76, in objective\n",
      "    trial.n_actions = env_fn(n_envs=1).action_space.shape[0]\n",
      "TypeError: 'GAIAPredictorsContinuousV9' object is not callable\n",
      "[W 2019-07-30 23:47:10,184] Setting status of trial#33 as TrialState.FAIL because of the following error: TypeError(\"'GAIAPredictorsContinuousV9' object is not callable\",)\n",
      "Traceback (most recent call last):\n",
      "  File \"/home/Nicholas/.venv/lib/python3.6/site-packages/optuna/study.py\", line 468, in _run_trial\n",
      "    result = func(trial)\n",
      "  File \"/home/Nicholas/trading-gym/rl-baselines-zoo/utils/hyperparams_opt.py\", line 76, in objective\n",
      "    trial.n_actions = env_fn(n_envs=1).action_space.shape[0]\n",
      "TypeError: 'GAIAPredictorsContinuousV9' object is not callable\n",
      "[W 2019-07-30 23:47:10,721] Setting status of trial#34 as TrialState.FAIL because of the following error: TypeError(\"'GAIAPredictorsContinuousV9' object is not callable\",)\n",
      "Traceback (most recent call last):\n",
      "  File \"/home/Nicholas/.venv/lib/python3.6/site-packages/optuna/study.py\", line 468, in _run_trial\n",
      "    result = func(trial)\n",
      "  File \"/home/Nicholas/trading-gym/rl-baselines-zoo/utils/hyperparams_opt.py\", line 76, in objective\n",
      "    trial.n_actions = env_fn(n_envs=1).action_space.shape[0]\n",
      "TypeError: 'GAIAPredictorsContinuousV9' object is not callable\n",
      "[W 2019-07-30 23:47:10,722] Setting status of trial#35 as TrialState.FAIL because of the following error: TypeError(\"'GAIAPredictorsContinuousV9' object is not callable\",)\n",
      "Traceback (most recent call last):\n",
      "  File \"/home/Nicholas/.venv/lib/python3.6/site-packages/optuna/study.py\", line 468, in _run_trial\n",
      "    result = func(trial)\n",
      "  File \"/home/Nicholas/trading-gym/rl-baselines-zoo/utils/hyperparams_opt.py\", line 76, in objective\n",
      "    trial.n_actions = env_fn(n_envs=1).action_space.shape[0]\n",
      "TypeError: 'GAIAPredictorsContinuousV9' object is not callable\n",
      "[W 2019-07-30 23:47:11,722] Setting status of trial#36 as TrialState.FAIL because of the following error: TypeError(\"'GAIAPredictorsContinuousV9' object is not callable\",)\n",
      "Traceback (most recent call last):\n",
      "  File \"/home/Nicholas/.venv/lib/python3.6/site-packages/optuna/study.py\", line 468, in _run_trial\n",
      "    result = func(trial)\n",
      "  File \"/home/Nicholas/trading-gym/rl-baselines-zoo/utils/hyperparams_opt.py\", line 76, in objective\n",
      "    trial.n_actions = env_fn(n_envs=1).action_space.shape[0]\n",
      "TypeError: 'GAIAPredictorsContinuousV9' object is not callable\n",
      "[W 2019-07-30 23:47:11,722] Setting status of trial#37 as TrialState.FAIL because of the following error: TypeError(\"'GAIAPredictorsContinuousV9' object is not callable\",)\n",
      "Traceback (most recent call last):\n",
      "  File \"/home/Nicholas/.venv/lib/python3.6/site-packages/optuna/study.py\", line 468, in _run_trial\n",
      "    result = func(trial)\n",
      "  File \"/home/Nicholas/trading-gym/rl-baselines-zoo/utils/hyperparams_opt.py\", line 76, in objective\n",
      "    trial.n_actions = env_fn(n_envs=1).action_space.shape[0]\n",
      "TypeError: 'GAIAPredictorsContinuousV9' object is not callable\n",
      "[W 2019-07-30 23:47:12,722] Setting status of trial#38 as TrialState.FAIL because of the following error: TypeError(\"'GAIAPredictorsContinuousV9' object is not callable\",)\n",
      "Traceback (most recent call last):\n",
      "  File \"/home/Nicholas/.venv/lib/python3.6/site-packages/optuna/study.py\", line 468, in _run_trial\n",
      "    result = func(trial)\n",
      "  File \"/home/Nicholas/trading-gym/rl-baselines-zoo/utils/hyperparams_opt.py\", line 76, in objective\n",
      "    trial.n_actions = env_fn(n_envs=1).action_space.shape[0]\n",
      "TypeError: 'GAIAPredictorsContinuousV9' object is not callable\n",
      "[W 2019-07-30 23:47:12,723] Setting status of trial#39 as TrialState.FAIL because of the following error: TypeError(\"'GAIAPredictorsContinuousV9' object is not callable\",)\n",
      "Traceback (most recent call last):\n",
      "  File \"/home/Nicholas/.venv/lib/python3.6/site-packages/optuna/study.py\", line 468, in _run_trial\n",
      "    result = func(trial)\n",
      "  File \"/home/Nicholas/trading-gym/rl-baselines-zoo/utils/hyperparams_opt.py\", line 76, in objective\n",
      "    trial.n_actions = env_fn(n_envs=1).action_space.shape[0]\n",
      "TypeError: 'GAIAPredictorsContinuousV9' object is not callable\n",
      "[W 2019-07-30 23:47:13,722] Setting status of trial#40 as TrialState.FAIL because of the following error: TypeError(\"'GAIAPredictorsContinuousV9' object is not callable\",)\n",
      "Traceback (most recent call last):\n",
      "  File \"/home/Nicholas/.venv/lib/python3.6/site-packages/optuna/study.py\", line 468, in _run_trial\n",
      "    result = func(trial)\n",
      "  File \"/home/Nicholas/trading-gym/rl-baselines-zoo/utils/hyperparams_opt.py\", line 76, in objective\n",
      "    trial.n_actions = env_fn(n_envs=1).action_space.shape[0]\n",
      "TypeError: 'GAIAPredictorsContinuousV9' object is not callable\n",
      "[W 2019-07-30 23:47:13,724] Setting status of trial#41 as TrialState.FAIL because of the following error: TypeError(\"'GAIAPredictorsContinuousV9' object is not callable\",)\n",
      "Traceback (most recent call last):\n",
      "  File \"/home/Nicholas/.venv/lib/python3.6/site-packages/optuna/study.py\", line 468, in _run_trial\n",
      "    result = func(trial)\n",
      "  File \"/home/Nicholas/trading-gym/rl-baselines-zoo/utils/hyperparams_opt.py\", line 76, in objective\n",
      "    trial.n_actions = env_fn(n_envs=1).action_space.shape[0]\n",
      "TypeError: 'GAIAPredictorsContinuousV9' object is not callable\n",
      "[W 2019-07-30 23:47:14,723] Setting status of trial#42 as TrialState.FAIL because of the following error: TypeError(\"'GAIAPredictorsContinuousV9' object is not callable\",)\n",
      "Traceback (most recent call last):\n",
      "  File \"/home/Nicholas/.venv/lib/python3.6/site-packages/optuna/study.py\", line 468, in _run_trial\n",
      "    result = func(trial)\n",
      "  File \"/home/Nicholas/trading-gym/rl-baselines-zoo/utils/hyperparams_opt.py\", line 76, in objective\n",
      "    trial.n_actions = env_fn(n_envs=1).action_space.shape[0]\n",
      "TypeError: 'GAIAPredictorsContinuousV9' object is not callable\n",
      "[W 2019-07-30 23:47:14,724] Setting status of trial#43 as TrialState.FAIL because of the following error: TypeError(\"'GAIAPredictorsContinuousV9' object is not callable\",)\n",
      "Traceback (most recent call last):\n",
      "  File \"/home/Nicholas/.venv/lib/python3.6/site-packages/optuna/study.py\", line 468, in _run_trial\n",
      "    result = func(trial)\n",
      "  File \"/home/Nicholas/trading-gym/rl-baselines-zoo/utils/hyperparams_opt.py\", line 76, in objective\n",
      "    trial.n_actions = env_fn(n_envs=1).action_space.shape[0]\n",
      "TypeError: 'GAIAPredictorsContinuousV9' object is not callable\n",
      "[W 2019-07-30 23:47:15,724] Setting status of trial#44 as TrialState.FAIL because of the following error: TypeError(\"'GAIAPredictorsContinuousV9' object is not callable\",)\n",
      "Traceback (most recent call last):\n",
      "  File \"/home/Nicholas/.venv/lib/python3.6/site-packages/optuna/study.py\", line 468, in _run_trial\n",
      "    result = func(trial)\n",
      "  File \"/home/Nicholas/trading-gym/rl-baselines-zoo/utils/hyperparams_opt.py\", line 76, in objective\n",
      "    trial.n_actions = env_fn(n_envs=1).action_space.shape[0]\n"
     ]
    },
    {
     "name": "stderr",
     "output_type": "stream",
     "text": [
      "TypeError: 'GAIAPredictorsContinuousV9' object is not callable\n",
      "[W 2019-07-30 23:47:15,726] Setting status of trial#45 as TrialState.FAIL because of the following error: TypeError(\"'GAIAPredictorsContinuousV9' object is not callable\",)\n",
      "Traceback (most recent call last):\n",
      "  File \"/home/Nicholas/.venv/lib/python3.6/site-packages/optuna/study.py\", line 468, in _run_trial\n",
      "    result = func(trial)\n",
      "  File \"/home/Nicholas/trading-gym/rl-baselines-zoo/utils/hyperparams_opt.py\", line 76, in objective\n",
      "    trial.n_actions = env_fn(n_envs=1).action_space.shape[0]\n",
      "TypeError: 'GAIAPredictorsContinuousV9' object is not callable\n",
      "[W 2019-07-30 23:47:16,724] Setting status of trial#46 as TrialState.FAIL because of the following error: TypeError(\"'GAIAPredictorsContinuousV9' object is not callable\",)\n",
      "Traceback (most recent call last):\n",
      "  File \"/home/Nicholas/.venv/lib/python3.6/site-packages/optuna/study.py\", line 468, in _run_trial\n",
      "    result = func(trial)\n",
      "  File \"/home/Nicholas/trading-gym/rl-baselines-zoo/utils/hyperparams_opt.py\", line 76, in objective\n",
      "    trial.n_actions = env_fn(n_envs=1).action_space.shape[0]\n",
      "TypeError: 'GAIAPredictorsContinuousV9' object is not callable\n",
      "[W 2019-07-30 23:47:16,724] Setting status of trial#47 as TrialState.FAIL because of the following error: TypeError(\"'GAIAPredictorsContinuousV9' object is not callable\",)\n",
      "Traceback (most recent call last):\n",
      "  File \"/home/Nicholas/.venv/lib/python3.6/site-packages/optuna/study.py\", line 468, in _run_trial\n",
      "    result = func(trial)\n",
      "  File \"/home/Nicholas/trading-gym/rl-baselines-zoo/utils/hyperparams_opt.py\", line 76, in objective\n",
      "    trial.n_actions = env_fn(n_envs=1).action_space.shape[0]\n",
      "TypeError: 'GAIAPredictorsContinuousV9' object is not callable\n",
      "[W 2019-07-30 23:47:17,724] Setting status of trial#48 as TrialState.FAIL because of the following error: TypeError(\"'GAIAPredictorsContinuousV9' object is not callable\",)\n",
      "Traceback (most recent call last):\n",
      "  File \"/home/Nicholas/.venv/lib/python3.6/site-packages/optuna/study.py\", line 468, in _run_trial\n",
      "    result = func(trial)\n",
      "  File \"/home/Nicholas/trading-gym/rl-baselines-zoo/utils/hyperparams_opt.py\", line 76, in objective\n",
      "    trial.n_actions = env_fn(n_envs=1).action_space.shape[0]\n",
      "TypeError: 'GAIAPredictorsContinuousV9' object is not callable\n",
      "[W 2019-07-30 23:47:17,724] Setting status of trial#49 as TrialState.FAIL because of the following error: TypeError(\"'GAIAPredictorsContinuousV9' object is not callable\",)\n",
      "Traceback (most recent call last):\n",
      "  File \"/home/Nicholas/.venv/lib/python3.6/site-packages/optuna/study.py\", line 468, in _run_trial\n",
      "    result = func(trial)\n",
      "  File \"/home/Nicholas/trading-gym/rl-baselines-zoo/utils/hyperparams_opt.py\", line 76, in objective\n",
      "    trial.n_actions = env_fn(n_envs=1).action_space.shape[0]\n",
      "TypeError: 'GAIAPredictorsContinuousV9' object is not callable\n",
      "[W 2019-07-30 23:47:18,725] Setting status of trial#50 as TrialState.FAIL because of the following error: TypeError(\"'GAIAPredictorsContinuousV9' object is not callable\",)\n",
      "Traceback (most recent call last):\n",
      "  File \"/home/Nicholas/.venv/lib/python3.6/site-packages/optuna/study.py\", line 468, in _run_trial\n",
      "    result = func(trial)\n",
      "  File \"/home/Nicholas/trading-gym/rl-baselines-zoo/utils/hyperparams_opt.py\", line 76, in objective\n",
      "    trial.n_actions = env_fn(n_envs=1).action_space.shape[0]\n",
      "TypeError: 'GAIAPredictorsContinuousV9' object is not callable\n",
      "[W 2019-07-30 23:47:18,726] Setting status of trial#51 as TrialState.FAIL because of the following error: TypeError(\"'GAIAPredictorsContinuousV9' object is not callable\",)\n",
      "Traceback (most recent call last):\n",
      "  File \"/home/Nicholas/.venv/lib/python3.6/site-packages/optuna/study.py\", line 468, in _run_trial\n",
      "    result = func(trial)\n",
      "  File \"/home/Nicholas/trading-gym/rl-baselines-zoo/utils/hyperparams_opt.py\", line 76, in objective\n",
      "    trial.n_actions = env_fn(n_envs=1).action_space.shape[0]\n",
      "TypeError: 'GAIAPredictorsContinuousV9' object is not callable\n",
      "[W 2019-07-30 23:47:19,726] Setting status of trial#52 as TrialState.FAIL because of the following error: TypeError(\"'GAIAPredictorsContinuousV9' object is not callable\",)\n",
      "Traceback (most recent call last):\n",
      "  File \"/home/Nicholas/.venv/lib/python3.6/site-packages/optuna/study.py\", line 468, in _run_trial\n",
      "    result = func(trial)\n",
      "  File \"/home/Nicholas/trading-gym/rl-baselines-zoo/utils/hyperparams_opt.py\", line 76, in objective\n",
      "    trial.n_actions = env_fn(n_envs=1).action_space.shape[0]\n",
      "TypeError: 'GAIAPredictorsContinuousV9' object is not callable\n",
      "[W 2019-07-30 23:47:19,727] Setting status of trial#53 as TrialState.FAIL because of the following error: TypeError(\"'GAIAPredictorsContinuousV9' object is not callable\",)\n",
      "Traceback (most recent call last):\n",
      "  File \"/home/Nicholas/.venv/lib/python3.6/site-packages/optuna/study.py\", line 468, in _run_trial\n",
      "    result = func(trial)\n",
      "  File \"/home/Nicholas/trading-gym/rl-baselines-zoo/utils/hyperparams_opt.py\", line 76, in objective\n",
      "    trial.n_actions = env_fn(n_envs=1).action_space.shape[0]\n",
      "TypeError: 'GAIAPredictorsContinuousV9' object is not callable\n",
      "[W 2019-07-30 23:47:20,727] Setting status of trial#54 as TrialState.FAIL because of the following error: TypeError(\"'GAIAPredictorsContinuousV9' object is not callable\",)\n",
      "Traceback (most recent call last):\n",
      "  File \"/home/Nicholas/.venv/lib/python3.6/site-packages/optuna/study.py\", line 468, in _run_trial\n",
      "    result = func(trial)\n",
      "  File \"/home/Nicholas/trading-gym/rl-baselines-zoo/utils/hyperparams_opt.py\", line 76, in objective\n",
      "    trial.n_actions = env_fn(n_envs=1).action_space.shape[0]\n",
      "TypeError: 'GAIAPredictorsContinuousV9' object is not callable\n",
      "[W 2019-07-30 23:47:20,728] Setting status of trial#55 as TrialState.FAIL because of the following error: TypeError(\"'GAIAPredictorsContinuousV9' object is not callable\",)\n",
      "Traceback (most recent call last):\n",
      "  File \"/home/Nicholas/.venv/lib/python3.6/site-packages/optuna/study.py\", line 468, in _run_trial\n",
      "    result = func(trial)\n",
      "  File \"/home/Nicholas/trading-gym/rl-baselines-zoo/utils/hyperparams_opt.py\", line 76, in objective\n",
      "    trial.n_actions = env_fn(n_envs=1).action_space.shape[0]\n",
      "TypeError: 'GAIAPredictorsContinuousV9' object is not callable\n",
      "[W 2019-07-30 23:47:21,727] Setting status of trial#56 as TrialState.FAIL because of the following error: TypeError(\"'GAIAPredictorsContinuousV9' object is not callable\",)\n",
      "Traceback (most recent call last):\n",
      "  File \"/home/Nicholas/.venv/lib/python3.6/site-packages/optuna/study.py\", line 468, in _run_trial\n",
      "    result = func(trial)\n",
      "  File \"/home/Nicholas/trading-gym/rl-baselines-zoo/utils/hyperparams_opt.py\", line 76, in objective\n",
      "    trial.n_actions = env_fn(n_envs=1).action_space.shape[0]\n",
      "TypeError: 'GAIAPredictorsContinuousV9' object is not callable\n",
      "[W 2019-07-30 23:47:21,728] Setting status of trial#57 as TrialState.FAIL because of the following error: TypeError(\"'GAIAPredictorsContinuousV9' object is not callable\",)\n",
      "Traceback (most recent call last):\n",
      "  File \"/home/Nicholas/.venv/lib/python3.6/site-packages/optuna/study.py\", line 468, in _run_trial\n",
      "    result = func(trial)\n",
      "  File \"/home/Nicholas/trading-gym/rl-baselines-zoo/utils/hyperparams_opt.py\", line 76, in objective\n",
      "    trial.n_actions = env_fn(n_envs=1).action_space.shape[0]\n",
      "TypeError: 'GAIAPredictorsContinuousV9' object is not callable\n",
      "[W 2019-07-30 23:47:22,727] Setting status of trial#58 as TrialState.FAIL because of the following error: TypeError(\"'GAIAPredictorsContinuousV9' object is not callable\",)\n",
      "Traceback (most recent call last):\n",
      "  File \"/home/Nicholas/.venv/lib/python3.6/site-packages/optuna/study.py\", line 468, in _run_trial\n",
      "    result = func(trial)\n",
      "  File \"/home/Nicholas/trading-gym/rl-baselines-zoo/utils/hyperparams_opt.py\", line 76, in objective\n",
      "    trial.n_actions = env_fn(n_envs=1).action_space.shape[0]\n",
      "TypeError: 'GAIAPredictorsContinuousV9' object is not callable\n",
      "[W 2019-07-30 23:47:22,729] Setting status of trial#59 as TrialState.FAIL because of the following error: TypeError(\"'GAIAPredictorsContinuousV9' object is not callable\",)\n",
      "Traceback (most recent call last):\n",
      "  File \"/home/Nicholas/.venv/lib/python3.6/site-packages/optuna/study.py\", line 468, in _run_trial\n",
      "    result = func(trial)\n",
      "  File \"/home/Nicholas/trading-gym/rl-baselines-zoo/utils/hyperparams_opt.py\", line 76, in objective\n",
      "    trial.n_actions = env_fn(n_envs=1).action_space.shape[0]\n"
     ]
    },
    {
     "name": "stderr",
     "output_type": "stream",
     "text": [
      "TypeError: 'GAIAPredictorsContinuousV9' object is not callable\n",
      "[W 2019-07-30 23:47:23,735] Setting status of trial#60 as TrialState.FAIL because of the following error: TypeError(\"'GAIAPredictorsContinuousV9' object is not callable\",)\n",
      "Traceback (most recent call last):\n",
      "  File \"/home/Nicholas/.venv/lib/python3.6/site-packages/optuna/study.py\", line 468, in _run_trial\n",
      "    result = func(trial)\n",
      "  File \"/home/Nicholas/trading-gym/rl-baselines-zoo/utils/hyperparams_opt.py\", line 76, in objective\n",
      "    trial.n_actions = env_fn(n_envs=1).action_space.shape[0]\n",
      "TypeError: 'GAIAPredictorsContinuousV9' object is not callable\n",
      "[W 2019-07-30 23:47:24,129] Setting status of trial#61 as TrialState.FAIL because of the following error: TypeError(\"'GAIAPredictorsContinuousV9' object is not callable\",)\n",
      "Traceback (most recent call last):\n",
      "  File \"/home/Nicholas/.venv/lib/python3.6/site-packages/optuna/study.py\", line 468, in _run_trial\n",
      "    result = func(trial)\n",
      "  File \"/home/Nicholas/trading-gym/rl-baselines-zoo/utils/hyperparams_opt.py\", line 76, in objective\n",
      "    trial.n_actions = env_fn(n_envs=1).action_space.shape[0]\n",
      "TypeError: 'GAIAPredictorsContinuousV9' object is not callable\n",
      "[W 2019-07-30 23:47:24,736] Setting status of trial#62 as TrialState.FAIL because of the following error: TypeError(\"'GAIAPredictorsContinuousV9' object is not callable\",)\n",
      "Traceback (most recent call last):\n",
      "  File \"/home/Nicholas/.venv/lib/python3.6/site-packages/optuna/study.py\", line 468, in _run_trial\n",
      "    result = func(trial)\n",
      "  File \"/home/Nicholas/trading-gym/rl-baselines-zoo/utils/hyperparams_opt.py\", line 76, in objective\n",
      "    trial.n_actions = env_fn(n_envs=1).action_space.shape[0]\n",
      "TypeError: 'GAIAPredictorsContinuousV9' object is not callable\n",
      "[W 2019-07-30 23:47:24,738] Setting status of trial#63 as TrialState.FAIL because of the following error: TypeError(\"'GAIAPredictorsContinuousV9' object is not callable\",)\n",
      "Traceback (most recent call last):\n",
      "  File \"/home/Nicholas/.venv/lib/python3.6/site-packages/optuna/study.py\", line 468, in _run_trial\n",
      "    result = func(trial)\n",
      "  File \"/home/Nicholas/trading-gym/rl-baselines-zoo/utils/hyperparams_opt.py\", line 76, in objective\n",
      "    trial.n_actions = env_fn(n_envs=1).action_space.shape[0]\n",
      "TypeError: 'GAIAPredictorsContinuousV9' object is not callable\n",
      "[W 2019-07-30 23:47:25,738] Setting status of trial#64 as TrialState.FAIL because of the following error: TypeError(\"'GAIAPredictorsContinuousV9' object is not callable\",)\n",
      "Traceback (most recent call last):\n",
      "  File \"/home/Nicholas/.venv/lib/python3.6/site-packages/optuna/study.py\", line 468, in _run_trial\n",
      "    result = func(trial)\n",
      "  File \"/home/Nicholas/trading-gym/rl-baselines-zoo/utils/hyperparams_opt.py\", line 76, in objective\n",
      "    trial.n_actions = env_fn(n_envs=1).action_space.shape[0]\n",
      "TypeError: 'GAIAPredictorsContinuousV9' object is not callable\n",
      "[W 2019-07-30 23:47:25,738] Setting status of trial#65 as TrialState.FAIL because of the following error: TypeError(\"'GAIAPredictorsContinuousV9' object is not callable\",)\n",
      "Traceback (most recent call last):\n",
      "  File \"/home/Nicholas/.venv/lib/python3.6/site-packages/optuna/study.py\", line 468, in _run_trial\n",
      "    result = func(trial)\n",
      "  File \"/home/Nicholas/trading-gym/rl-baselines-zoo/utils/hyperparams_opt.py\", line 76, in objective\n",
      "    trial.n_actions = env_fn(n_envs=1).action_space.shape[0]\n",
      "TypeError: 'GAIAPredictorsContinuousV9' object is not callable\n",
      "[W 2019-07-30 23:47:26,763] Setting status of trial#66 as TrialState.FAIL because of the following error: TypeError(\"'GAIAPredictorsContinuousV9' object is not callable\",)\n",
      "Traceback (most recent call last):\n",
      "  File \"/home/Nicholas/.venv/lib/python3.6/site-packages/optuna/study.py\", line 468, in _run_trial\n",
      "    result = func(trial)\n",
      "  File \"/home/Nicholas/trading-gym/rl-baselines-zoo/utils/hyperparams_opt.py\", line 76, in objective\n",
      "    trial.n_actions = env_fn(n_envs=1).action_space.shape[0]\n",
      "TypeError: 'GAIAPredictorsContinuousV9' object is not callable\n",
      "[W 2019-07-30 23:47:26,778] Setting status of trial#67 as TrialState.FAIL because of the following error: TypeError(\"'GAIAPredictorsContinuousV9' object is not callable\",)\n",
      "Traceback (most recent call last):\n",
      "  File \"/home/Nicholas/.venv/lib/python3.6/site-packages/optuna/study.py\", line 468, in _run_trial\n",
      "    result = func(trial)\n",
      "  File \"/home/Nicholas/trading-gym/rl-baselines-zoo/utils/hyperparams_opt.py\", line 76, in objective\n",
      "    trial.n_actions = env_fn(n_envs=1).action_space.shape[0]\n",
      "TypeError: 'GAIAPredictorsContinuousV9' object is not callable\n",
      "[W 2019-07-30 23:47:27,200] Setting status of trial#68 as TrialState.FAIL because of the following error: TypeError(\"'GAIAPredictorsContinuousV9' object is not callable\",)\n",
      "Traceback (most recent call last):\n",
      "  File \"/home/Nicholas/.venv/lib/python3.6/site-packages/optuna/study.py\", line 468, in _run_trial\n",
      "    result = func(trial)\n",
      "  File \"/home/Nicholas/trading-gym/rl-baselines-zoo/utils/hyperparams_opt.py\", line 76, in objective\n",
      "    trial.n_actions = env_fn(n_envs=1).action_space.shape[0]\n",
      "TypeError: 'GAIAPredictorsContinuousV9' object is not callable\n",
      "[W 2019-07-30 23:47:28,207] Setting status of trial#69 as TrialState.FAIL because of the following error: TypeError(\"'GAIAPredictorsContinuousV9' object is not callable\",)\n",
      "Traceback (most recent call last):\n",
      "  File \"/home/Nicholas/.venv/lib/python3.6/site-packages/optuna/study.py\", line 468, in _run_trial\n",
      "    result = func(trial)\n",
      "  File \"/home/Nicholas/trading-gym/rl-baselines-zoo/utils/hyperparams_opt.py\", line 76, in objective\n",
      "    trial.n_actions = env_fn(n_envs=1).action_space.shape[0]\n",
      "TypeError: 'GAIAPredictorsContinuousV9' object is not callable\n",
      "[W 2019-07-30 23:47:28,208] Setting status of trial#70 as TrialState.FAIL because of the following error: TypeError(\"'GAIAPredictorsContinuousV9' object is not callable\",)\n",
      "Traceback (most recent call last):\n",
      "  File \"/home/Nicholas/.venv/lib/python3.6/site-packages/optuna/study.py\", line 468, in _run_trial\n",
      "    result = func(trial)\n",
      "  File \"/home/Nicholas/trading-gym/rl-baselines-zoo/utils/hyperparams_opt.py\", line 76, in objective\n",
      "    trial.n_actions = env_fn(n_envs=1).action_space.shape[0]\n",
      "TypeError: 'GAIAPredictorsContinuousV9' object is not callable\n",
      "[W 2019-07-30 23:47:29,208] Setting status of trial#71 as TrialState.FAIL because of the following error: TypeError(\"'GAIAPredictorsContinuousV9' object is not callable\",)\n",
      "Traceback (most recent call last):\n",
      "  File \"/home/Nicholas/.venv/lib/python3.6/site-packages/optuna/study.py\", line 468, in _run_trial\n",
      "    result = func(trial)\n",
      "  File \"/home/Nicholas/trading-gym/rl-baselines-zoo/utils/hyperparams_opt.py\", line 76, in objective\n",
      "    trial.n_actions = env_fn(n_envs=1).action_space.shape[0]\n",
      "TypeError: 'GAIAPredictorsContinuousV9' object is not callable\n",
      "[W 2019-07-30 23:47:29,210] Setting status of trial#72 as TrialState.FAIL because of the following error: TypeError(\"'GAIAPredictorsContinuousV9' object is not callable\",)\n",
      "Traceback (most recent call last):\n",
      "  File \"/home/Nicholas/.venv/lib/python3.6/site-packages/optuna/study.py\", line 468, in _run_trial\n",
      "    result = func(trial)\n",
      "  File \"/home/Nicholas/trading-gym/rl-baselines-zoo/utils/hyperparams_opt.py\", line 76, in objective\n",
      "    trial.n_actions = env_fn(n_envs=1).action_space.shape[0]\n",
      "TypeError: 'GAIAPredictorsContinuousV9' object is not callable\n",
      "[W 2019-07-30 23:47:30,209] Setting status of trial#73 as TrialState.FAIL because of the following error: TypeError(\"'GAIAPredictorsContinuousV9' object is not callable\",)\n",
      "Traceback (most recent call last):\n",
      "  File \"/home/Nicholas/.venv/lib/python3.6/site-packages/optuna/study.py\", line 468, in _run_trial\n",
      "    result = func(trial)\n",
      "  File \"/home/Nicholas/trading-gym/rl-baselines-zoo/utils/hyperparams_opt.py\", line 76, in objective\n",
      "    trial.n_actions = env_fn(n_envs=1).action_space.shape[0]\n",
      "TypeError: 'GAIAPredictorsContinuousV9' object is not callable\n",
      "[W 2019-07-30 23:47:30,210] Setting status of trial#74 as TrialState.FAIL because of the following error: TypeError(\"'GAIAPredictorsContinuousV9' object is not callable\",)\n",
      "Traceback (most recent call last):\n",
      "  File \"/home/Nicholas/.venv/lib/python3.6/site-packages/optuna/study.py\", line 468, in _run_trial\n",
      "    result = func(trial)\n",
      "  File \"/home/Nicholas/trading-gym/rl-baselines-zoo/utils/hyperparams_opt.py\", line 76, in objective\n",
      "    trial.n_actions = env_fn(n_envs=1).action_space.shape[0]\n"
     ]
    },
    {
     "name": "stderr",
     "output_type": "stream",
     "text": [
      "TypeError: 'GAIAPredictorsContinuousV9' object is not callable\n",
      "[W 2019-07-30 23:47:31,210] Setting status of trial#75 as TrialState.FAIL because of the following error: TypeError(\"'GAIAPredictorsContinuousV9' object is not callable\",)\n",
      "Traceback (most recent call last):\n",
      "  File \"/home/Nicholas/.venv/lib/python3.6/site-packages/optuna/study.py\", line 468, in _run_trial\n",
      "    result = func(trial)\n",
      "  File \"/home/Nicholas/trading-gym/rl-baselines-zoo/utils/hyperparams_opt.py\", line 76, in objective\n",
      "    trial.n_actions = env_fn(n_envs=1).action_space.shape[0]\n",
      "TypeError: 'GAIAPredictorsContinuousV9' object is not callable\n",
      "[W 2019-07-30 23:47:31,210] Setting status of trial#76 as TrialState.FAIL because of the following error: TypeError(\"'GAIAPredictorsContinuousV9' object is not callable\",)\n",
      "Traceback (most recent call last):\n",
      "  File \"/home/Nicholas/.venv/lib/python3.6/site-packages/optuna/study.py\", line 468, in _run_trial\n",
      "    result = func(trial)\n",
      "  File \"/home/Nicholas/trading-gym/rl-baselines-zoo/utils/hyperparams_opt.py\", line 76, in objective\n",
      "    trial.n_actions = env_fn(n_envs=1).action_space.shape[0]\n",
      "TypeError: 'GAIAPredictorsContinuousV9' object is not callable\n",
      "[W 2019-07-30 23:47:32,210] Setting status of trial#77 as TrialState.FAIL because of the following error: TypeError(\"'GAIAPredictorsContinuousV9' object is not callable\",)\n",
      "Traceback (most recent call last):\n",
      "  File \"/home/Nicholas/.venv/lib/python3.6/site-packages/optuna/study.py\", line 468, in _run_trial\n",
      "    result = func(trial)\n",
      "  File \"/home/Nicholas/trading-gym/rl-baselines-zoo/utils/hyperparams_opt.py\", line 76, in objective\n",
      "    trial.n_actions = env_fn(n_envs=1).action_space.shape[0]\n",
      "TypeError: 'GAIAPredictorsContinuousV9' object is not callable\n",
      "[W 2019-07-30 23:47:32,212] Setting status of trial#78 as TrialState.FAIL because of the following error: TypeError(\"'GAIAPredictorsContinuousV9' object is not callable\",)\n",
      "Traceback (most recent call last):\n",
      "  File \"/home/Nicholas/.venv/lib/python3.6/site-packages/optuna/study.py\", line 468, in _run_trial\n",
      "    result = func(trial)\n",
      "  File \"/home/Nicholas/trading-gym/rl-baselines-zoo/utils/hyperparams_opt.py\", line 76, in objective\n",
      "    trial.n_actions = env_fn(n_envs=1).action_space.shape[0]\n",
      "TypeError: 'GAIAPredictorsContinuousV9' object is not callable\n",
      "[W 2019-07-30 23:47:33,210] Setting status of trial#79 as TrialState.FAIL because of the following error: TypeError(\"'GAIAPredictorsContinuousV9' object is not callable\",)\n",
      "Traceback (most recent call last):\n",
      "  File \"/home/Nicholas/.venv/lib/python3.6/site-packages/optuna/study.py\", line 468, in _run_trial\n",
      "    result = func(trial)\n",
      "  File \"/home/Nicholas/trading-gym/rl-baselines-zoo/utils/hyperparams_opt.py\", line 76, in objective\n",
      "    trial.n_actions = env_fn(n_envs=1).action_space.shape[0]\n",
      "TypeError: 'GAIAPredictorsContinuousV9' object is not callable\n",
      "[W 2019-07-30 23:47:33,212] Setting status of trial#80 as TrialState.FAIL because of the following error: TypeError(\"'GAIAPredictorsContinuousV9' object is not callable\",)\n",
      "Traceback (most recent call last):\n",
      "  File \"/home/Nicholas/.venv/lib/python3.6/site-packages/optuna/study.py\", line 468, in _run_trial\n",
      "    result = func(trial)\n",
      "  File \"/home/Nicholas/trading-gym/rl-baselines-zoo/utils/hyperparams_opt.py\", line 76, in objective\n",
      "    trial.n_actions = env_fn(n_envs=1).action_space.shape[0]\n",
      "TypeError: 'GAIAPredictorsContinuousV9' object is not callable\n",
      "[W 2019-07-30 23:47:34,211] Setting status of trial#81 as TrialState.FAIL because of the following error: TypeError(\"'GAIAPredictorsContinuousV9' object is not callable\",)\n",
      "Traceback (most recent call last):\n",
      "  File \"/home/Nicholas/.venv/lib/python3.6/site-packages/optuna/study.py\", line 468, in _run_trial\n",
      "    result = func(trial)\n",
      "  File \"/home/Nicholas/trading-gym/rl-baselines-zoo/utils/hyperparams_opt.py\", line 76, in objective\n",
      "    trial.n_actions = env_fn(n_envs=1).action_space.shape[0]\n",
      "TypeError: 'GAIAPredictorsContinuousV9' object is not callable\n",
      "[W 2019-07-30 23:47:34,212] Setting status of trial#82 as TrialState.FAIL because of the following error: TypeError(\"'GAIAPredictorsContinuousV9' object is not callable\",)\n",
      "Traceback (most recent call last):\n",
      "  File \"/home/Nicholas/.venv/lib/python3.6/site-packages/optuna/study.py\", line 468, in _run_trial\n",
      "    result = func(trial)\n",
      "  File \"/home/Nicholas/trading-gym/rl-baselines-zoo/utils/hyperparams_opt.py\", line 76, in objective\n",
      "    trial.n_actions = env_fn(n_envs=1).action_space.shape[0]\n",
      "TypeError: 'GAIAPredictorsContinuousV9' object is not callable\n",
      "[W 2019-07-30 23:47:35,212] Setting status of trial#83 as TrialState.FAIL because of the following error: TypeError(\"'GAIAPredictorsContinuousV9' object is not callable\",)\n",
      "Traceback (most recent call last):\n",
      "  File \"/home/Nicholas/.venv/lib/python3.6/site-packages/optuna/study.py\", line 468, in _run_trial\n",
      "    result = func(trial)\n",
      "  File \"/home/Nicholas/trading-gym/rl-baselines-zoo/utils/hyperparams_opt.py\", line 76, in objective\n",
      "    trial.n_actions = env_fn(n_envs=1).action_space.shape[0]\n",
      "TypeError: 'GAIAPredictorsContinuousV9' object is not callable\n",
      "[W 2019-07-30 23:47:35,212] Setting status of trial#84 as TrialState.FAIL because of the following error: TypeError(\"'GAIAPredictorsContinuousV9' object is not callable\",)\n",
      "Traceback (most recent call last):\n",
      "  File \"/home/Nicholas/.venv/lib/python3.6/site-packages/optuna/study.py\", line 468, in _run_trial\n",
      "    result = func(trial)\n",
      "  File \"/home/Nicholas/trading-gym/rl-baselines-zoo/utils/hyperparams_opt.py\", line 76, in objective\n",
      "    trial.n_actions = env_fn(n_envs=1).action_space.shape[0]\n",
      "TypeError: 'GAIAPredictorsContinuousV9' object is not callable\n",
      "[W 2019-07-30 23:47:36,212] Setting status of trial#85 as TrialState.FAIL because of the following error: TypeError(\"'GAIAPredictorsContinuousV9' object is not callable\",)\n",
      "Traceback (most recent call last):\n",
      "  File \"/home/Nicholas/.venv/lib/python3.6/site-packages/optuna/study.py\", line 468, in _run_trial\n",
      "    result = func(trial)\n",
      "  File \"/home/Nicholas/trading-gym/rl-baselines-zoo/utils/hyperparams_opt.py\", line 76, in objective\n",
      "    trial.n_actions = env_fn(n_envs=1).action_space.shape[0]\n",
      "TypeError: 'GAIAPredictorsContinuousV9' object is not callable\n",
      "[W 2019-07-30 23:47:36,213] Setting status of trial#86 as TrialState.FAIL because of the following error: TypeError(\"'GAIAPredictorsContinuousV9' object is not callable\",)\n",
      "Traceback (most recent call last):\n",
      "  File \"/home/Nicholas/.venv/lib/python3.6/site-packages/optuna/study.py\", line 468, in _run_trial\n",
      "    result = func(trial)\n",
      "  File \"/home/Nicholas/trading-gym/rl-baselines-zoo/utils/hyperparams_opt.py\", line 76, in objective\n",
      "    trial.n_actions = env_fn(n_envs=1).action_space.shape[0]\n",
      "TypeError: 'GAIAPredictorsContinuousV9' object is not callable\n",
      "[W 2019-07-30 23:47:37,213] Setting status of trial#87 as TrialState.FAIL because of the following error: TypeError(\"'GAIAPredictorsContinuousV9' object is not callable\",)\n",
      "Traceback (most recent call last):\n",
      "  File \"/home/Nicholas/.venv/lib/python3.6/site-packages/optuna/study.py\", line 468, in _run_trial\n",
      "    result = func(trial)\n",
      "  File \"/home/Nicholas/trading-gym/rl-baselines-zoo/utils/hyperparams_opt.py\", line 76, in objective\n",
      "    trial.n_actions = env_fn(n_envs=1).action_space.shape[0]\n",
      "TypeError: 'GAIAPredictorsContinuousV9' object is not callable\n",
      "[W 2019-07-30 23:47:37,216] Setting status of trial#88 as TrialState.FAIL because of the following error: TypeError(\"'GAIAPredictorsContinuousV9' object is not callable\",)\n",
      "Traceback (most recent call last):\n",
      "  File \"/home/Nicholas/.venv/lib/python3.6/site-packages/optuna/study.py\", line 468, in _run_trial\n",
      "    result = func(trial)\n",
      "  File \"/home/Nicholas/trading-gym/rl-baselines-zoo/utils/hyperparams_opt.py\", line 76, in objective\n",
      "    trial.n_actions = env_fn(n_envs=1).action_space.shape[0]\n",
      "TypeError: 'GAIAPredictorsContinuousV9' object is not callable\n",
      "[W 2019-07-30 23:47:38,214] Setting status of trial#89 as TrialState.FAIL because of the following error: TypeError(\"'GAIAPredictorsContinuousV9' object is not callable\",)\n",
      "Traceback (most recent call last):\n",
      "  File \"/home/Nicholas/.venv/lib/python3.6/site-packages/optuna/study.py\", line 468, in _run_trial\n",
      "    result = func(trial)\n",
      "  File \"/home/Nicholas/trading-gym/rl-baselines-zoo/utils/hyperparams_opt.py\", line 76, in objective\n",
      "    trial.n_actions = env_fn(n_envs=1).action_space.shape[0]\n"
     ]
    },
    {
     "name": "stderr",
     "output_type": "stream",
     "text": [
      "TypeError: 'GAIAPredictorsContinuousV9' object is not callable\n",
      "[W 2019-07-30 23:47:38,215] Setting status of trial#90 as TrialState.FAIL because of the following error: TypeError(\"'GAIAPredictorsContinuousV9' object is not callable\",)\n",
      "Traceback (most recent call last):\n",
      "  File \"/home/Nicholas/.venv/lib/python3.6/site-packages/optuna/study.py\", line 468, in _run_trial\n",
      "    result = func(trial)\n",
      "  File \"/home/Nicholas/trading-gym/rl-baselines-zoo/utils/hyperparams_opt.py\", line 76, in objective\n",
      "    trial.n_actions = env_fn(n_envs=1).action_space.shape[0]\n",
      "TypeError: 'GAIAPredictorsContinuousV9' object is not callable\n",
      "[W 2019-07-30 23:47:39,215] Setting status of trial#91 as TrialState.FAIL because of the following error: TypeError(\"'GAIAPredictorsContinuousV9' object is not callable\",)\n",
      "Traceback (most recent call last):\n",
      "  File \"/home/Nicholas/.venv/lib/python3.6/site-packages/optuna/study.py\", line 468, in _run_trial\n",
      "    result = func(trial)\n",
      "  File \"/home/Nicholas/trading-gym/rl-baselines-zoo/utils/hyperparams_opt.py\", line 76, in objective\n",
      "    trial.n_actions = env_fn(n_envs=1).action_space.shape[0]\n",
      "TypeError: 'GAIAPredictorsContinuousV9' object is not callable\n",
      "[W 2019-07-30 23:47:39,216] Setting status of trial#92 as TrialState.FAIL because of the following error: TypeError(\"'GAIAPredictorsContinuousV9' object is not callable\",)\n",
      "Traceback (most recent call last):\n",
      "  File \"/home/Nicholas/.venv/lib/python3.6/site-packages/optuna/study.py\", line 468, in _run_trial\n",
      "    result = func(trial)\n",
      "  File \"/home/Nicholas/trading-gym/rl-baselines-zoo/utils/hyperparams_opt.py\", line 76, in objective\n",
      "    trial.n_actions = env_fn(n_envs=1).action_space.shape[0]\n",
      "TypeError: 'GAIAPredictorsContinuousV9' object is not callable\n",
      "[W 2019-07-30 23:47:40,445] Setting status of trial#93 as TrialState.FAIL because of the following error: TypeError(\"'GAIAPredictorsContinuousV9' object is not callable\",)\n",
      "Traceback (most recent call last):\n",
      "  File \"/home/Nicholas/.venv/lib/python3.6/site-packages/optuna/study.py\", line 468, in _run_trial\n",
      "    result = func(trial)\n",
      "  File \"/home/Nicholas/trading-gym/rl-baselines-zoo/utils/hyperparams_opt.py\", line 76, in objective\n",
      "    trial.n_actions = env_fn(n_envs=1).action_space.shape[0]\n",
      "TypeError: 'GAIAPredictorsContinuousV9' object is not callable\n",
      "[W 2019-07-30 23:47:40,445] Setting status of trial#94 as TrialState.FAIL because of the following error: TypeError(\"'GAIAPredictorsContinuousV9' object is not callable\",)\n",
      "Traceback (most recent call last):\n",
      "  File \"/home/Nicholas/.venv/lib/python3.6/site-packages/optuna/study.py\", line 468, in _run_trial\n",
      "    result = func(trial)\n",
      "  File \"/home/Nicholas/trading-gym/rl-baselines-zoo/utils/hyperparams_opt.py\", line 76, in objective\n",
      "    trial.n_actions = env_fn(n_envs=1).action_space.shape[0]\n",
      "TypeError: 'GAIAPredictorsContinuousV9' object is not callable\n",
      "[W 2019-07-30 23:47:41,449] Setting status of trial#95 as TrialState.FAIL because of the following error: TypeError(\"'GAIAPredictorsContinuousV9' object is not callable\",)\n",
      "Traceback (most recent call last):\n",
      "  File \"/home/Nicholas/.venv/lib/python3.6/site-packages/optuna/study.py\", line 468, in _run_trial\n",
      "    result = func(trial)\n",
      "  File \"/home/Nicholas/trading-gym/rl-baselines-zoo/utils/hyperparams_opt.py\", line 76, in objective\n",
      "    trial.n_actions = env_fn(n_envs=1).action_space.shape[0]\n",
      "TypeError: 'GAIAPredictorsContinuousV9' object is not callable\n",
      "[W 2019-07-30 23:47:41,450] Setting status of trial#96 as TrialState.FAIL because of the following error: TypeError(\"'GAIAPredictorsContinuousV9' object is not callable\",)\n",
      "Traceback (most recent call last):\n",
      "  File \"/home/Nicholas/.venv/lib/python3.6/site-packages/optuna/study.py\", line 468, in _run_trial\n",
      "    result = func(trial)\n",
      "  File \"/home/Nicholas/trading-gym/rl-baselines-zoo/utils/hyperparams_opt.py\", line 76, in objective\n",
      "    trial.n_actions = env_fn(n_envs=1).action_space.shape[0]\n",
      "TypeError: 'GAIAPredictorsContinuousV9' object is not callable\n",
      "[W 2019-07-30 23:47:42,450] Setting status of trial#97 as TrialState.FAIL because of the following error: TypeError(\"'GAIAPredictorsContinuousV9' object is not callable\",)\n",
      "Traceback (most recent call last):\n",
      "  File \"/home/Nicholas/.venv/lib/python3.6/site-packages/optuna/study.py\", line 468, in _run_trial\n",
      "    result = func(trial)\n",
      "  File \"/home/Nicholas/trading-gym/rl-baselines-zoo/utils/hyperparams_opt.py\", line 76, in objective\n",
      "    trial.n_actions = env_fn(n_envs=1).action_space.shape[0]\n",
      "TypeError: 'GAIAPredictorsContinuousV9' object is not callable\n",
      "[W 2019-07-30 23:47:42,452] Setting status of trial#98 as TrialState.FAIL because of the following error: TypeError(\"'GAIAPredictorsContinuousV9' object is not callable\",)\n",
      "Traceback (most recent call last):\n",
      "  File \"/home/Nicholas/.venv/lib/python3.6/site-packages/optuna/study.py\", line 468, in _run_trial\n",
      "    result = func(trial)\n",
      "  File \"/home/Nicholas/trading-gym/rl-baselines-zoo/utils/hyperparams_opt.py\", line 76, in objective\n",
      "    trial.n_actions = env_fn(n_envs=1).action_space.shape[0]\n",
      "TypeError: 'GAIAPredictorsContinuousV9' object is not callable\n",
      "[W 2019-07-30 23:47:43,451] Setting status of trial#99 as TrialState.FAIL because of the following error: TypeError(\"'GAIAPredictorsContinuousV9' object is not callable\",)\n",
      "Traceback (most recent call last):\n",
      "  File \"/home/Nicholas/.venv/lib/python3.6/site-packages/optuna/study.py\", line 468, in _run_trial\n",
      "    result = func(trial)\n",
      "  File \"/home/Nicholas/trading-gym/rl-baselines-zoo/utils/hyperparams_opt.py\", line 76, in objective\n",
      "    trial.n_actions = env_fn(n_envs=1).action_space.shape[0]\n",
      "TypeError: 'GAIAPredictorsContinuousV9' object is not callable\n"
     ]
    },
    {
     "name": "stdout",
     "output_type": "stream",
     "text": [
      "Number of finished trials:  100\n",
      "Best trial:\n"
     ]
    },
    {
     "ename": "ValueError",
     "evalue": "No trials are completed yet.",
     "output_type": "error",
     "traceback": [
      "\u001b[0;31m---------------------------------------------------------------------------\u001b[0m",
      "\u001b[0;31mValueError\u001b[0m                                Traceback (most recent call last)",
      "\u001b[0;32m<ipython-input-74-1929b8c0d75b>\u001b[0m in \u001b[0;36m<module>\u001b[0;34m\u001b[0m\n\u001b[1;32m      7\u001b[0m                                     \u001b[0msampler_method\u001b[0m \u001b[0;34m=\u001b[0m \u001b[0moptim_hparam\u001b[0m\u001b[0;34m[\u001b[0m\u001b[0;34m'sampler'\u001b[0m\u001b[0;34m]\u001b[0m\u001b[0;34m,\u001b[0m\u001b[0;34m\u001b[0m\u001b[0;34m\u001b[0m\u001b[0m\n\u001b[1;32m      8\u001b[0m                                     \u001b[0mpruner_method\u001b[0m \u001b[0;34m=\u001b[0m \u001b[0moptim_hparam\u001b[0m\u001b[0;34m[\u001b[0m\u001b[0;34m'pruner'\u001b[0m\u001b[0;34m]\u001b[0m\u001b[0;34m,\u001b[0m\u001b[0;34m\u001b[0m\u001b[0;34m\u001b[0m\u001b[0m\n\u001b[0;32m----> 9\u001b[0;31m                                     verbose = optim_hparam['verbose'])\n\u001b[0m\u001b[1;32m     10\u001b[0m \u001b[0;34m\u001b[0m\u001b[0m\n\u001b[1;32m     11\u001b[0m report_name = \"report_{}_{}-trials-{}-{}-{}.csv\".format(optim_hparam['env_id'], \\\n",
      "\u001b[0;32m~/trading-gym/rl-baselines-zoo/utils/hyperparams_opt.py\u001b[0m in \u001b[0;36mhyperparam_optimization\u001b[0;34m(algo, model_fn, env_fn, n_trials, n_timesteps, hyperparams, n_jobs, sampler_method, pruner_method, seed, verbose)\u001b[0m\n\u001b[1;32m    180\u001b[0m \u001b[0;34m\u001b[0m\u001b[0m\n\u001b[1;32m    181\u001b[0m     \u001b[0mprint\u001b[0m\u001b[0;34m(\u001b[0m\u001b[0;34m'Best trial:'\u001b[0m\u001b[0;34m)\u001b[0m\u001b[0;34m\u001b[0m\u001b[0;34m\u001b[0m\u001b[0m\n\u001b[0;32m--> 182\u001b[0;31m     \u001b[0mtrial\u001b[0m \u001b[0;34m=\u001b[0m \u001b[0mstudy\u001b[0m\u001b[0;34m.\u001b[0m\u001b[0mbest_trial\u001b[0m\u001b[0;34m\u001b[0m\u001b[0;34m\u001b[0m\u001b[0m\n\u001b[0m\u001b[1;32m    183\u001b[0m \u001b[0;34m\u001b[0m\u001b[0m\n\u001b[1;32m    184\u001b[0m     \u001b[0mprint\u001b[0m\u001b[0;34m(\u001b[0m\u001b[0;34m'Value: '\u001b[0m\u001b[0;34m,\u001b[0m \u001b[0mtrial\u001b[0m\u001b[0;34m.\u001b[0m\u001b[0mvalue\u001b[0m\u001b[0;34m)\u001b[0m\u001b[0;34m\u001b[0m\u001b[0;34m\u001b[0m\u001b[0m\n",
      "\u001b[0;32m~/.venv/lib/python3.6/site-packages/optuna/study.py\u001b[0m in \u001b[0;36mbest_trial\u001b[0;34m(self)\u001b[0m\n\u001b[1;32m    196\u001b[0m         \"\"\"\n\u001b[1;32m    197\u001b[0m \u001b[0;34m\u001b[0m\u001b[0m\n\u001b[0;32m--> 198\u001b[0;31m         \u001b[0;32mreturn\u001b[0m \u001b[0mself\u001b[0m\u001b[0;34m.\u001b[0m\u001b[0mstorage\u001b[0m\u001b[0;34m.\u001b[0m\u001b[0mget_best_trial\u001b[0m\u001b[0;34m(\u001b[0m\u001b[0mself\u001b[0m\u001b[0;34m.\u001b[0m\u001b[0mstudy_id\u001b[0m\u001b[0;34m)\u001b[0m\u001b[0;34m\u001b[0m\u001b[0;34m\u001b[0m\u001b[0m\n\u001b[0m\u001b[1;32m    199\u001b[0m \u001b[0;34m\u001b[0m\u001b[0m\n\u001b[1;32m    200\u001b[0m     \u001b[0;34m@\u001b[0m\u001b[0mproperty\u001b[0m\u001b[0;34m\u001b[0m\u001b[0;34m\u001b[0m\u001b[0m\n",
      "\u001b[0;32m~/.venv/lib/python3.6/site-packages/optuna/storages/base.py\u001b[0m in \u001b[0;36mget_best_trial\u001b[0;34m(self, study_id)\u001b[0m\n\u001b[1;32m    180\u001b[0m \u001b[0;34m\u001b[0m\u001b[0m\n\u001b[1;32m    181\u001b[0m         \u001b[0;32mif\u001b[0m \u001b[0mlen\u001b[0m\u001b[0;34m(\u001b[0m\u001b[0mall_trials\u001b[0m\u001b[0;34m)\u001b[0m \u001b[0;34m==\u001b[0m \u001b[0;36m0\u001b[0m\u001b[0;34m:\u001b[0m\u001b[0;34m\u001b[0m\u001b[0;34m\u001b[0m\u001b[0m\n\u001b[0;32m--> 182\u001b[0;31m             \u001b[0;32mraise\u001b[0m \u001b[0mValueError\u001b[0m\u001b[0;34m(\u001b[0m\u001b[0;34m'No trials are completed yet.'\u001b[0m\u001b[0;34m)\u001b[0m\u001b[0;34m\u001b[0m\u001b[0;34m\u001b[0m\u001b[0m\n\u001b[0m\u001b[1;32m    183\u001b[0m \u001b[0;34m\u001b[0m\u001b[0m\n\u001b[1;32m    184\u001b[0m         \u001b[0;32mif\u001b[0m \u001b[0mself\u001b[0m\u001b[0;34m.\u001b[0m\u001b[0mget_study_direction\u001b[0m\u001b[0;34m(\u001b[0m\u001b[0mstudy_id\u001b[0m\u001b[0;34m)\u001b[0m \u001b[0;34m==\u001b[0m \u001b[0mstructs\u001b[0m\u001b[0;34m.\u001b[0m\u001b[0mStudyDirection\u001b[0m\u001b[0;34m.\u001b[0m\u001b[0mMAXIMIZE\u001b[0m\u001b[0;34m:\u001b[0m\u001b[0;34m\u001b[0m\u001b[0;34m\u001b[0m\u001b[0m\n",
      "\u001b[0;31mValueError\u001b[0m: No trials are completed yet."
     ]
    }
   ],
   "source": [
    "print(\"Optimizing hyperparameters\")\n",
    "\n",
    "data_frame = hyperparam_optimization(optim_hparam['RL_algo'],create_model,optim_hparam['env_id'],\n",
    "                                    n_trials = optim_hparam['n_trials'], \n",
    "                                    hyperparams=hyperparams,\n",
    "                                    n_jobs = optim_hparam['n_parallel_jobs'], \n",
    "                                    sampler_method = optim_hparam['sampler'], \n",
    "                                    pruner_method = optim_hparam['pruner'], \n",
    "                                    verbose = optim_hparam['verbose'])\n",
    "\n",
    "report_name = \"report_{}_{}-trials-{}-{}-{}.csv\".format(optim_hparam['env_id'], \\\n",
    "                                                        optim_hparam['n_trials'],\\\n",
    "                                                        optim_hparam['sampler'], \\\n",
    "                                                        optim_hparam['pruner'])\n",
    "\n",
    "log_path = os.path.join(optim_hparam['log_folder'], optim_hparam['RL_algo'], report_name)\n",
    "\n",
    "print(\"Writing report to {}\".format(log_path))\n",
    "\n",
    "os.makedirs(os.path.dirname(log_path), exist_ok=True)\n",
    "data_frame.to_csv(log_path)\n",
    "print(\"Optimization complete\")"
   ]
  },
  {
   "cell_type": "code",
   "execution_count": null,
   "metadata": {},
   "outputs": [],
   "source": [
    "# first give it a go with two folds. \n",
    "\n",
    "\n",
    "\n",
    "\n",
    "n_actions = env.action_space.shape[-1]\n",
    "param_noise = None\n",
    "# param_noise = AdaptiveParamNoiseSpec(initial_stddev=0.1, desired_action_stddev=0.1)\n",
    "t_steps = 500000\n",
    "\n",
    "action_noise = OrnsteinUhlenbeckActionNoise(mean=np.zeros(n_actions), sigma=float(0.5) * np.ones(n_actions))\n",
    "\n",
    "#  if you use param_noise, need to use LnMlpPolicy instead \n",
    "model = DDPG(MlpPolicy, env, verbose=0, param_noise=param_noise, action_noise=action_noise)\n",
    "model.learn(total_timesteps=t_steps)\n",
    "t_steps = '500k'\n",
    "model.save(\"saved_models/2folds_tuning/DDPG/DDPG_v9_steps={}\".format(t_steps))\n",
    "\n",
    "# del model # remove to demonstrate saving and loading"
   ]
  },
  {
   "cell_type": "code",
   "execution_count": null,
   "metadata": {},
   "outputs": [],
   "source": []
  },
  {
   "cell_type": "code",
   "execution_count": null,
   "metadata": {},
   "outputs": [],
   "source": []
  },
  {
   "cell_type": "code",
   "execution_count": null,
   "metadata": {},
   "outputs": [],
   "source": []
  },
  {
   "cell_type": "code",
   "execution_count": null,
   "metadata": {},
   "outputs": [],
   "source": []
  },
  {
   "cell_type": "markdown",
   "metadata": {},
   "source": [
    "Then reload the agent and  "
   ]
  },
  {
   "cell_type": "code",
   "execution_count": null,
   "metadata": {},
   "outputs": [],
   "source": [
    "episode = env.sample_episode(\n",
    "        fold = 'test-set',\n",
    "        stable_model=True,\n",
    "        model=model,\n",
    "        episode_length=None,\n",
    "        benchmark=env._load_benchmark().squeeze(),\n",
    "        risk_free=env._load_risk_free().squeeze(),\n",
    "        burn=1,\n",
    "    )\n",
    "episode.renderer.plotly_report()\n",
    "episode.renderer.tearsheet()"
   ]
  },
  {
   "cell_type": "code",
   "execution_count": null,
   "metadata": {},
   "outputs": [],
   "source": []
  },
  {
   "cell_type": "code",
   "execution_count": null,
   "metadata": {},
   "outputs": [],
   "source": []
  },
  {
   "cell_type": "code",
   "execution_count": null,
   "metadata": {},
   "outputs": [],
   "source": []
  }
 ],
 "metadata": {
  "kernelspec": {
   "display_name": "Python 3",
   "language": "python",
   "name": "python3"
  },
  "language_info": {
   "codemirror_mode": {
    "name": "ipython",
    "version": 3
   },
   "file_extension": ".py",
   "mimetype": "text/x-python",
   "name": "python",
   "nbconvert_exporter": "python",
   "pygments_lexer": "ipython3",
   "version": "3.6.8"
  }
 },
 "nbformat": 4,
 "nbformat_minor": 2
}
