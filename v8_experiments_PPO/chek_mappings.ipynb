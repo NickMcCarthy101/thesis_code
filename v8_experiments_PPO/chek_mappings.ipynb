{
 "cells": [
  {
   "cell_type": "code",
   "execution_count": 7,
   "metadata": {},
   "outputs": [
    {
     "data": {
      "text/html": [
       "        <script type=\"text/javascript\">\n",
       "        window.PlotlyConfig = {MathJaxConfig: 'local'};\n",
       "        if (window.MathJax) {MathJax.Hub.Config({SVG: {font: \"STIX-Web\"}});}\n",
       "        if (typeof require !== 'undefined') {\n",
       "        require.undef(\"plotly\");\n",
       "        requirejs.config({\n",
       "            paths: {\n",
       "                'plotly': ['https://cdn.plot.ly/plotly-latest.min']\n",
       "            }\n",
       "        });\n",
       "        require(['plotly'], function(Plotly) {\n",
       "            window._Plotly = Plotly;\n",
       "        });\n",
       "        }\n",
       "        </script>\n",
       "        "
      ]
     },
     "metadata": {},
     "output_type": "display_data"
    },
    {
     "name": "stderr",
     "output_type": "stream",
     "text": [
      "2019-07-15 09:55:34,962\tERROR worker.py:1343 -- Calling ray.init() again after it has already been called.\n"
     ]
    },
    {
     "data": {
      "text/plain": [
       "('trading-gym', '0.7.6')"
      ]
     },
     "execution_count": 7,
     "metadata": {},
     "output_type": "execute_result"
    }
   ],
   "source": [
    "import numpy as np\n",
    "import pandas as pd\n",
    "import cufflinks\n",
    "import json\n",
    "import os\n",
    "from copy import deepcopy\n",
    "from datetime import datetime\n",
    "\n",
    "import trading_gym\n",
    "from trading_gym.ray.logger import calculate_tearsheet, CustomLogger, PPOTensorboard\n",
    "from trading_gym.registry.gaia.v7.env import GAIAPredictorsContinuousV7\n",
    "from trading_gym.ray.models import MultiLayersPerceptron\n",
    "\n",
    "import ray\n",
    "from ray import rllib\n",
    "from ray import tune\n",
    "from ray.rllib.models import ModelCatalog\n",
    "from ray.rllib.models.model import Model\n",
    "from ray.rllib.models.misc import normc_initializer, get_activation_fn\n",
    "from ray import cloudpickle\n",
    "from ray.utils import binary_to_hex, hex_to_binary\n",
    "\n",
    "import tensorflow as tf\n",
    "import tensorflow.contrib.slim as slim\n",
    "\n",
    "ModelCatalog.register_custom_model(MultiLayersPerceptron.__name__, MultiLayersPerceptron)\n",
    "cufflinks.go_offline()\n",
    "ray.init(ignore_reinit_error=True)\n",
    "trading_gym.__package__, trading_gym.__version__"
   ]
  },
  {
   "cell_type": "code",
   "execution_count": 2,
   "metadata": {},
   "outputs": [],
   "source": [
    "from ray.rllib.models import ModelCatalog\n",
    "from ray.rllib.models.model import Model\n",
    "from ray.rllib.models.misc import normc_initializer, get_activation_fn\n",
    "import tensorflow as tf\n",
    "import tensorflow.contrib.slim as slim\n",
    "\n",
    "\n",
    "class MLP(Model):\n",
    "    def _build_layers_v2(self, input_dict: dict, num_outputs: int, config: dict):\n",
    "        import tensorflow.contrib.slim as slim\n",
    "\n",
    "        with tf.name_scope(\"fc_net\"):\n",
    "            last_layer = input_dict['obs']\n",
    "            activation = get_activation_fn(config.get(\"fcnet_activation\"))\n",
    "            for i, size in enumerate(config.get(\"fcnet_hiddens\"), 1):\n",
    "                last_layer = slim.fully_connected(\n",
    "                    inputs=last_layer,\n",
    "                    num_outputs=size,\n",
    "                    weights_initializer=normc_initializer(1.0),\n",
    "                    activation_fn=activation,\n",
    "                    scope=\"fc{}\".format(i),\n",
    "                )\n",
    "#                 We don't need any dropout at this stage\n",
    "#                 last_layer = tf.layers.dropout(\n",
    "#                     inputs=last_layer,\n",
    "#                     rate=config['custom_options'][\"fcnet_dropout_rate\"],\n",
    "#                     training=input_dict['is_training'],\n",
    "#                     name=\"dropout{}\".format(i),\n",
    "#                 )\n",
    "            output = slim.fully_connected(\n",
    "                inputs=last_layer,\n",
    "                num_outputs=num_outputs,\n",
    "                weights_initializer=normc_initializer(0.01),\n",
    "                activation_fn=None,\n",
    "                scope=\"fc_out\",\n",
    "            )\n",
    "            return output, last_layer\n",
    "\n",
    "ModelCatalog.register_custom_model(MLP.__name__, MLP)"
   ]
  },
  {
   "cell_type": "code",
   "execution_count": 3,
   "metadata": {},
   "outputs": [],
   "source": [
    "def cloudpickleloads(obj):\n",
    "    if isinstance(obj, dict):\n",
    "        try:\n",
    "            return cloudpickle.loads(hex_to_binary(obj[\"value\"]))\n",
    "        except:\n",
    "            for key, value in obj.items():\n",
    "                if isinstance(value, dict):\n",
    "                    if sorted(value) == ['_type', 'value']:\n",
    "                        obj[key] = cloudpickle.loads(hex_to_binary(value[\"value\"]))\n",
    "                    else:\n",
    "                        obj[key] = cloudpickleloads(value)\n",
    "                elif isinstance(value, list):\n",
    "                    for i, item in enumerate(value):\n",
    "                        obj[key][i] = cloudpickleloads(item)\n",
    "    return obj"
   ]
  },
  {
   "cell_type": "code",
   "execution_count": 4,
   "metadata": {},
   "outputs": [],
   "source": [
    "# Actually with transaction cost now (Default)\n",
    "paths = {2007: '/home/Nicholas/trading-gym/notebooks/registry/gaia/v8/logs/tran_cost/clip_0.8-tc-WalkForward-750k2007/experiment_state-2019-07-04_09-43-03.json',\n",
    "        2008: '/home/Nicholas/trading-gym/notebooks/registry/gaia/v8/logs/tran_cost/clip_0.8-tc-WalkForward-750k2008/experiment_state-2019-07-04_10-15-25.json',\n",
    "        2009: '/home/Nicholas/trading-gym/notebooks/registry/gaia/v8/logs/tran_cost/clip_0.8-tc-WalkForward-750k2009/experiment_state-2019-07-04_10-51-51.json',\n",
    "        2010: '/home/Nicholas/trading-gym/notebooks/registry/gaia/v8/logs/tran_cost/clip_0.8-tc-WalkForward-750k2010/experiment_state-2019-07-04_11-28-12.json',\n",
    "        2011: '/home/Nicholas/trading-gym/notebooks/registry/gaia/v8/logs/tran_cost/clip_0.8-tc-WalkForward-750k2011/experiment_state-2019-07-04_11-57-09.json',\n",
    "        2012: '/home/Nicholas/trading-gym/notebooks/registry/gaia/v8/logs/tran_cost/clip_0.8-tc-WalkForward-750k2012/experiment_state-2019-07-04_12-23-50.json',\n",
    "        2013: '/home/Nicholas/trading-gym/notebooks/registry/gaia/v8/logs/tran_cost/clip_0.8-tc-WalkForward-750k2013/experiment_state-2019-07-04_12-50-33.json',\n",
    "        2014: '/home/Nicholas/trading-gym/notebooks/registry/gaia/v8/logs/tran_cost/clip_0.8-tc-WalkForward-750k2014/experiment_state-2019-07-04_13-16-57.json',\n",
    "        2015: '/home/Nicholas/trading-gym/notebooks/registry/gaia/v8/logs/tran_cost/clip_0.8-tc-WalkForward-750k2015/experiment_state-2019-07-04_13-44-00.json',\n",
    "        2016: '/home/Nicholas/trading-gym/notebooks/registry/gaia/v8/logs/tran_cost/clip_0.8-tc-WalkForward-750k2016/experiment_state-2019-07-04_14-14-27.json',\n",
    "        2017: '/home/Nicholas/trading-gym/notebooks/registry/gaia/v8/logs/tran_cost/clip_0.8-tc-WalkForward-750k2017/experiment_state-2019-07-04_14-49-49.json'\n",
    "        }\n",
    "\n",
    "# With double trans costs\n",
    "# paths = {2007: '/home/Nicholas/trading-gym/notebooks/registry/gaia/v8/logs/tran_cost_double/clip_0.8-tc-WalkForward-750k2007/experiment_state-2019-07-08_09-08-56.json',\n",
    "#         2008: '/home/Nicholas/trading-gym/notebooks/registry/gaia/v8/logs/tran_cost_double/clip_0.8-tc-WalkForward-750k2008/experiment_state-2019-07-08_09-34-49.json',\n",
    "#         2009: '/home/Nicholas/trading-gym/notebooks/registry/gaia/v8/logs/tran_cost_double/clip_0.8-tc-WalkForward-750k2009/experiment_state-2019-07-08_10-02-15.json',\n",
    "#         2010: '/home/Nicholas/trading-gym/notebooks/registry/gaia/v8/logs/tran_cost_double/clip_0.8-tc-WalkForward-750k2010/experiment_state-2019-07-08_10-29-33.json',\n",
    "#         2011: '/home/Nicholas/trading-gym/notebooks/registry/gaia/v8/logs/tran_cost_double/clip_0.8-tc-WalkForward-750k2011/experiment_state-2019-07-08_10-58-06.json',\n",
    "#         2012: '/home/Nicholas/trading-gym/notebooks/registry/gaia/v8/logs/tran_cost_double/clip_0.8-tc-WalkForward-750k2012/experiment_state-2019-07-08_11-24-29.json',\n",
    "#         2013: '/home/Nicholas/trading-gym/notebooks/registry/gaia/v8/logs/tran_cost_double/clip_0.8-tc-WalkForward-750k2013/experiment_state-2019-07-08_11-50-59.json',\n",
    "#         2014: '/home/Nicholas/trading-gym/notebooks/registry/gaia/v8/logs/tran_cost_double/clip_0.8-tc-WalkForward-750k2014/experiment_state-2019-07-08_12-18-35.json',\n",
    "#         2015: '/home/Nicholas/trading-gym/notebooks/registry/gaia/v8/logs/tran_cost_double/clip_0.8-tc-WalkForward-750k2015/experiment_state-2019-07-08_12-47-25.json',\n",
    "#         2016: '/home/Nicholas/trading-gym/notebooks/registry/gaia/v8/logs/tran_cost_double/clip_0.8-tc-WalkForward-750k2016/experiment_state-2019-07-08_13-14-43.json',\n",
    "#         2017: '/home/Nicholas/trading-gym/notebooks/registry/gaia/v8/logs/tran_cost_double/clip_0.8-tc-WalkForward-750k2017/experiment_state-2019-07-08_13-41-22.json'\n",
    "#         } \n",
    "\n",
    "# Now triple trans costs\n",
    "# paths = {2007: '/home/Nicholas/trading-gym/notebooks/registry/gaia/v8/logs/tran_cost_triple/clip_0.8-tc-WalkForward-750k2007/experiment_state-2019-07-08_14-26-15.json',\n",
    "#         2008: '/home/Nicholas/trading-gym/notebooks/registry/gaia/v8/logs/tran_cost_triple/clip_0.8-tc-WalkForward-750k2008/experiment_state-2019-07-08_14-52-38.json',\n",
    "#         2009: '/home/Nicholas/trading-gym/notebooks/registry/gaia/v8/logs/tran_cost_triple/clip_0.8-tc-WalkForward-750k2009/experiment_state-2019-07-08_15-20-13.json',\n",
    "#         2010: '/home/Nicholas/trading-gym/notebooks/registry/gaia/v8/logs/tran_cost_triple/clip_0.8-tc-WalkForward-750k2010/experiment_state-2019-07-08_15-47-57.json',\n",
    "#         2011: '/home/Nicholas/trading-gym/notebooks/registry/gaia/v8/logs/tran_cost_triple/clip_0.8-tc-WalkForward-750k2011/experiment_state-2019-07-08_16-15-37.json',\n",
    "#         2012: '/home/Nicholas/trading-gym/notebooks/registry/gaia/v8/logs/tran_cost_triple/clip_0.8-tc-WalkForward-750k2012/experiment_state-2019-07-08_16-44-41.json',\n",
    "#         2013: '/home/Nicholas/trading-gym/notebooks/registry/gaia/v8/logs/tran_cost_triple/clip_0.8-tc-WalkForward-750k2013/experiment_state-2019-07-08_17-13-04.json',\n",
    "#         2014: '/home/Nicholas/trading-gym/notebooks/registry/gaia/v8/logs/tran_cost_triple/clip_0.8-tc-WalkForward-750k2014/experiment_state-2019-07-08_17-39-13.json',\n",
    "#         2015: '/home/Nicholas/trading-gym/notebooks/registry/gaia/v8/logs/tran_cost_double/clip_0.8-tc-WalkForward-750k2015/experiment_state-2019-07-08_12-47-25.json',\n",
    "#         2016: '/home/Nicholas/trading-gym/notebooks/registry/gaia/v8/logs/tran_cost_double/clip_0.8-tc-WalkForward-750k2016/experiment_state-2019-07-08_13-14-43.json',\n",
    "#         2017: '/home/Nicholas/trading-gym/notebooks/registry/gaia/v8/logs/tran_cost_double/clip_0.8-tc-WalkForward-750k2017/'\n",
    "#         } "
   ]
  },
  {
   "cell_type": "code",
   "execution_count": 5,
   "metadata": {},
   "outputs": [
    {
     "name": "stdout",
     "output_type": "stream",
     "text": [
      "2007\n"
     ]
    },
    {
     "ename": "Exception",
     "evalue": "Unknown config parameter `local_evaluator_tf_session_args` ",
     "output_type": "error",
     "traceback": [
      "\u001b[0;31m---------------------------------------------------------------------------\u001b[0m",
      "\u001b[0;31mException\u001b[0m                                 Traceback (most recent call last)",
      "\u001b[0;32m<ipython-input-5-0277dad28da0>\u001b[0m in \u001b[0;36m<module>\u001b[0;34m\u001b[0m\n\u001b[1;32m     18\u001b[0m \u001b[0;34m\u001b[0m\u001b[0m\n\u001b[1;32m     19\u001b[0m \u001b[0;34m\u001b[0m\u001b[0m\n\u001b[0;32m---> 20\u001b[0;31m     \u001b[0magent\u001b[0m \u001b[0;34m=\u001b[0m \u001b[0mrllib\u001b[0m\u001b[0;34m.\u001b[0m\u001b[0magents\u001b[0m\u001b[0;34m.\u001b[0m\u001b[0mppo\u001b[0m\u001b[0;34m.\u001b[0m\u001b[0mPPOTrainer\u001b[0m\u001b[0;34m(\u001b[0m\u001b[0mconfig\u001b[0m\u001b[0;34m,\u001b[0m \u001b[0menv_cls\u001b[0m\u001b[0;34m)\u001b[0m\u001b[0;34m\u001b[0m\u001b[0;34m\u001b[0m\u001b[0m\n\u001b[0m\u001b[1;32m     21\u001b[0m     \u001b[0magent\u001b[0m\u001b[0;34m.\u001b[0m\u001b[0mrestore\u001b[0m\u001b[0;34m(\u001b[0m\u001b[0mpath_restore\u001b[0m\u001b[0;34m)\u001b[0m\u001b[0;34m\u001b[0m\u001b[0;34m\u001b[0m\u001b[0m\n\u001b[1;32m     22\u001b[0m \u001b[0;34m\u001b[0m\u001b[0m\n",
      "\u001b[0;32m~/.venv/lib/python3.6/site-packages/ray/rllib/agents/trainer_template.py\u001b[0m in \u001b[0;36m__init__\u001b[0;34m(self, config, env, logger_creator)\u001b[0m\n\u001b[1;32m     85\u001b[0m \u001b[0;34m\u001b[0m\u001b[0m\n\u001b[1;32m     86\u001b[0m         \u001b[0;32mdef\u001b[0m \u001b[0m__init__\u001b[0m\u001b[0;34m(\u001b[0m\u001b[0mself\u001b[0m\u001b[0;34m,\u001b[0m \u001b[0mconfig\u001b[0m\u001b[0;34m=\u001b[0m\u001b[0;32mNone\u001b[0m\u001b[0;34m,\u001b[0m \u001b[0menv\u001b[0m\u001b[0;34m=\u001b[0m\u001b[0;32mNone\u001b[0m\u001b[0;34m,\u001b[0m \u001b[0mlogger_creator\u001b[0m\u001b[0;34m=\u001b[0m\u001b[0;32mNone\u001b[0m\u001b[0;34m)\u001b[0m\u001b[0;34m:\u001b[0m\u001b[0;34m\u001b[0m\u001b[0;34m\u001b[0m\u001b[0m\n\u001b[0;32m---> 87\u001b[0;31m             \u001b[0mTrainer\u001b[0m\u001b[0;34m.\u001b[0m\u001b[0m__init__\u001b[0m\u001b[0;34m(\u001b[0m\u001b[0mself\u001b[0m\u001b[0;34m,\u001b[0m \u001b[0mconfig\u001b[0m\u001b[0;34m,\u001b[0m \u001b[0menv\u001b[0m\u001b[0;34m,\u001b[0m \u001b[0mlogger_creator\u001b[0m\u001b[0;34m)\u001b[0m\u001b[0;34m\u001b[0m\u001b[0;34m\u001b[0m\u001b[0m\n\u001b[0m\u001b[1;32m     88\u001b[0m \u001b[0;34m\u001b[0m\u001b[0m\n\u001b[1;32m     89\u001b[0m         \u001b[0;32mdef\u001b[0m \u001b[0m_init\u001b[0m\u001b[0;34m(\u001b[0m\u001b[0mself\u001b[0m\u001b[0;34m,\u001b[0m \u001b[0mconfig\u001b[0m\u001b[0;34m,\u001b[0m \u001b[0menv_creator\u001b[0m\u001b[0;34m)\u001b[0m\u001b[0;34m:\u001b[0m\u001b[0;34m\u001b[0m\u001b[0;34m\u001b[0m\u001b[0m\n",
      "\u001b[0;32m~/.venv/lib/python3.6/site-packages/ray/rllib/agents/trainer.py\u001b[0m in \u001b[0;36m__init__\u001b[0;34m(self, config, env, logger_creator)\u001b[0m\n\u001b[1;32m    321\u001b[0m             \u001b[0mlogger_creator\u001b[0m \u001b[0;34m=\u001b[0m \u001b[0mdefault_logger_creator\u001b[0m\u001b[0;34m\u001b[0m\u001b[0;34m\u001b[0m\u001b[0m\n\u001b[1;32m    322\u001b[0m \u001b[0;34m\u001b[0m\u001b[0m\n\u001b[0;32m--> 323\u001b[0;31m         \u001b[0mTrainable\u001b[0m\u001b[0;34m.\u001b[0m\u001b[0m__init__\u001b[0m\u001b[0;34m(\u001b[0m\u001b[0mself\u001b[0m\u001b[0;34m,\u001b[0m \u001b[0mconfig\u001b[0m\u001b[0;34m,\u001b[0m \u001b[0mlogger_creator\u001b[0m\u001b[0;34m)\u001b[0m\u001b[0;34m\u001b[0m\u001b[0;34m\u001b[0m\u001b[0m\n\u001b[0m\u001b[1;32m    324\u001b[0m \u001b[0;34m\u001b[0m\u001b[0m\n\u001b[1;32m    325\u001b[0m     \u001b[0;34m@\u001b[0m\u001b[0mclassmethod\u001b[0m\u001b[0;34m\u001b[0m\u001b[0;34m\u001b[0m\u001b[0m\n",
      "\u001b[0;32m~/.venv/lib/python3.6/site-packages/ray/tune/trainable.py\u001b[0m in \u001b[0;36m__init__\u001b[0;34m(self, config, logger_creator)\u001b[0m\n\u001b[1;32m     85\u001b[0m         \u001b[0mself\u001b[0m\u001b[0;34m.\u001b[0m\u001b[0m_iterations_since_restore\u001b[0m \u001b[0;34m=\u001b[0m \u001b[0;36m0\u001b[0m\u001b[0;34m\u001b[0m\u001b[0;34m\u001b[0m\u001b[0m\n\u001b[1;32m     86\u001b[0m         \u001b[0mself\u001b[0m\u001b[0;34m.\u001b[0m\u001b[0m_restored\u001b[0m \u001b[0;34m=\u001b[0m \u001b[0;32mFalse\u001b[0m\u001b[0;34m\u001b[0m\u001b[0;34m\u001b[0m\u001b[0m\n\u001b[0;32m---> 87\u001b[0;31m         \u001b[0mself\u001b[0m\u001b[0;34m.\u001b[0m\u001b[0m_setup\u001b[0m\u001b[0;34m(\u001b[0m\u001b[0mcopy\u001b[0m\u001b[0;34m.\u001b[0m\u001b[0mdeepcopy\u001b[0m\u001b[0;34m(\u001b[0m\u001b[0mself\u001b[0m\u001b[0;34m.\u001b[0m\u001b[0mconfig\u001b[0m\u001b[0;34m)\u001b[0m\u001b[0;34m)\u001b[0m\u001b[0;34m\u001b[0m\u001b[0;34m\u001b[0m\u001b[0m\n\u001b[0m\u001b[1;32m     88\u001b[0m         \u001b[0mself\u001b[0m\u001b[0;34m.\u001b[0m\u001b[0m_local_ip\u001b[0m \u001b[0;34m=\u001b[0m \u001b[0mray\u001b[0m\u001b[0;34m.\u001b[0m\u001b[0mservices\u001b[0m\u001b[0;34m.\u001b[0m\u001b[0mget_node_ip_address\u001b[0m\u001b[0;34m(\u001b[0m\u001b[0;34m)\u001b[0m\u001b[0;34m\u001b[0m\u001b[0;34m\u001b[0m\u001b[0m\n\u001b[1;32m     89\u001b[0m \u001b[0;34m\u001b[0m\u001b[0m\n",
      "\u001b[0;32m~/.venv/lib/python3.6/site-packages/ray/rllib/agents/trainer.py\u001b[0m in \u001b[0;36m_setup\u001b[0;34m(self, config)\u001b[0m\n\u001b[1;32m    422\u001b[0m         merged_config = deep_update(merged_config, config,\n\u001b[1;32m    423\u001b[0m                                     \u001b[0mself\u001b[0m\u001b[0;34m.\u001b[0m\u001b[0m_allow_unknown_configs\u001b[0m\u001b[0;34m,\u001b[0m\u001b[0;34m\u001b[0m\u001b[0;34m\u001b[0m\u001b[0m\n\u001b[0;32m--> 424\u001b[0;31m                                     self._allow_unknown_subkeys)\n\u001b[0m\u001b[1;32m    425\u001b[0m         \u001b[0mself\u001b[0m\u001b[0;34m.\u001b[0m\u001b[0mraw_user_config\u001b[0m \u001b[0;34m=\u001b[0m \u001b[0mconfig\u001b[0m\u001b[0;34m\u001b[0m\u001b[0;34m\u001b[0m\u001b[0m\n\u001b[1;32m    426\u001b[0m         \u001b[0mself\u001b[0m\u001b[0;34m.\u001b[0m\u001b[0mconfig\u001b[0m \u001b[0;34m=\u001b[0m \u001b[0mmerged_config\u001b[0m\u001b[0;34m\u001b[0m\u001b[0;34m\u001b[0m\u001b[0m\n",
      "\u001b[0;32m~/.venv/lib/python3.6/site-packages/ray/tune/util.py\u001b[0m in \u001b[0;36mdeep_update\u001b[0;34m(original, new_dict, new_keys_allowed, whitelist)\u001b[0m\n\u001b[1;32m     89\u001b[0m         \u001b[0;32mif\u001b[0m \u001b[0mk\u001b[0m \u001b[0;32mnot\u001b[0m \u001b[0;32min\u001b[0m \u001b[0moriginal\u001b[0m\u001b[0;34m:\u001b[0m\u001b[0;34m\u001b[0m\u001b[0;34m\u001b[0m\u001b[0m\n\u001b[1;32m     90\u001b[0m             \u001b[0;32mif\u001b[0m \u001b[0;32mnot\u001b[0m \u001b[0mnew_keys_allowed\u001b[0m\u001b[0;34m:\u001b[0m\u001b[0;34m\u001b[0m\u001b[0;34m\u001b[0m\u001b[0m\n\u001b[0;32m---> 91\u001b[0;31m                 \u001b[0;32mraise\u001b[0m \u001b[0mException\u001b[0m\u001b[0;34m(\u001b[0m\u001b[0;34m\"Unknown config parameter `{}` \"\u001b[0m\u001b[0;34m.\u001b[0m\u001b[0mformat\u001b[0m\u001b[0;34m(\u001b[0m\u001b[0mk\u001b[0m\u001b[0;34m)\u001b[0m\u001b[0;34m)\u001b[0m\u001b[0;34m\u001b[0m\u001b[0;34m\u001b[0m\u001b[0m\n\u001b[0m\u001b[1;32m     92\u001b[0m         \u001b[0;32mif\u001b[0m \u001b[0misinstance\u001b[0m\u001b[0;34m(\u001b[0m\u001b[0moriginal\u001b[0m\u001b[0;34m.\u001b[0m\u001b[0mget\u001b[0m\u001b[0;34m(\u001b[0m\u001b[0mk\u001b[0m\u001b[0;34m)\u001b[0m\u001b[0;34m,\u001b[0m \u001b[0mdict\u001b[0m\u001b[0;34m)\u001b[0m\u001b[0;34m:\u001b[0m\u001b[0;34m\u001b[0m\u001b[0;34m\u001b[0m\u001b[0m\n\u001b[1;32m     93\u001b[0m             \u001b[0;32mif\u001b[0m \u001b[0mk\u001b[0m \u001b[0;32min\u001b[0m \u001b[0mwhitelist\u001b[0m\u001b[0;34m:\u001b[0m\u001b[0;34m\u001b[0m\u001b[0;34m\u001b[0m\u001b[0m\n",
      "\u001b[0;31mException\u001b[0m: Unknown config parameter `local_evaluator_tf_session_args` "
     ]
    }
   ],
   "source": [
    "policies = dict()\n",
    "env_configs = dict()\n",
    "for year, path in paths.items():\n",
    "    print(year)\n",
    "    with open(path) as f:\n",
    "        metadata = json.load(f)\n",
    "        checkpoints = metadata['checkpoints']\n",
    "        runner_data = metadata['runner_data']\n",
    "        stats = metadata['stats']\n",
    "\n",
    "    for checkpoint in checkpoints:\n",
    "        checkpoint = cloudpickleloads(checkpoint)\n",
    "        cp = cloudpickle.loads(hex_to_binary(checkpoint['_checkpoint']))\n",
    "        config = checkpoint['config']\n",
    "        env_cls = config['env']\n",
    "        env_config = config['env_config']\n",
    "        path_restore = os.path.join(checkpoint['logdir'], cp.value)\n",
    "        \n",
    "\n",
    "    agent = rllib.agents.ppo.PPOTrainer(config, env_cls)\n",
    "    agent.restore(path_restore)\n",
    "    \n",
    "    policies[year] = agent.get_policy()\n",
    "    env_configs[year] = env_config"
   ]
  },
  {
   "cell_type": "code",
   "execution_count": null,
   "metadata": {},
   "outputs": [],
   "source": [
    "levels = list()\n",
    "mappings = pd.DataFrame()\n",
    "mapping_functions = dict()\n",
    "for year, policy in policies.items():\n",
    "    print('_______________________________________{}____________________________________________'.format(year))\n",
    "    \n",
    "    env_config = env_configs[year]\n",
    "    env = env_cls(env_config)\n",
    "    episode = env.sample_episode(\n",
    "        fold='test-set',\n",
    "        policy=policy,\n",
    "    )\n",
    "    renderer = env.render(\n",
    "        benchmark=env._load_benchmark().squeeze().loc[str(year)],\n",
    "        risk_free=env._load_risk_free().squeeze().loc[str(year)],\n",
    "    )\n",
    "    renderer.plotly_report()\n",
    "    renderer.tearsheet()\n",
    "    \n",
    "    levels.append(renderer.level.to_frame().pct_change())\n",
    "    \n",
    "    \n",
    "    \n",
    "    actions = pd.DataFrame(episode.actions, index=episode.time, columns=env.action_space.contracts[1:])\n",
    "    states = pd.DataFrame(episode.states, index=episode.time)\n",
    "    target_russell = actions[actions.columns[0]]\n",
    "    mapping = states[0].to_frame('GAIA Predictor').join(target_russell)\n",
    "    mappings = mappings.append(mapping)\n",
    "    \n",
    "    \n",
    "    \n",
    "    this_mapping = dict()\n",
    "    env.reset()\n",
    "    for predictor in np.linspace(-0.01, 0.01, 500):\n",
    "        from trading_gym.registry.gaia.v7.env import EventGAIAPredictor\n",
    "        from scipy.special import softmax\n",
    "        event = EventGAIAPredictor(time=datetime.now(), equities=predictor)\n",
    "        env.add_event(event)\n",
    "        state = env.state.get_values()\n",
    "\n",
    "        _, _, info = policy.compute_single_action(state, [])\n",
    "        logits = info['behaviour_logits']\n",
    "        action = softmax(logits)\n",
    "        target_weight_equity = action[0]\n",
    "        this_mapping[predictor] = target_weight_equity\n",
    "    mapping_functions[year] = this_mapping"
   ]
  },
  {
   "cell_type": "code",
   "execution_count": null,
   "metadata": {},
   "outputs": [],
   "source": [
    "\n",
    "mappings.sort_index().iplot(\n",
    "#     secondary_y='Russell 1000'  ---    This was here before\n",
    "    secondary_y=str(mappings.columns[-1]),\n",
    "    vline=[str(year) for year in range(2008, 2019)]\n",
    ")"
   ]
  },
  {
   "cell_type": "code",
   "execution_count": null,
   "metadata": {
    "scrolled": true
   },
   "outputs": [],
   "source": [
    "pd.DataFrame(mapping_functions).iplot(title='Mapping functions trained with deep reinforcement learning', yTitle='Target weight for Russell 1000', xTitle='Standardized GAIA predictor')"
   ]
  },
  {
   "cell_type": "code",
   "execution_count": null,
   "metadata": {},
   "outputs": [],
   "source": [
    "mappings.set_index('GAIA Predictor').iplot(kind='scatter', mode='markers', size=3, yTitle='Target weight for Russell 1000', xTitle='Standardized GAIA predictor')"
   ]
  }
 ],
 "metadata": {
  "kernelspec": {
   "display_name": "Python 3",
   "language": "python",
   "name": "python3"
  },
  "language_info": {
   "codemirror_mode": {
    "name": "ipython",
    "version": 3
   },
   "file_extension": ".py",
   "mimetype": "text/x-python",
   "name": "python",
   "nbconvert_exporter": "python",
   "pygments_lexer": "ipython3",
   "version": "3.6.8"
  }
 },
 "nbformat": 4,
 "nbformat_minor": 2
}
