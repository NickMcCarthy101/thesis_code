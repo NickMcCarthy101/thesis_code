{
 "cells": [
  {
   "cell_type": "code",
   "execution_count": 1,
   "metadata": {},
   "outputs": [
    {
     "data": {
      "text/html": [
       "        <script type=\"text/javascript\">\n",
       "        window.PlotlyConfig = {MathJaxConfig: 'local'};\n",
       "        if (window.MathJax) {MathJax.Hub.Config({SVG: {font: \"STIX-Web\"}});}\n",
       "        if (typeof require !== 'undefined') {\n",
       "        require.undef(\"plotly\");\n",
       "        requirejs.config({\n",
       "            paths: {\n",
       "                'plotly': ['https://cdn.plot.ly/plotly-latest.min']\n",
       "            }\n",
       "        });\n",
       "        require(['plotly'], function(Plotly) {\n",
       "            window._Plotly = Plotly;\n",
       "        });\n",
       "        }\n",
       "        </script>\n",
       "        "
      ]
     },
     "metadata": {},
     "output_type": "display_data"
    },
    {
     "data": {
      "text/html": [
       "        <script type=\"text/javascript\">\n",
       "        window.PlotlyConfig = {MathJaxConfig: 'local'};\n",
       "        if (window.MathJax) {MathJax.Hub.Config({SVG: {font: \"STIX-Web\"}});}\n",
       "        if (typeof require !== 'undefined') {\n",
       "        require.undef(\"plotly\");\n",
       "        requirejs.config({\n",
       "            paths: {\n",
       "                'plotly': ['https://cdn.plot.ly/plotly-latest.min']\n",
       "            }\n",
       "        });\n",
       "        require(['plotly'], function(Plotly) {\n",
       "            window._Plotly = Plotly;\n",
       "        });\n",
       "        }\n",
       "        </script>\n",
       "        "
      ]
     },
     "metadata": {},
     "output_type": "display_data"
    },
    {
     "name": "stderr",
     "output_type": "stream",
     "text": [
      "2019-07-02 16:32:06,139\tINFO node.py:498 -- Process STDOUT and STDERR is being redirected to /tmp/ray/session_2019-07-02_16-32-06_139369_63649/logs.\n",
      "2019-07-02 16:32:06,263\tINFO services.py:409 -- Waiting for redis server at 127.0.0.1:15915 to respond...\n",
      "2019-07-02 16:32:06,386\tINFO services.py:409 -- Waiting for redis server at 127.0.0.1:15196 to respond...\n",
      "2019-07-02 16:32:06,393\tINFO services.py:806 -- Starting Redis shard with 10.0 GB max memory.\n",
      "2019-07-02 16:32:06,429\tINFO node.py:512 -- Process STDOUT and STDERR is being redirected to /tmp/ray/session_2019-07-02_16-32-06_139369_63649/logs.\n",
      "2019-07-02 16:32:06,431\tWARNING services.py:1294 -- Warning: Capping object memory store to 20.0GB. To increase this further, specify `object_store_memory` when calling ray.init() or ray start.\n",
      "2019-07-02 16:32:06,433\tINFO services.py:1442 -- Starting the Plasma object store with 20.0 GB memory using /dev/shm.\n"
     ]
    },
    {
     "data": {
      "text/plain": [
       "{'node_ip_address': '10.0.5.4',\n",
       " 'redis_address': '10.0.5.4:15915',\n",
       " 'object_store_address': '/tmp/ray/session_2019-07-02_16-32-06_139369_63649/sockets/plasma_store',\n",
       " 'raylet_socket_name': '/tmp/ray/session_2019-07-02_16-32-06_139369_63649/sockets/raylet',\n",
       " 'webui_url': None,\n",
       " 'session_dir': '/tmp/ray/session_2019-07-02_16-32-06_139369_63649'}"
      ]
     },
     "execution_count": 1,
     "metadata": {},
     "output_type": "execute_result"
    }
   ],
   "source": [
    "import numpy as np\n",
    "import pandas as pd\n",
    "import cufflinks\n",
    "import json\n",
    "import os\n",
    "from copy import deepcopy\n",
    "from datetime import datetime\n",
    "\n",
    "import trading_gym\n",
    "from trading_gym.ray.logger import calculate_tearsheet, CustomLogger, PPOTensorboard\n",
    "from trading_gym.registry.gaia.v7.env import GAIAPredictorsContinuousV7\n",
    "from trading_gym.ray.models import MultiLayersPerceptron\n",
    "\n",
    "import ray\n",
    "from ray import rllib\n",
    "from ray import tune\n",
    "from ray.rllib.models import ModelCatalog\n",
    "from ray.rllib.models.model import Model\n",
    "from ray.rllib.models.misc import normc_initializer, get_activation_fn\n",
    "from ray import cloudpickle\n",
    "from ray.utils import binary_to_hex, hex_to_binary\n",
    "\n",
    "import tensorflow as tf\n",
    "import tensorflow.contrib.slim as slim\n",
    "\n",
    "ModelCatalog.register_custom_model(MultiLayersPerceptron.__name__, MultiLayersPerceptron)\n",
    "cufflinks.go_offline()\n",
    "ray.init(ignore_reinit_error=True)"
   ]
  },
  {
   "cell_type": "code",
   "execution_count": 2,
   "metadata": {},
   "outputs": [],
   "source": [
    "from ray.rllib.models import ModelCatalog\n",
    "from ray.rllib.models.model import Model\n",
    "from ray.rllib.models.misc import normc_initializer, get_activation_fn\n",
    "import tensorflow as tf\n",
    "import tensorflow.contrib.slim as slim\n",
    "\n",
    "\n",
    "class MLP(Model):\n",
    "    def _build_layers_v2(self, input_dict: dict, num_outputs: int, config: dict):\n",
    "        import tensorflow.contrib.slim as slim\n",
    "\n",
    "        with tf.name_scope(\"fc_net\"):\n",
    "            last_layer = input_dict['obs']\n",
    "            activation = get_activation_fn(config.get(\"fcnet_activation\"))\n",
    "            for i, size in enumerate(config.get(\"fcnet_hiddens\"), 1):\n",
    "                last_layer = slim.fully_connected(\n",
    "                    inputs=last_layer,\n",
    "                    num_outputs=size,\n",
    "                    weights_initializer=normc_initializer(1.0),\n",
    "                    activation_fn=activation,\n",
    "                    scope=\"fc{}\".format(i),\n",
    "                )\n",
    "#                 We don't need any dropout at this stage\n",
    "#                 last_layer = tf.layers.dropout(\n",
    "#                     inputs=last_layer,\n",
    "#                     rate=config['custom_options'][\"fcnet_dropout_rate\"],\n",
    "#                     training=input_dict['is_training'],\n",
    "#                     name=\"dropout{}\".format(i),\n",
    "#                 )\n",
    "            output = slim.fully_connected(\n",
    "                inputs=last_layer,\n",
    "                num_outputs=num_outputs,\n",
    "                weights_initializer=normc_initializer(0.01),\n",
    "                activation_fn=None,\n",
    "                scope=\"fc_out\",\n",
    "            )\n",
    "            return output, last_layer\n",
    "\n",
    "ModelCatalog.register_custom_model(MLP.__name__, MLP)"
   ]
  },
  {
   "cell_type": "code",
   "execution_count": 3,
   "metadata": {},
   "outputs": [],
   "source": [
    "def cloudpickleloads(obj):\n",
    "    if isinstance(obj, dict):\n",
    "        try:\n",
    "            return cloudpickle.loads(hex_to_binary(obj[\"value\"]))\n",
    "        except:\n",
    "            for key, value in obj.items():\n",
    "                if isinstance(value, dict):\n",
    "                    if sorted(value) == ['_type', 'value']:\n",
    "                        obj[key] = cloudpickle.loads(hex_to_binary(value[\"value\"]))\n",
    "                    else:\n",
    "                        obj[key] = cloudpickleloads(value)\n",
    "                elif isinstance(value, list):\n",
    "                    for i, item in enumerate(value):\n",
    "                        obj[key][i] = cloudpickleloads(item)\n",
    "    return obj"
   ]
  },
  {
   "cell_type": "code",
   "execution_count": 10,
   "metadata": {},
   "outputs": [],
   "source": [
    "# This is for the 0.8 clip (the best run)\n",
    "\n",
    "paths = {2007: '/home/Nicholas/Desktop/trading-gym/notebooks/registry/gaia/v7/logs/PPOclip_0.8-WalkForward-750k2007/experiment_state-2019-06-24_23-35-32.json',\n",
    "        2008: '/home/Nicholas/Desktop/trading-gym/notebooks/registry/gaia/v7/logs/PPOclip_0.8-WalkForward-750k2008/experiment_state-2019-06-25_00-28-20.json',\n",
    "        2009: '/home/Nicholas/Desktop/trading-gym/notebooks/registry/gaia/v7/logs/PPOclip_0.8-WalkForward-750k2009/experiment_state-2019-06-25_01-21-47.json',\n",
    "        2010: '/home/Nicholas/Desktop/trading-gym/notebooks/registry/gaia/v7/logs/PPOclip_0.8-WalkForward-750k2010/experiment_state-2019-06-25_02-14-52.json',\n",
    "        2011: '/home/Nicholas/Desktop/trading-gym/notebooks/registry/gaia/v7/logs/PPOclip_0.8-WalkForward-750k2011/experiment_state-2019-06-25_03-08-23.json',\n",
    "        2012: '/home/Nicholas/Desktop/trading-gym/notebooks/registry/gaia/v7/logs/PPOclip_0.8-WalkForward-750k2012/experiment_state-2019-06-25_04-00-54.json',\n",
    "        2013: '/home/Nicholas/Desktop/trading-gym/notebooks/registry/gaia/v7/logs/PPOclip_0.8-WalkForward-750k2013/experiment_state-2019-06-25_04-54-29.json',\n",
    "        2014: '/home/Nicholas/Desktop/trading-gym/notebooks/registry/gaia/v7/logs/PPOclip_0.8-WalkForward-750k2014/experiment_state-2019-06-25_05-47-18.json',\n",
    "        2015: '/home/Nicholas/Desktop/trading-gym/notebooks/registry/gaia/v7/logs/PPOclip_0.8-WalkForward-750k2015/experiment_state-2019-06-25_06-40-12.json',\n",
    "        2016: '/home/Nicholas/Desktop/trading-gym/notebooks/registry/gaia/v7/logs/PPOclip_0.8-WalkForward-750k2016/experiment_state-2019-06-25_07-33-17.json',\n",
    "        2017: '/home/Nicholas/Desktop/trading-gym/notebooks/registry/gaia/v7/logs/PPOclip_0.8-WalkForward-750k2017/experiment_state-2019-06-25_08-26-33.json'\n",
    "        }\n",
    "\n",
    "# This is 1.0 clip \n",
    "# paths = {2007: '/home/Nicholas/Desktop/trading-gym/notebooks/registry/gaia/v7/PPO Tuning/logs/PPOclip_0.8-WalkForward-750k2007/experiment_state-2019-07-01_10-37-58.json',\n",
    "#         2008: '/home/Nicholas/Desktop/trading-gym/notebooks/registry/gaia/v7/PPO Tuning/logs/PPOclip_0.8-WalkForward-750k2008/experiment_state-2019-07-01_12-18-57.json',\n",
    "#         2009: '/home/Nicholas/Desktop/trading-gym/notebooks/registry/gaia/v7/PPO Tuning/logs/PPOclip_0.8-WalkForward-750k2009/experiment_state-2019-07-01_13-41-34.json',\n",
    "#         2010: '/home/Nicholas/Desktop/trading-gym/notebooks/registry/gaia/v7/PPO Tuning/logs/PPOclip_0.8-WalkForward-750k2010/experiment_state-2019-07-01_14-50-33.json',\n",
    "#         2011: '/home/Nicholas/Desktop/trading-gym/notebooks/registry/gaia/v7/PPO Tuning/logs/PPOclip_0.8-WalkForward-750k2011/experiment_state-2019-07-01_15-59-02.json',\n",
    "#         2012: '/home/Nicholas/Desktop/trading-gym/notebooks/registry/gaia/v7/PPO Tuning/logs/PPOclip_0.8-WalkForward-750k2012/experiment_state-2019-07-01_17-19-21.json',\n",
    "#         2013: '/home/Nicholas/Desktop/trading-gym/notebooks/registry/gaia/v7/PPO Tuning/logs/PPOclip_0.8-WalkForward-750k2013/experiment_state-2019-07-02_11-49-44.json',\n",
    "#         2014: '/home/Nicholas/Desktop/trading-gym/notebooks/registry/gaia/v7/PPO Tuning/logs/PPOclip_0.8-WalkForward-750k2014/experiment_state-2019-07-02_12-12-03.json',\n",
    "#         2015: '/home/Nicholas/Desktop/trading-gym/notebooks/registry/gaia/v7/PPO Tuning/logs/PPOclip_0.8-WalkForward-750k2015/experiment_state-2019-07-02_12-42-28.json',\n",
    "#         2016: '/home/Nicholas/Desktop/trading-gym/notebooks/registry/gaia/v7/PPO Tuning/logs/PPOclip_0.8-WalkForward-750k2016/experiment_state-2019-07-02_13-14-05.json',\n",
    "#         2017: '/home/Nicholas/Desktop/trading-gym/notebooks/registry/gaia/v7/PPO Tuning/logs/PPOclip_0.8-WalkForward-750k2017/experiment_state-2019-07-02_13-46-32.json'\n",
    "#         }"
   ]
  },
  {
   "cell_type": "code",
   "execution_count": 11,
   "metadata": {},
   "outputs": [
    {
     "name": "stdout",
     "output_type": "stream",
     "text": [
      "{'monitor': False, 'log_level': 'INFO', 'callbacks': {'on_episode_start': None, 'on_episode_step': None, 'on_episode_end': None, 'on_sample_end': None, 'on_train_result': tune.function(<function calculate_tearsheet at 0x7feb3f662158>), 'on_postprocess_traj': None}, 'ignore_worker_failures': False, 'model': {'conv_filters': None, 'conv_activation': 'relu', 'fcnet_activation': 'tanh', 'fcnet_hiddens': [256, 256], 'free_log_std': False, 'squash_to_range': False, 'use_lstm': False, 'max_seq_len': 20, 'lstm_cell_size': 256, 'lstm_use_prev_action_reward': False, 'framestack': True, 'dim': 84, 'grayscale': False, 'zero_mean': True, 'custom_preprocessor': None, 'custom_model': 'MLP', 'custom_options': {}}, 'optimizer': {}, 'gamma': 0, 'horizon': None, 'soft_horizon': False, 'env_config': {'folds': {'training-set': [datetime.datetime(1, 1, 1, 0, 0), datetime.datetime(2007, 12, 31, 0, 0)], 'test-set': [datetime.datetime(2008, 1, 1, 0, 0), datetime.datetime(2008, 12, 31, 0, 0)]}}, 'env': <class 'trading_gym.registry.gaia.v7.env.GAIAPredictorsContinuousV7'>, 'clip_rewards': None, 'clip_actions': True, 'preprocessor_pref': 'deepmind', 'evaluation_interval': None, 'evaluation_num_episodes': 10, 'evaluation_config': {}, 'num_workers': 6, 'num_gpus': 0, 'num_cpus_per_worker': 1, 'num_gpus_per_worker': 0, 'custom_resources_per_worker': {}, 'num_cpus_for_driver': 1, 'num_envs_per_worker': 1, 'sample_batch_size': 200, 'train_batch_size': 4000, 'batch_mode': 'complete_episodes', 'sample_async': False, 'observation_filter': 'NoFilter', 'synchronize_filters': True, 'tf_session_args': {'intra_op_parallelism_threads': 2, 'inter_op_parallelism_threads': 2, 'gpu_options': {'allow_growth': True}, 'log_device_placement': False, 'device_count': {'CPU': 1}, 'allow_soft_placement': True}, 'local_evaluator_tf_session_args': {'intra_op_parallelism_threads': 8, 'inter_op_parallelism_threads': 8}, 'compress_observations': False, 'collect_metrics_timeout': 180, 'metrics_smoothing_episodes': 100, 'remote_worker_envs': False, 'remote_env_batch_wait_ms': 0, 'input': 'sampler', 'input_evaluation': ['is', 'wis'], 'postprocess_inputs': False, 'shuffle_buffer_size': 0, 'output': None, 'output_compress_columns': ['obs', 'new_obs'], 'output_max_file_size': 67108864, 'multiagent': {'policies': {}, 'policy_mapping_fn': None, 'policies_to_train': None}, 'use_gae': False, 'lambda': 0, 'kl_coeff': 0.2, 'sgd_minibatch_size': 128, 'num_sgd_iter': 8, 'lr': 1e-05, 'lr_schedule': None, 'vf_share_layers': False, 'vf_loss_coeff': 0, 'entropy_coeff': 1e-05, 'clip_param': 0.8, 'vf_clip_param': 0, 'grad_clip': None, 'kl_target': 0.01, 'simple_optimizer': False, 'straggler_mitigation': False}\n"
     ]
    }
   ],
   "source": [
    "for year,path in paths.items():\n",
    "    with open(path) as f:\n",
    "        metadata = json.load(f)\n",
    "\n",
    "    runner_data = metadata['runner_data']\n",
    "    stats = metadata['stats']\n",
    "\n",
    "    checkpoint = metadata['checkpoints'][-1]\n",
    "    checkpoint = cloudpickleloads(checkpoint)\n",
    "    checkpoint_path = cloudpickle.loads(hex_to_binary(checkpoint['_checkpoint'])).value\n",
    "\n",
    "    config = checkpoint['config']\n",
    "    print(config)\n",
    "    break"
   ]
  },
  {
   "cell_type": "code",
   "execution_count": 12,
   "metadata": {},
   "outputs": [
    {
     "name": "stderr",
     "output_type": "stream",
     "text": [
      "2019-07-05 10:09:41,064\tWARNING ppo.py:153 -- FYI: By default, the value function will not share layers with the policy model ('vf_share_layers': False).\n"
     ]
    },
    {
     "name": "stdout",
     "output_type": "stream",
     "text": [
      "2007\n"
     ]
    },
    {
     "name": "stderr",
     "output_type": "stream",
     "text": [
      "2019-07-05 10:09:42,620\tINFO policy_evaluator.py:311 -- Creating policy evaluation worker 0 on CPU (please ignore any CUDA init errors)\n",
      "2019-07-05 10:09:44,485\tINFO policy_evaluator.py:731 -- Built policy map: {'default_policy': <ray.rllib.policy.tf_policy_template.PPOTFPolicy object at 0x7feaf23739b0>}\n",
      "2019-07-05 10:09:44,488\tINFO policy_evaluator.py:732 -- Built preprocessor map: {'default_policy': <ray.rllib.models.preprocessors.NoPreprocessor object at 0x7feaf2373588>}\n",
      "2019-07-05 10:09:44,491\tINFO policy_evaluator.py:343 -- Built filter map: {'default_policy': <ray.rllib.utils.filter.NoFilter object at 0x7fe592248438>}\n",
      "2019-07-05 10:09:44,650\tINFO multi_gpu_optimizer.py:80 -- LocalMultiGPUOptimizer devices ['/cpu:0']\n"
     ]
    },
    {
     "name": "stdout",
     "output_type": "stream",
     "text": [
      "\u001b[2m\u001b[36m(pid=70711)\u001b[0m 2019-07-05 10:09:52,642\tINFO policy_evaluator.py:311 -- Creating policy evaluation worker 1 on CPU (please ignore any CUDA init errors)\n",
      "\u001b[2m\u001b[36m(pid=70711)\u001b[0m 2019-07-05 10:09:52.674854: I tensorflow/core/platform/cpu_feature_guard.cc:141] Your CPU supports instructions that this TensorFlow binary was not compiled to use: AVX2 FMA\n",
      "\u001b[2m\u001b[36m(pid=70709)\u001b[0m 2019-07-05 10:09:53,085\tINFO policy_evaluator.py:311 -- Creating policy evaluation worker 2 on CPU (please ignore any CUDA init errors)\n",
      "\u001b[2m\u001b[36m(pid=70709)\u001b[0m 2019-07-05 10:09:53.116984: I tensorflow/core/platform/cpu_feature_guard.cc:141] Your CPU supports instructions that this TensorFlow binary was not compiled to use: AVX2 FMA\n"
     ]
    },
    {
     "ename": "FileNotFoundError",
     "evalue": "[Errno 2] No such file or directory: 'logs/PPOclip_0.8-WalkForward-750k2007/PPOTrainer_GAIAPredictorsContinuousV7_0_clip_param=0.8,entropy_coeff=1e-05,kl_coeff=0.2,kl_target=0.01,lr=1e-05,num_sgd_iter=8,tra_2019-06-24_23-35-32hw4gynt_/logs/PPOclip_0.8-WalkForward-750k2007/PPOTrainer_GAIAPredictorsContinuousV7_0_clip_param=0.8,entropy_coeff=1e-05,kl_coeff=0.2,kl_target=0.01,lr=1e-05,num_sgd_iter=8,tra_2019-06-24_23-35-32hw4gynt_/checkpoint_188/checkpoint-188.tune_metadata'",
     "output_type": "error",
     "traceback": [
      "\u001b[0;31m---------------------------------------------------------------------------\u001b[0m",
      "\u001b[0;31mFileNotFoundError\u001b[0m                         Traceback (most recent call last)",
      "\u001b[0;32m<ipython-input-12-0277dad28da0>\u001b[0m in \u001b[0;36m<module>\u001b[0;34m\u001b[0m\n\u001b[1;32m     19\u001b[0m \u001b[0;34m\u001b[0m\u001b[0m\n\u001b[1;32m     20\u001b[0m     \u001b[0magent\u001b[0m \u001b[0;34m=\u001b[0m \u001b[0mrllib\u001b[0m\u001b[0;34m.\u001b[0m\u001b[0magents\u001b[0m\u001b[0;34m.\u001b[0m\u001b[0mppo\u001b[0m\u001b[0;34m.\u001b[0m\u001b[0mPPOTrainer\u001b[0m\u001b[0;34m(\u001b[0m\u001b[0mconfig\u001b[0m\u001b[0;34m,\u001b[0m \u001b[0menv_cls\u001b[0m\u001b[0;34m)\u001b[0m\u001b[0;34m\u001b[0m\u001b[0;34m\u001b[0m\u001b[0m\n\u001b[0;32m---> 21\u001b[0;31m     \u001b[0magent\u001b[0m\u001b[0;34m.\u001b[0m\u001b[0mrestore\u001b[0m\u001b[0;34m(\u001b[0m\u001b[0mpath_restore\u001b[0m\u001b[0;34m)\u001b[0m\u001b[0;34m\u001b[0m\u001b[0;34m\u001b[0m\u001b[0m\n\u001b[0m\u001b[1;32m     22\u001b[0m \u001b[0;34m\u001b[0m\u001b[0m\n\u001b[1;32m     23\u001b[0m     \u001b[0mpolicies\u001b[0m\u001b[0;34m[\u001b[0m\u001b[0myear\u001b[0m\u001b[0;34m]\u001b[0m \u001b[0;34m=\u001b[0m \u001b[0magent\u001b[0m\u001b[0;34m.\u001b[0m\u001b[0mget_policy\u001b[0m\u001b[0;34m(\u001b[0m\u001b[0;34m)\u001b[0m\u001b[0;34m\u001b[0m\u001b[0;34m\u001b[0m\u001b[0m\n",
      "\u001b[0;32m~/.venv/lib/python3.6/site-packages/ray/tune/trainable.py\u001b[0m in \u001b[0;36mrestore\u001b[0;34m(self, checkpoint_path)\u001b[0m\n\u001b[1;32m    313\u001b[0m         \"\"\"\n\u001b[1;32m    314\u001b[0m \u001b[0;34m\u001b[0m\u001b[0m\n\u001b[0;32m--> 315\u001b[0;31m         \u001b[0;32mwith\u001b[0m \u001b[0mopen\u001b[0m\u001b[0;34m(\u001b[0m\u001b[0mcheckpoint_path\u001b[0m \u001b[0;34m+\u001b[0m \u001b[0;34m\".tune_metadata\"\u001b[0m\u001b[0;34m,\u001b[0m \u001b[0;34m\"rb\"\u001b[0m\u001b[0;34m)\u001b[0m \u001b[0;32mas\u001b[0m \u001b[0mf\u001b[0m\u001b[0;34m:\u001b[0m\u001b[0;34m\u001b[0m\u001b[0;34m\u001b[0m\u001b[0m\n\u001b[0m\u001b[1;32m    316\u001b[0m             \u001b[0mmetadata\u001b[0m \u001b[0;34m=\u001b[0m \u001b[0mpickle\u001b[0m\u001b[0;34m.\u001b[0m\u001b[0mload\u001b[0m\u001b[0;34m(\u001b[0m\u001b[0mf\u001b[0m\u001b[0;34m)\u001b[0m\u001b[0;34m\u001b[0m\u001b[0;34m\u001b[0m\u001b[0m\n\u001b[1;32m    317\u001b[0m         \u001b[0mself\u001b[0m\u001b[0;34m.\u001b[0m\u001b[0m_experiment_id\u001b[0m \u001b[0;34m=\u001b[0m \u001b[0mmetadata\u001b[0m\u001b[0;34m[\u001b[0m\u001b[0;34m\"experiment_id\"\u001b[0m\u001b[0;34m]\u001b[0m\u001b[0;34m\u001b[0m\u001b[0;34m\u001b[0m\u001b[0m\n",
      "\u001b[0;31mFileNotFoundError\u001b[0m: [Errno 2] No such file or directory: 'logs/PPOclip_0.8-WalkForward-750k2007/PPOTrainer_GAIAPredictorsContinuousV7_0_clip_param=0.8,entropy_coeff=1e-05,kl_coeff=0.2,kl_target=0.01,lr=1e-05,num_sgd_iter=8,tra_2019-06-24_23-35-32hw4gynt_/logs/PPOclip_0.8-WalkForward-750k2007/PPOTrainer_GAIAPredictorsContinuousV7_0_clip_param=0.8,entropy_coeff=1e-05,kl_coeff=0.2,kl_target=0.01,lr=1e-05,num_sgd_iter=8,tra_2019-06-24_23-35-32hw4gynt_/checkpoint_188/checkpoint-188.tune_metadata'"
     ]
    }
   ],
   "source": [
    "policies = dict()\n",
    "env_configs = dict()\n",
    "for year, path in paths.items():\n",
    "    print(year)\n",
    "    with open(path) as f:\n",
    "        metadata = json.load(f)\n",
    "        checkpoints = metadata['checkpoints']\n",
    "        runner_data = metadata['runner_data']\n",
    "        stats = metadata['stats']\n",
    "\n",
    "    for checkpoint in checkpoints:\n",
    "        checkpoint = cloudpickleloads(checkpoint)\n",
    "        cp = cloudpickle.loads(hex_to_binary(checkpoint['_checkpoint']))\n",
    "        config = checkpoint['config']\n",
    "        env_cls = config['env']\n",
    "        env_config = config['env_config']\n",
    "        path_restore = os.path.join(checkpoint['logdir'], cp.value)\n",
    "        \n",
    "\n",
    "    agent = rllib.agents.ppo.PPOTrainer(config, env_cls)\n",
    "    agent.restore(path_restore)\n",
    "    \n",
    "    policies[year] = agent.get_policy()\n",
    "    env_configs[year] = env_config"
   ]
  },
  {
   "cell_type": "code",
   "execution_count": null,
   "metadata": {
    "scrolled": false
   },
   "outputs": [],
   "source": [
    "levels = list()\n",
    "mappings = pd.DataFrame()\n",
    "mapping_functions = dict()\n",
    "for year, policy in policies.items():\n",
    "    print('_______________________________________{}____________________________________________'.format(year))\n",
    "    \n",
    "    env_config = env_configs[year]\n",
    "    env = env_cls(env_config)\n",
    "    episode = env.sample_episode(\n",
    "        fold='test-set',\n",
    "        policy=policy,\n",
    "    )\n",
    "    renderer = env.render(\n",
    "        benchmark=env._load_benchmark().squeeze().loc[str(year)],\n",
    "        risk_free=env._load_risk_free().squeeze().loc[str(year)],\n",
    "    )\n",
    "    renderer.plotly_report()\n",
    "    renderer.tearsheet()\n",
    "    \n",
    "    levels.append(renderer.level.to_frame().pct_change())\n",
    "    \n",
    "    \n",
    "    \n",
    "    actions = pd.DataFrame(episode.actions, index=episode.time, columns=env.action_space.contracts[1:])\n",
    "    states = pd.DataFrame(episode.states, index=episode.time)\n",
    "    target_russell = actions[actions.columns[0]]\n",
    "    mapping = states[0].to_frame('GAIA Predictor').join(target_russell)\n",
    "    mappings = mappings.append(mapping)\n",
    "    \n",
    "    \n",
    "    \n",
    "    this_mapping = dict()\n",
    "    env.reset()\n",
    "    for predictor in np.linspace(-0.01, 0.01, 500):\n",
    "        from trading_gym.registry.gaia.v7.env import EventGAIAPredictor\n",
    "        from scipy.special import softmax\n",
    "        event = EventGAIAPredictor(time=datetime.now(), equities=predictor)\n",
    "        env.add_event(event)\n",
    "        state = env.state.get_values()\n",
    "\n",
    "        _, _, info = policy.compute_single_action(state, [])\n",
    "        logits = info['behaviour_logits']\n",
    "        action = softmax(logits)\n",
    "        target_weight_equity = action[0]\n",
    "        this_mapping[predictor] = target_weight_equity\n",
    "    mapping_functions[year] = this_mapping"
   ]
  },
  {
   "cell_type": "code",
   "execution_count": null,
   "metadata": {},
   "outputs": [],
   "source": [
    "\n",
    "mappings.sort_index().iplot(\n",
    "#     secondary_y='Russell 1000'  ---    This was here before\n",
    "    secondary_y=str(mappings.columns[-1]),\n",
    "    vline=[str(year) for year in range(2008, 2019)]\n",
    ")"
   ]
  },
  {
   "cell_type": "code",
   "execution_count": null,
   "metadata": {},
   "outputs": [],
   "source": [
    "pd.DataFrame(mapping_functions).iplot(title='Mapping functions trained with deep reinforcement learning', yTitle='Target weight for Russell 1000', xTitle='Standardized GAIA predictor')"
   ]
  },
  {
   "cell_type": "code",
   "execution_count": null,
   "metadata": {},
   "outputs": [
    {
     "name": "stdout",
     "output_type": "stream",
     "text": [
      "\u001b[2m\u001b[36m(pid=70635)\u001b[0m 2019-07-05 10:10:04,673\tINFO policy_evaluator.py:311 -- Creating policy evaluation worker 3 on CPU (please ignore any CUDA init errors)\n",
      "\u001b[2m\u001b[36m(pid=70637)\u001b[0m 2019-07-05 10:10:04,687\tINFO policy_evaluator.py:311 -- Creating policy evaluation worker 4 on CPU (please ignore any CUDA init errors)\n",
      "\u001b[2m\u001b[36m(pid=70637)\u001b[0m 2019-07-05 10:10:04.714207: I tensorflow/core/platform/cpu_feature_guard.cc:141] Your CPU supports instructions that this TensorFlow binary was not compiled to use: AVX2 FMA\n",
      "\u001b[2m\u001b[36m(pid=70635)\u001b[0m 2019-07-05 10:10:04.746383: I tensorflow/core/platform/cpu_feature_guard.cc:141] Your CPU supports instructions that this TensorFlow binary was not compiled to use: AVX2 FMA\n",
      "\u001b[2m\u001b[36m(pid=108336)\u001b[0m 2019-07-05 10:10:06,945\tINFO policy_evaluator.py:311 -- Creating policy evaluation worker 5 on CPU (please ignore any CUDA init errors)\n",
      "\u001b[2m\u001b[36m(pid=108339)\u001b[0m 2019-07-05 10:10:06,920\tINFO policy_evaluator.py:311 -- Creating policy evaluation worker 6 on CPU (please ignore any CUDA init errors)\n",
      "\u001b[2m\u001b[36m(pid=108339)\u001b[0m 2019-07-05 10:10:06.955081: I tensorflow/core/platform/cpu_feature_guard.cc:141] Your CPU supports instructions that this TensorFlow binary was not compiled to use: AVX2 FMA\n",
      "\u001b[2m\u001b[36m(pid=108336)\u001b[0m 2019-07-05 10:10:06.976388: I tensorflow/core/platform/cpu_feature_guard.cc:141] Your CPU supports instructions that this TensorFlow binary was not compiled to use: AVX2 FMA\n",
      "\u001b[2m\u001b[36m(pid=70711)\u001b[0m 2019-07-05 10:10:17,056\tINFO dynamic_tf_policy.py:265 -- Initializing loss function with dummy input:\n",
      "\u001b[2m\u001b[36m(pid=70711)\u001b[0m \n",
      "\u001b[2m\u001b[36m(pid=70711)\u001b[0m { 'action_prob': <tf.Tensor 'default_policy/action_prob:0' shape=(?,) dtype=float32>,\n",
      "\u001b[2m\u001b[36m(pid=70711)\u001b[0m   'actions': <tf.Tensor 'default_policy/actions:0' shape=(?, 2) dtype=float32>,\n",
      "\u001b[2m\u001b[36m(pid=70711)\u001b[0m   'advantages': <tf.Tensor 'default_policy/advantages:0' shape=(?,) dtype=float32>,\n",
      "\u001b[2m\u001b[36m(pid=70711)\u001b[0m   'behaviour_logits': <tf.Tensor 'default_policy/behaviour_logits:0' shape=(?, 2) dtype=float32>,\n",
      "\u001b[2m\u001b[36m(pid=70711)\u001b[0m   'dones': <tf.Tensor 'default_policy/dones:0' shape=(?,) dtype=bool>,\n",
      "\u001b[2m\u001b[36m(pid=70711)\u001b[0m   'new_obs': <tf.Tensor 'default_policy/new_obs:0' shape=(?, 3) dtype=float32>,\n",
      "\u001b[2m\u001b[36m(pid=70711)\u001b[0m   'obs': <tf.Tensor 'default_policy/observation:0' shape=(?, 3) dtype=float32>,\n",
      "\u001b[2m\u001b[36m(pid=70711)\u001b[0m   'prev_actions': <tf.Tensor 'default_policy/action:0' shape=(?, 2) dtype=float32>,\n",
      "\u001b[2m\u001b[36m(pid=70711)\u001b[0m   'prev_rewards': <tf.Tensor 'default_policy/prev_reward:0' shape=(?,) dtype=float32>,\n",
      "\u001b[2m\u001b[36m(pid=70711)\u001b[0m   'rewards': <tf.Tensor 'default_policy/rewards:0' shape=(?,) dtype=float32>,\n",
      "\u001b[2m\u001b[36m(pid=70711)\u001b[0m   'value_targets': <tf.Tensor 'default_policy/value_targets:0' shape=(?,) dtype=float32>,\n",
      "\u001b[2m\u001b[36m(pid=70711)\u001b[0m   'vf_preds': <tf.Tensor 'default_policy/vf_preds:0' shape=(?,) dtype=float32>}\n",
      "\u001b[2m\u001b[36m(pid=70711)\u001b[0m \n",
      "\u001b[2m\u001b[36m(pid=70711)\u001b[0m /home/Nicholas/.venv/lib/python3.6/site-packages/tensorflow/python/ops/gradients_impl.py:112: UserWarning:\n",
      "\u001b[2m\u001b[36m(pid=70711)\u001b[0m \n",
      "\u001b[2m\u001b[36m(pid=70711)\u001b[0m Converting sparse IndexedSlices to a dense Tensor of unknown shape. This may consume a large amount of memory.\n",
      "\u001b[2m\u001b[36m(pid=70711)\u001b[0m \n",
      "\u001b[2m\u001b[36m(pid=70709)\u001b[0m /home/Nicholas/.venv/lib/python3.6/site-packages/tensorflow/python/ops/gradients_impl.py:112: UserWarning:\n",
      "\u001b[2m\u001b[36m(pid=70709)\u001b[0m \n",
      "\u001b[2m\u001b[36m(pid=70709)\u001b[0m Converting sparse IndexedSlices to a dense Tensor of unknown shape. This may consume a large amount of memory.\n",
      "\u001b[2m\u001b[36m(pid=70709)\u001b[0m \n",
      "\u001b[2m\u001b[36m(pid=70635)\u001b[0m /home/Nicholas/.venv/lib/python3.6/site-packages/tensorflow/python/ops/gradients_impl.py:112: UserWarning:\n",
      "\u001b[2m\u001b[36m(pid=70635)\u001b[0m \n",
      "\u001b[2m\u001b[36m(pid=70635)\u001b[0m Converting sparse IndexedSlices to a dense Tensor of unknown shape. This may consume a large amount of memory.\n",
      "\u001b[2m\u001b[36m(pid=70635)\u001b[0m \n",
      "\u001b[2m\u001b[36m(pid=70637)\u001b[0m /home/Nicholas/.venv/lib/python3.6/site-packages/tensorflow/python/ops/gradients_impl.py:112: UserWarning:\n",
      "\u001b[2m\u001b[36m(pid=70637)\u001b[0m \n",
      "\u001b[2m\u001b[36m(pid=70637)\u001b[0m Converting sparse IndexedSlices to a dense Tensor of unknown shape. This may consume a large amount of memory.\n",
      "\u001b[2m\u001b[36m(pid=70637)\u001b[0m \n",
      "\u001b[2m\u001b[36m(pid=108339)\u001b[0m /home/Nicholas/.venv/lib/python3.6/site-packages/tensorflow/python/ops/gradients_impl.py:112: UserWarning:\n",
      "\u001b[2m\u001b[36m(pid=108339)\u001b[0m \n",
      "\u001b[2m\u001b[36m(pid=108339)\u001b[0m Converting sparse IndexedSlices to a dense Tensor of unknown shape. This may consume a large amount of memory.\n",
      "\u001b[2m\u001b[36m(pid=108339)\u001b[0m \n",
      "\u001b[2m\u001b[36m(pid=108336)\u001b[0m /home/Nicholas/.venv/lib/python3.6/site-packages/tensorflow/python/ops/gradients_impl.py:112: UserWarning:\n",
      "\u001b[2m\u001b[36m(pid=108336)\u001b[0m \n",
      "\u001b[2m\u001b[36m(pid=108336)\u001b[0m Converting sparse IndexedSlices to a dense Tensor of unknown shape. This may consume a large amount of memory.\n",
      "\u001b[2m\u001b[36m(pid=108336)\u001b[0m \n"
     ]
    }
   ],
   "source": [
    "mappings.set_index('GAIA Predictor').iplot(kind='scatter', mode='markers', size=3, yTitle='Target weight for Russell 1000', xTitle='Standardized GAIA predictor')"
   ]
  },
  {
   "cell_type": "code",
   "execution_count": null,
   "metadata": {},
   "outputs": [],
   "source": []
  }
 ],
 "metadata": {
  "kernelspec": {
   "display_name": "Python 3",
   "language": "python",
   "name": "python3"
  },
  "language_info": {
   "codemirror_mode": {
    "name": "ipython",
    "version": 3
   },
   "file_extension": ".py",
   "mimetype": "text/x-python",
   "name": "python",
   "nbconvert_exporter": "python",
   "pygments_lexer": "ipython3",
   "version": "3.6.7"
  }
 },
 "nbformat": 4,
 "nbformat_minor": 2
}
